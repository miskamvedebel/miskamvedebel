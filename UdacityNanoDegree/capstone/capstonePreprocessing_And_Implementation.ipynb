{
 "cells": [
  {
   "cell_type": "code",
   "execution_count": 12,
   "metadata": {},
   "outputs": [
    {
     "name": "stdout",
     "output_type": "stream",
     "text": [
      "[nltk_data] Downloading package wordnet to\n",
      "[nltk_data]     C:\\Users\\miska\\AppData\\Roaming\\nltk_data...\n",
      "[nltk_data]   Package wordnet is already up-to-date!\n"
     ]
    }
   ],
   "source": [
    "import numpy as np\n",
    "import pandas as pd\n",
    "import matplotlib.pyplot as plt\n",
    "import nltk\n",
    "import spacy\n",
    "from spacy.lang.en import English\n",
    "spacy.load('en_core_web_sm')\n",
    "nltk.download('wordnet')\n",
    "from nltk.corpus import wordnet as wn\n",
    "from nltk.stem.wordnet import WordNetLemmatizer\n",
    "import re\n",
    "import pickle\n",
    "from helpers import *"
   ]
  },
  {
   "cell_type": "markdown",
   "metadata": {},
   "source": [
    "### Train, validation and test dataset preparation. Data preprocessing."
   ]
  },
  {
   "cell_type": "markdown",
   "metadata": {},
   "source": [
    "In the previous workbook dataset has been reviewed, empty rows has been deleted. It's been identified that positive comments are doiminating in dataset.\n",
    "In this workbook I will create three datasets: train, test and validation. \n",
    "**Due to performance issues** I have to leave only part of the dataset. In this case the final dataset before split will be 150000 of rows. The vocabulary size will be 100. This is tested and it has no MemoryError.\n",
    "The steps that to go thru:\n",
    "1. choose the part of the dataset to go forward;\n",
    "2. split dataset for three different subsets of data.\n",
    "3. data preprocessing:\n",
    "    - data cleansing;\n",
    "    - lemmazation;\n",
    "    - creation of word2vec model;\n",
    "    - creation of bag-of-words model in order to proceed with Naive Bayes;\n",
    "4. train, validation and test datasets creation;\n"
   ]
  },
  {
   "cell_type": "code",
   "execution_count": 2,
   "metadata": {},
   "outputs": [],
   "source": [
    "reviews = pd.read_csv('reviews.csv', sep=';')"
   ]
  },
  {
   "cell_type": "code",
   "execution_count": 3,
   "metadata": {},
   "outputs": [
    {
     "data": {
      "text/plain": [
       "(6075266, 6)"
      ]
     },
     "execution_count": 3,
     "metadata": {},
     "output_type": "execute_result"
    }
   ],
   "source": [
    "reviews.shape"
   ]
  },
  {
   "cell_type": "code",
   "execution_count": 4,
   "metadata": {},
   "outputs": [
    {
     "data": {
      "text/html": [
       "<div>\n",
       "<style scoped>\n",
       "    .dataframe tbody tr th:only-of-type {\n",
       "        vertical-align: middle;\n",
       "    }\n",
       "\n",
       "    .dataframe tbody tr th {\n",
       "        vertical-align: top;\n",
       "    }\n",
       "\n",
       "    .dataframe thead th {\n",
       "        text-align: right;\n",
       "    }\n",
       "</style>\n",
       "<table border=\"1\" class=\"dataframe\">\n",
       "  <thead>\n",
       "    <tr style=\"text-align: right;\">\n",
       "      <th></th>\n",
       "      <th>review_id</th>\n",
       "      <th>text</th>\n",
       "      <th>stars</th>\n",
       "      <th>sentiment</th>\n",
       "      <th>length</th>\n",
       "      <th>bin</th>\n",
       "    </tr>\n",
       "  </thead>\n",
       "  <tbody>\n",
       "    <tr>\n",
       "      <th>0</th>\n",
       "      <td>x7mDIiDB3jEiPGPHOmDzyw</td>\n",
       "      <td>The pizza was okay. Not the best I've had. I p...</td>\n",
       "      <td>2.0</td>\n",
       "      <td>0.0</td>\n",
       "      <td>450</td>\n",
       "      <td>0</td>\n",
       "    </tr>\n",
       "    <tr>\n",
       "      <th>1</th>\n",
       "      <td>dDl8zu1vWPdKGihJrwQbpw</td>\n",
       "      <td>I love this place! My fiance And I go here atl...</td>\n",
       "      <td>5.0</td>\n",
       "      <td>2.0</td>\n",
       "      <td>317</td>\n",
       "      <td>0</td>\n",
       "    </tr>\n",
       "    <tr>\n",
       "      <th>2</th>\n",
       "      <td>LZp4UX5zK3e-c5ZGSeo3kA</td>\n",
       "      <td>Terrible. Dry corn bread. Rib tips were all fa...</td>\n",
       "      <td>1.0</td>\n",
       "      <td>0.0</td>\n",
       "      <td>156</td>\n",
       "      <td>0</td>\n",
       "    </tr>\n",
       "    <tr>\n",
       "      <th>3</th>\n",
       "      <td>Er4NBWCmCD4nM8_p1GRdow</td>\n",
       "      <td>Back in 2005-2007 this place was my FAVORITE t...</td>\n",
       "      <td>2.0</td>\n",
       "      <td>0.0</td>\n",
       "      <td>901</td>\n",
       "      <td>1</td>\n",
       "    </tr>\n",
       "    <tr>\n",
       "      <th>4</th>\n",
       "      <td>jsDu6QEJHbwP2Blom1PLCA</td>\n",
       "      <td>Delicious healthy food. The steak is amazing. ...</td>\n",
       "      <td>5.0</td>\n",
       "      <td>2.0</td>\n",
       "      <td>165</td>\n",
       "      <td>0</td>\n",
       "    </tr>\n",
       "  </tbody>\n",
       "</table>\n",
       "</div>"
      ],
      "text/plain": [
       "                review_id                                               text  \\\n",
       "0  x7mDIiDB3jEiPGPHOmDzyw  The pizza was okay. Not the best I've had. I p...   \n",
       "1  dDl8zu1vWPdKGihJrwQbpw  I love this place! My fiance And I go here atl...   \n",
       "2  LZp4UX5zK3e-c5ZGSeo3kA  Terrible. Dry corn bread. Rib tips were all fa...   \n",
       "3  Er4NBWCmCD4nM8_p1GRdow  Back in 2005-2007 this place was my FAVORITE t...   \n",
       "4  jsDu6QEJHbwP2Blom1PLCA  Delicious healthy food. The steak is amazing. ...   \n",
       "\n",
       "   stars  sentiment  length  bin  \n",
       "0    2.0        0.0     450    0  \n",
       "1    5.0        2.0     317    0  \n",
       "2    1.0        0.0     156    0  \n",
       "3    2.0        0.0     901    1  \n",
       "4    5.0        2.0     165    0  "
      ]
     },
     "execution_count": 4,
     "metadata": {},
     "output_type": "execute_result"
    }
   ],
   "source": [
    "reviews.head(5)"
   ]
  },
  {
   "cell_type": "code",
   "execution_count": 5,
   "metadata": {},
   "outputs": [],
   "source": [
    "reviews = reviews.loc[:, ('review_id', 'text', 'sentiment')]"
   ]
  },
  {
   "cell_type": "code",
   "execution_count": 6,
   "metadata": {},
   "outputs": [
    {
     "name": "stdout",
     "output_type": "stream",
     "text": [
      "\n",
      "Number of positive:\t3977837\n",
      "Number of negative:\t1358663\n",
      "Number of neutral:\t673206\n",
      "\n"
     ]
    }
   ],
   "source": [
    "pos = reviews[reviews['sentiment'] == 2.0]\n",
    "neg = reviews[reviews['sentiment'] == 0.0]\n",
    "neu = reviews[reviews['sentiment'] == 1.0]\n",
    "print(f'''\n",
    "Number of positive:\\t{len(pos)}\n",
    "Number of negative:\\t{len(neg)}\n",
    "Number of neutral:\\t{len(neu)}\n",
    "''')"
   ]
  },
  {
   "cell_type": "markdown",
   "metadata": {},
   "source": [
    "Taking 50001 records of each type. Before shuffling them in random order. Also counting number of tokens - approximately. The limit will be 100. So the biggest array before training neural network will be (90000, 100, 100)."
   ]
  },
  {
   "cell_type": "code",
   "execution_count": 7,
   "metadata": {},
   "outputs": [
    {
     "name": "stdout",
     "output_type": "stream",
     "text": [
      "4329 1 111.02604560853797\n"
     ]
    }
   ],
   "source": [
    "nrTokens = [len(str(x).split(' ')) for x in reviews['text']]\n",
    "reviews['nrTokens'] = nrTokens\n",
    "print(max(nrTokens), min(nrTokens), np.mean(nrTokens))"
   ]
  },
  {
   "cell_type": "code",
   "execution_count": 8,
   "metadata": {},
   "outputs": [
    {
     "name": "stdout",
     "output_type": "stream",
     "text": [
      "3695171\n",
      "\n",
      "Number of positive:\t2646596\n",
      "Number of negative:\t649978\n",
      "Number of neutral:\t333037\n",
      "\n"
     ]
    }
   ],
   "source": [
    "print(len(reviews[reviews['nrTokens'] <= 100]))\n",
    "reviews = reviews[reviews['nrTokens'] <= 100].reset_index(drop=True)\n",
    "pos = reviews[reviews['sentiment'] == 2.0]\n",
    "neg = reviews[reviews['sentiment'] == 0.0]\n",
    "neu = reviews[reviews['sentiment'] == 1.0]\n",
    "print(f'''\n",
    "Number of positive:\\t{len(pos)}\n",
    "Number of negative:\\t{len(neg)}\n",
    "Number of neutral:\\t{len(neu)}\n",
    "''')"
   ]
  },
  {
   "cell_type": "code",
   "execution_count": 9,
   "metadata": {},
   "outputs": [],
   "source": [
    "def randomizing_sampling(df, n=50000):\n",
    "    df = df.sample(frac=1)\n",
    "    df = df.reset_index(drop=True)\n",
    "    df = df.loc[:n, :]\n",
    "    return df"
   ]
  },
  {
   "cell_type": "code",
   "execution_count": 10,
   "metadata": {},
   "outputs": [],
   "source": [
    "pos = randomizing_sampling(pos)"
   ]
  },
  {
   "cell_type": "code",
   "execution_count": 11,
   "metadata": {},
   "outputs": [
    {
     "name": "stdout",
     "output_type": "stream",
     "text": [
      "50001\n"
     ]
    }
   ],
   "source": [
    "print(len(pos))"
   ]
  },
  {
   "cell_type": "code",
   "execution_count": 12,
   "metadata": {},
   "outputs": [
    {
     "data": {
      "text/html": [
       "<div>\n",
       "<style scoped>\n",
       "    .dataframe tbody tr th:only-of-type {\n",
       "        vertical-align: middle;\n",
       "    }\n",
       "\n",
       "    .dataframe tbody tr th {\n",
       "        vertical-align: top;\n",
       "    }\n",
       "\n",
       "    .dataframe thead th {\n",
       "        text-align: right;\n",
       "    }\n",
       "</style>\n",
       "<table border=\"1\" class=\"dataframe\">\n",
       "  <thead>\n",
       "    <tr style=\"text-align: right;\">\n",
       "      <th></th>\n",
       "      <th>review_id</th>\n",
       "      <th>text</th>\n",
       "      <th>sentiment</th>\n",
       "      <th>nrTokens</th>\n",
       "    </tr>\n",
       "  </thead>\n",
       "  <tbody>\n",
       "    <tr>\n",
       "      <th>0</th>\n",
       "      <td>uuSinjYmrz4f1waM0I4rvg</td>\n",
       "      <td>Awesome food.Great Service. This place you pay...</td>\n",
       "      <td>2.0</td>\n",
       "      <td>15</td>\n",
       "    </tr>\n",
       "    <tr>\n",
       "      <th>1</th>\n",
       "      <td>_zAGAaRt1jfTEZtEDTMxkg</td>\n",
       "      <td>This place is great. I have bought multiple pi...</td>\n",
       "      <td>2.0</td>\n",
       "      <td>26</td>\n",
       "    </tr>\n",
       "    <tr>\n",
       "      <th>2</th>\n",
       "      <td>sq5jjIo6giWlDKjuKqiCiA</td>\n",
       "      <td>Delicious sushi and awesome lunch special! The...</td>\n",
       "      <td>2.0</td>\n",
       "      <td>42</td>\n",
       "    </tr>\n",
       "    <tr>\n",
       "      <th>3</th>\n",
       "      <td>CYCN8nwsFy1IpKSBOaNW0w</td>\n",
       "      <td>We took our Siberian Husky today at Pretty Paw...</td>\n",
       "      <td>2.0</td>\n",
       "      <td>49</td>\n",
       "    </tr>\n",
       "    <tr>\n",
       "      <th>4</th>\n",
       "      <td>bOx21rDXDk9bMITku7oS1w</td>\n",
       "      <td>Got the original gryo, and must say it was qui...</td>\n",
       "      <td>2.0</td>\n",
       "      <td>54</td>\n",
       "    </tr>\n",
       "  </tbody>\n",
       "</table>\n",
       "</div>"
      ],
      "text/plain": [
       "                review_id                                               text  \\\n",
       "0  uuSinjYmrz4f1waM0I4rvg  Awesome food.Great Service. This place you pay...   \n",
       "1  _zAGAaRt1jfTEZtEDTMxkg  This place is great. I have bought multiple pi...   \n",
       "2  sq5jjIo6giWlDKjuKqiCiA  Delicious sushi and awesome lunch special! The...   \n",
       "3  CYCN8nwsFy1IpKSBOaNW0w  We took our Siberian Husky today at Pretty Paw...   \n",
       "4  bOx21rDXDk9bMITku7oS1w  Got the original gryo, and must say it was qui...   \n",
       "\n",
       "   sentiment  nrTokens  \n",
       "0        2.0        15  \n",
       "1        2.0        26  \n",
       "2        2.0        42  \n",
       "3        2.0        49  \n",
       "4        2.0        54  "
      ]
     },
     "execution_count": 12,
     "metadata": {},
     "output_type": "execute_result"
    }
   ],
   "source": [
    "pos.head(5)"
   ]
  },
  {
   "cell_type": "code",
   "execution_count": 13,
   "metadata": {},
   "outputs": [
    {
     "name": "stdout",
     "output_type": "stream",
     "text": [
      "(50001, 4)\n",
      "------------------------\n",
      "                review_id                                               text  \\\n",
      "0  x1fd7I6ns2ePKZo6eu_7Aw  Decent place to grab a slice of pizza. Prices ...   \n",
      "1  jcCbtIB6iVp_UNcLoz8Xqg  I am in Matthews all the time but have been to...   \n",
      "2  Ergr6511E8c8k_v1yQbuAw  Poetry was off the chain...no doubt. Michelle ...   \n",
      "3  0CFD-wG7s5YHL35tM7H_4A  This course is wide open without a ton of wate...   \n",
      "4  qArUIG2q36oN56y7sG9nHQ  I arrived at 7:30 with reservations and I'm ju...   \n",
      "5  zTsajpKzXQ7RykCVWOaA7Q  I came here to play over the Summer of 2015 an...   \n",
      "\n",
      "   sentiment  nrTokens  \n",
      "0        1.0        24  \n",
      "1        1.0        90  \n",
      "2        1.0        72  \n",
      "3        1.0        64  \n",
      "4        1.0        51  \n",
      "5        1.0        93  \n"
     ]
    }
   ],
   "source": [
    "neu = randomizing_sampling(neu)\n",
    "print(neu.shape)\n",
    "print('------------------------')\n",
    "print(neu.loc[:5, :])"
   ]
  },
  {
   "cell_type": "code",
   "execution_count": 14,
   "metadata": {},
   "outputs": [
    {
     "name": "stdout",
     "output_type": "stream",
     "text": [
      "(50001, 4)\n",
      "------------------------\n",
      "                review_id                                               text  \\\n",
      "0  Vby_gTR0o9SA8dhVktXjWQ  This is the slowest pharmacy ever! I don't thi...   \n",
      "1  p9MPuQzu9JLrg2YcHhV8Ug  Been going to Mr. Lucky's for years.  Had the ...   \n",
      "2  EyNOa8LkDeJ-TpmBtWqeTQ  Extremely digusted that there is very strong b...   \n",
      "3  AIv9A0sQttHXVb2VfsfPWQ  This store has improved since I was last there...   \n",
      "4  7XoUrySynjvY0yudKcuRmg  Pizza was not as authentic Chicago pizza as I ...   \n",
      "5  FsnkgVERaDnxAjjpkWDneA  Used to be a FIVE STAR place. These days, we c...   \n",
      "\n",
      "   sentiment  nrTokens  \n",
      "0        0.0        82  \n",
      "1        0.0        32  \n",
      "2        0.0        46  \n",
      "3        0.0        28  \n",
      "4        0.0        54  \n",
      "5        0.0        94  \n"
     ]
    }
   ],
   "source": [
    "neg = randomizing_sampling(neg)\n",
    "print(neg.shape)\n",
    "print('------------------------')\n",
    "print(neg.loc[:5, :])"
   ]
  },
  {
   "cell_type": "markdown",
   "metadata": {},
   "source": [
    "Before splitting to train, test and validation, combining subsets."
   ]
  },
  {
   "cell_type": "code",
   "execution_count": 15,
   "metadata": {},
   "outputs": [
    {
     "name": "stdout",
     "output_type": "stream",
     "text": [
      "                review_id                                               text  \\\n",
      "0  2jI-wWlPIPp43Oh6He7lAA  This place obviously is banking on its famous ...   \n",
      "1  yhfYMsOKgU9_yTgnc6hPLw  Got an original black milk tea with 70% sugar,...   \n",
      "2  aLW1laX76NxZs3tG1Yd5iA  I have been here before and I was not impresse...   \n",
      "3  mDFeaQjocT5cKctp60fIiQ  Men's fragrance. Sales girl wouldn't let me br...   \n",
      "4  vzZ7YO4cX_Bl8LmvkJPyEg  Located in Excalibur on the 2nd floor, this pl...   \n",
      "\n",
      "   sentiment  nrTokens  \n",
      "0        1.0        80  \n",
      "1        1.0        85  \n",
      "2        0.0        82  \n",
      "3        1.0        76  \n",
      "4        0.0        35  \n"
     ]
    }
   ],
   "source": [
    "dataset = pd.concat([pos, neg, neu], axis=0).sample(frac=1).reset_index(drop=True)\n",
    "print(dataset.head(5))"
   ]
  },
  {
   "cell_type": "code",
   "execution_count": 16,
   "metadata": {},
   "outputs": [],
   "source": [
    "#saving dataset in case its needed\n",
    "dataset = dataset.loc[:, ('review_id', 'text', 'sentiment')]\n",
    "dataset.to_csv('pre_split_dataset_v2.csv', sep=';')"
   ]
  },
  {
   "cell_type": "code",
   "execution_count": 17,
   "metadata": {},
   "outputs": [
    {
     "name": "stdout",
     "output_type": "stream",
     "text": [
      "This place obviously is banking on its famous founder. It's ok. 5 Guys is better. I thought the service was slow and they could really care less about providing a good dining experience. The tables were dirty as well and we had to wait for them to call me and clean them. The bartender was nice and pretty quick. We would've skipped it but my 11 year old wanted to eat there. The shakes looked pretty small for the price. 1.0\n"
     ]
    }
   ],
   "source": [
    "ids = dataset['review_id']\n",
    "X = dataset['text']\n",
    "y = dataset['sentiment']\n",
    "del reviews, neg, neu, pos, dataset, nrTokens\n",
    "print(X[0], y[0])"
   ]
  },
  {
   "cell_type": "code",
   "execution_count": 18,
   "metadata": {},
   "outputs": [],
   "source": [
    "y.to_csv('y_v2.csv', sep=';')\n",
    "ids.to_csv('ids_v2.csv', sep=';')\n",
    "X.to_csv('X_v2.csv', sep=';')"
   ]
  },
  {
   "cell_type": "markdown",
   "metadata": {},
   "source": [
    "In order not to run text preprocessing several times, it will be done for the the whole dataset."
   ]
  },
  {
   "cell_type": "code",
   "execution_count": 19,
   "metadata": {},
   "outputs": [
    {
     "name": "stdout",
     "output_type": "stream",
     "text": [
      "150003 150003\n"
     ]
    }
   ],
   "source": [
    "print(len(X), len(y))"
   ]
  },
  {
   "cell_type": "code",
   "execution_count": 20,
   "metadata": {},
   "outputs": [
    {
     "name": "stdout",
     "output_type": "stream",
     "text": [
      "[nltk_data] Downloading package stopwords to\n",
      "[nltk_data]     C:\\Users\\miska\\AppData\\Roaming\\nltk_data...\n",
      "[nltk_data]   Package stopwords is already up-to-date!\n"
     ]
    }
   ],
   "source": [
    "#splitting words to tokens, lemmatization, removing stop words\n",
    "nltk.download('stopwords')\n",
    "en_stop = set(nltk.corpus.stopwords.words('english'))\n",
    "nlp = spacy.load('en_core_web_sm')\n",
    "\n",
    "def tokenize(text):\n",
    "    tkns = []\n",
    "    text = re.sub('[^a-zA-Z]', ' ', text)\n",
    "    doc = nlp(text)\n",
    "    for token in doc:\n",
    "        if token.is_digit:\n",
    "            pass\n",
    "        elif token.is_space:\n",
    "            pass\n",
    "        elif token.is_punct:\n",
    "            pass\n",
    "        elif token.is_stop:\n",
    "            pass\n",
    "        elif len(token) <= 3:\n",
    "            pass\n",
    "        else:\n",
    "            tkns.append(token.lemma_.lower())\n",
    "    return tkns"
   ]
  },
  {
   "cell_type": "code",
   "execution_count": 21,
   "metadata": {},
   "outputs": [
    {
     "name": "stdout",
     "output_type": "stream",
     "text": [
      "Processing sentence: 0\n",
      "Processing sentence: 1000\n",
      "Processing sentence: 2000\n",
      "Processing sentence: 3000\n",
      "Processing sentence: 4000\n",
      "Processing sentence: 5000\n",
      "Processing sentence: 6000\n",
      "Processing sentence: 7000\n",
      "Processing sentence: 8000\n",
      "Processing sentence: 9000\n",
      "Processing sentence: 10000\n",
      "Processing sentence: 11000\n",
      "Processing sentence: 12000\n",
      "Processing sentence: 13000\n",
      "Processing sentence: 14000\n",
      "Processing sentence: 15000\n",
      "Processing sentence: 16000\n",
      "Processing sentence: 17000\n",
      "Processing sentence: 18000\n",
      "Processing sentence: 19000\n",
      "Processing sentence: 20000\n",
      "Processing sentence: 21000\n",
      "Processing sentence: 22000\n",
      "Processing sentence: 23000\n",
      "Processing sentence: 24000\n",
      "Processing sentence: 25000\n",
      "Processing sentence: 26000\n",
      "Processing sentence: 27000\n",
      "Processing sentence: 28000\n",
      "Processing sentence: 29000\n",
      "Processing sentence: 30000\n",
      "Processing sentence: 31000\n",
      "Processing sentence: 32000\n",
      "Processing sentence: 33000\n",
      "Processing sentence: 34000\n",
      "Processing sentence: 35000\n",
      "Processing sentence: 36000\n",
      "Processing sentence: 37000\n",
      "Processing sentence: 38000\n",
      "Processing sentence: 39000\n",
      "Processing sentence: 40000\n",
      "Processing sentence: 41000\n",
      "Processing sentence: 42000\n",
      "Processing sentence: 43000\n",
      "Processing sentence: 44000\n",
      "Processing sentence: 45000\n",
      "Processing sentence: 46000\n",
      "Processing sentence: 47000\n",
      "Processing sentence: 48000\n",
      "Processing sentence: 49000\n",
      "Processing sentence: 50000\n",
      "Processing sentence: 51000\n",
      "Processing sentence: 52000\n",
      "Processing sentence: 53000\n",
      "Processing sentence: 54000\n",
      "Processing sentence: 55000\n",
      "Processing sentence: 56000\n",
      "Processing sentence: 57000\n",
      "Processing sentence: 58000\n",
      "Processing sentence: 59000\n",
      "Processing sentence: 60000\n",
      "Processing sentence: 61000\n",
      "Processing sentence: 62000\n",
      "Processing sentence: 63000\n",
      "Processing sentence: 64000\n",
      "Processing sentence: 65000\n",
      "Processing sentence: 66000\n",
      "Processing sentence: 67000\n",
      "Processing sentence: 68000\n",
      "Processing sentence: 69000\n",
      "Processing sentence: 70000\n",
      "Processing sentence: 71000\n",
      "Processing sentence: 72000\n",
      "Processing sentence: 73000\n",
      "Processing sentence: 74000\n",
      "Processing sentence: 75000\n",
      "Processing sentence: 76000\n",
      "Processing sentence: 77000\n",
      "Processing sentence: 78000\n",
      "Processing sentence: 79000\n",
      "Processing sentence: 80000\n",
      "Processing sentence: 81000\n",
      "Processing sentence: 82000\n",
      "Processing sentence: 83000\n",
      "Processing sentence: 84000\n",
      "Processing sentence: 85000\n",
      "Processing sentence: 86000\n",
      "Processing sentence: 87000\n",
      "Processing sentence: 88000\n",
      "Processing sentence: 89000\n",
      "Processing sentence: 90000\n",
      "Processing sentence: 91000\n",
      "Processing sentence: 92000\n",
      "Processing sentence: 93000\n",
      "Processing sentence: 94000\n",
      "Processing sentence: 95000\n",
      "Processing sentence: 96000\n",
      "Processing sentence: 97000\n",
      "Processing sentence: 98000\n",
      "Processing sentence: 99000\n",
      "Processing sentence: 100000\n",
      "Processing sentence: 101000\n",
      "Processing sentence: 102000\n",
      "Processing sentence: 103000\n",
      "Processing sentence: 104000\n",
      "Processing sentence: 105000\n",
      "Processing sentence: 106000\n",
      "Processing sentence: 107000\n",
      "Processing sentence: 108000\n",
      "Processing sentence: 109000\n",
      "Processing sentence: 110000\n",
      "Processing sentence: 111000\n",
      "Processing sentence: 112000\n",
      "Processing sentence: 113000\n",
      "Processing sentence: 114000\n",
      "Processing sentence: 115000\n",
      "Processing sentence: 116000\n",
      "Processing sentence: 117000\n",
      "Processing sentence: 118000\n",
      "Processing sentence: 119000\n",
      "Processing sentence: 120000\n",
      "Processing sentence: 121000\n",
      "Processing sentence: 122000\n",
      "Processing sentence: 123000\n",
      "Processing sentence: 124000\n",
      "Processing sentence: 125000\n",
      "Processing sentence: 126000\n",
      "Processing sentence: 127000\n",
      "Processing sentence: 128000\n",
      "Processing sentence: 129000\n",
      "Processing sentence: 130000\n",
      "Processing sentence: 131000\n",
      "Processing sentence: 132000\n",
      "Processing sentence: 133000\n",
      "Processing sentence: 134000\n",
      "Processing sentence: 135000\n",
      "Processing sentence: 136000\n",
      "Processing sentence: 137000\n",
      "Processing sentence: 138000\n",
      "Processing sentence: 139000\n",
      "Processing sentence: 140000\n",
      "Processing sentence: 141000\n",
      "Processing sentence: 142000\n",
      "Processing sentence: 143000\n",
      "Processing sentence: 144000\n",
      "Processing sentence: 145000\n",
      "Processing sentence: 146000\n",
      "Processing sentence: 147000\n",
      "Processing sentence: 148000\n",
      "Processing sentence: 149000\n",
      "Processing sentence: 150000\n"
     ]
    }
   ],
   "source": [
    "X_processed = []\n",
    "for i, sent in enumerate(X.values):\n",
    "    if i % 1000 == 0:\n",
    "        print(f'Processing sentence: {i}')\n",
    "    tkns = tokenize(sent)\n",
    "    X_processed.append(tkns)"
   ]
  },
  {
   "cell_type": "markdown",
   "metadata": {},
   "source": [
    "Before proceeding further, saving tokens. In general tokenazation took 10 hours with 1,5 mlns of data.\n",
    "**Due to performance issues** dataset has been cutted. With 150k samples it took around 1 hour to be tokenized."
   ]
  },
  {
   "cell_type": "code",
   "execution_count": 22,
   "metadata": {},
   "outputs": [],
   "source": [
    "#save tokens\n",
    "with open(\"tokens_v2.txt\", \"wb\") as f:\n",
    "    pickle.dump(X_processed, f)"
   ]
  },
  {
   "cell_type": "markdown",
   "metadata": {},
   "source": [
    "Checking the length of the list:"
   ]
  },
  {
   "cell_type": "code",
   "execution_count": 23,
   "metadata": {},
   "outputs": [
    {
     "data": {
      "text/plain": [
       "150003"
      ]
     },
     "execution_count": 23,
     "metadata": {},
     "output_type": "execute_result"
    }
   ],
   "source": [
    "len(X_processed)"
   ]
  },
  {
   "cell_type": "markdown",
   "metadata": {},
   "source": [
    "Comparing tokenized and original text"
   ]
  },
  {
   "cell_type": "code",
   "execution_count": 24,
   "metadata": {},
   "outputs": [
    {
     "name": "stdout",
     "output_type": "stream",
     "text": [
      "['food', 'fantastic', 'service', 'spectacular', 'calamari', 'soooooo', 'good', 'tre', 'lech', 'devine', 'coconut', 'cake', 'world']\n",
      "----------------------------------\n",
      "The food is fantastic and the service is spectacular! The calamari is soooooo good and the tres leches is Devine. The coconut cake is out of this world\n"
     ]
    }
   ],
   "source": [
    "print(X_processed[150002])\n",
    "print('----------------------------------')\n",
    "print(X[150002])"
   ]
  },
  {
   "cell_type": "markdown",
   "metadata": {},
   "source": [
    "#### Building word2vec model"
   ]
  },
  {
   "cell_type": "markdown",
   "metadata": {},
   "source": [
    "Building word2vec model. To speed up the performance all the available cpu will be used. Gensim library has a **workers** parameter which could do a parallelization"
   ]
  },
  {
   "cell_type": "code",
   "execution_count": 25,
   "metadata": {},
   "outputs": [
    {
     "name": "stderr",
     "output_type": "stream",
     "text": [
      "C:\\Users\\miska\\Anaconda3\\lib\\site-packages\\gensim\\utils.py:1212: UserWarning: detected Windows; aliasing chunkize to chunkize_serial\n",
      "  warnings.warn(\"detected Windows; aliasing chunkize to chunkize_serial\")\n"
     ]
    }
   ],
   "source": [
    "from gensim.models.word2vec import Word2Vec\n",
    "import multiprocessing"
   ]
  },
  {
   "cell_type": "code",
   "execution_count": 26,
   "metadata": {},
   "outputs": [
    {
     "data": {
      "text/plain": [
       "8"
      ]
     },
     "execution_count": 26,
     "metadata": {},
     "output_type": "execute_result"
    }
   ],
   "source": [
    "multiprocessing.cpu_count()"
   ]
  },
  {
   "cell_type": "code",
   "execution_count": 27,
   "metadata": {},
   "outputs": [],
   "source": [
    "vector_size = 100\n",
    "window_size = 10\n",
    "model_100 = Word2Vec(sentences=X_processed,\n",
    "                    size=vector_size, \n",
    "                    window=window_size, \n",
    "                    negative=20,\n",
    "                    iter=50,\n",
    "                    seed=1000,\n",
    "                    workers=multiprocessing.cpu_count())"
   ]
  },
  {
   "cell_type": "code",
   "execution_count": 28,
   "metadata": {},
   "outputs": [],
   "source": [
    "vector_size = 120\n",
    "window_size = 10\n",
    "model_120 = Word2Vec(sentences=X_processed,\n",
    "                    size=vector_size, \n",
    "                    window=window_size, \n",
    "                    negative=20,\n",
    "                    iter=50,\n",
    "                    seed=1000,\n",
    "                    workers=multiprocessing.cpu_count())"
   ]
  },
  {
   "cell_type": "markdown",
   "metadata": {},
   "source": [
    "Saving models"
   ]
  },
  {
   "cell_type": "code",
   "execution_count": 29,
   "metadata": {},
   "outputs": [],
   "source": [
    "model_100.save('word2vec_model_100.model')\n",
    "model_120.save('word2vec_model_120.model')"
   ]
  },
  {
   "cell_type": "markdown",
   "metadata": {},
   "source": [
    "Checking similarity for some of the words:"
   ]
  },
  {
   "cell_type": "code",
   "execution_count": 30,
   "metadata": {},
   "outputs": [],
   "source": [
    "#to turn of future warnings:\n",
    "import warnings\n",
    "warnings.simplefilter(action='ignore', category=FutureWarning)"
   ]
  },
  {
   "cell_type": "code",
   "execution_count": 31,
   "metadata": {},
   "outputs": [
    {
     "name": "stdout",
     "output_type": "stream",
     "text": [
      "[('pepperoni', 0.8266472220420837), ('crust', 0.7232790589332581), ('sicilian', 0.6870665550231934), ('calzone', 0.683086097240448), ('stromboli', 0.6582770943641663), ('domino', 0.6569181680679321), ('dominos', 0.653199315071106), ('margherita', 0.6494368314743042), ('pizzas', 0.6378195285797119), ('breadstick', 0.6357826590538025)]\n",
      "------------------------------------------------\n",
      "[('decent', 0.7954224348068237), ('okay', 0.715410053730011), ('average', 0.6679041981697083), ('alright', 0.6622477769851685), ('great', 0.6617214679718018), ('solid', 0.647891104221344), ('tasty', 0.5928990840911865), ('mediocre', 0.5580964088439941), ('pretty', 0.5186408758163452), ('excellent', 0.5143110752105713)]\n",
      "------------------------------------------------\n",
      "[('boyfriend', 0.6207457184791565), ('buddy', 0.6178157329559326), ('girlfriend', 0.6062629818916321), ('brother', 0.5595120191574097), ('coworker', 0.5583606362342834), ('sister', 0.5525801181793213), ('wife', 0.5474111437797546), ('fianc', 0.5348787307739258), ('husband', 0.5245246887207031), ('hubby', 0.5200481414794922)]\n"
     ]
    }
   ],
   "source": [
    "print(model_100.wv.most_similar('pizza'))\n",
    "print('------------------------------------------------')\n",
    "print(model_120.wv.most_similar('good'))\n",
    "print('------------------------------------------------')\n",
    "print(model_100.wv.most_similar('friend'))\n"
   ]
  },
  {
   "cell_type": "markdown",
   "metadata": {},
   "source": [
    "#### Building train, validation and test dataset."
   ]
  },
  {
   "cell_type": "code",
   "execution_count": 32,
   "metadata": {},
   "outputs": [
    {
     "name": "stdout",
     "output_type": "stream",
     "text": [
      "Average length: 22.85528956087545\n",
      "Max length: 81\n"
     ]
    }
   ],
   "source": [
    "max_length = 0\n",
    "avg_length = 0.\n",
    "for rev in X_processed:\n",
    "    if len(rev) > max_length:\n",
    "        max_length = len(rev)\n",
    "    avg_length += float(len(rev))\n",
    "    \n",
    "print(f'Average length: {(avg_length / float(len(X_processed)))}')\n",
    "print(f'Max length: {max_length}')"
   ]
  },
  {
   "cell_type": "markdown",
   "metadata": {},
   "source": [
    "Checking the length of vocabulary:"
   ]
  },
  {
   "cell_type": "code",
   "execution_count": 33,
   "metadata": {},
   "outputs": [
    {
     "name": "stdout",
     "output_type": "stream",
     "text": [
      "15750\n",
      "15750\n"
     ]
    }
   ],
   "source": [
    "print(len(model_100.wv.vocab))\n",
    "print(len(model_120.wv.vocab))"
   ]
  },
  {
   "cell_type": "code",
   "execution_count": 34,
   "metadata": {},
   "outputs": [
    {
     "name": "stdout",
     "output_type": "stream",
     "text": [
      "[ 4.6699367e+00  3.8705268e+00  1.6811979e+00  7.0431769e-01\n",
      " -2.8051505e+00 -2.9737971e+00  3.3105412e+00 -8.2364136e-01\n",
      "  4.1397358e-03 -1.1040767e+00 -4.6735897e+00 -1.9934195e+00\n",
      "  2.9933398e+00 -4.0273732e-01  5.3374934e+00 -3.0846293e+00\n",
      " -2.1608045e+00 -1.7793059e+00  3.5693860e+00 -6.4813423e-01\n",
      "  8.2146108e-01  2.9945493e+00 -1.5270591e+00  2.5315292e+00\n",
      "  1.8289448e+00  1.8892965e+00 -1.7710371e+00 -1.4202898e+00\n",
      " -2.5230930e+00 -2.4085748e+00  4.7998229e-01  4.5988092e+00\n",
      " -4.4786110e+00  5.4492664e-01 -4.1238803e-01  8.9703250e-01\n",
      " -9.3728721e-01  2.6379950e+00  1.4805388e-01 -2.8180408e+00\n",
      "  2.9242811e+00 -2.8265269e+00  2.6157434e+00  2.7260962e+00\n",
      " -3.1530564e+00 -7.0331305e-01 -3.8534279e+00 -2.5694835e-01\n",
      " -7.1413279e-01 -2.9574597e+00 -7.7574706e-01 -2.2245313e-01\n",
      "  4.1568220e-01 -8.8880189e-02  2.8198404e+00  1.1841465e-01\n",
      " -3.0778041e+00 -5.1760402e+00  1.8811582e+00  1.9349972e+00\n",
      " -1.3718400e+00 -1.1937397e+00  3.7494915e+00 -2.5681317e-01\n",
      "  2.2082421e-01  2.3236508e+00 -2.6687853e+00 -4.5434362e-01\n",
      "  1.4668881e+00  1.3367342e+00  3.2182558e+00 -2.9214809e+00\n",
      "  3.1404715e+00  2.1040282e+00 -8.6749685e-01 -2.7985575e+00\n",
      "  2.8798192e+00  2.0086901e+00  3.0821831e+00 -4.5235701e+00\n",
      "  7.3208308e-01 -4.0347722e-01 -7.3089463e-01 -1.6054631e+00\n",
      "  6.6916971e+00 -2.9866073e+00  7.5035179e-01 -3.9765546e-01\n",
      "  2.3500817e+00  1.7054763e+00  6.4250655e+00  4.1436219e+00\n",
      " -8.4492981e-01  8.1603879e-01  1.7692667e+00 -2.1892555e-01\n",
      " -1.3917341e+00 -3.9791892e+00  8.2999241e-01 -2.0856028e+00\n",
      "  5.6272039e+00 -3.2585971e+00 -3.9514928e+00  1.2597620e+00\n",
      "  3.4187300e+00  1.3923249e+00 -4.8779857e-01  2.2231243e+00\n",
      " -9.6942425e-01 -2.9516151e+00  1.1778356e+00 -4.4123617e-01\n",
      " -2.7958717e+00 -1.3199143e+00  2.6368694e+00 -9.2569731e-02\n",
      " -2.7178996e+00 -3.1833019e+00 -3.8999829e+00  3.9423964e+00]\n",
      "---------------------------\n",
      "[ 6.827732    6.428928    0.03963342 -1.5942063  -1.149109   -1.2799623\n",
      " -1.5484023  -0.18325368 -1.0158805   0.7215297   6.0085106  -0.7444607\n",
      " -1.2880754  -3.5246394   4.9638214  -1.0368354  -0.80829656 -2.9649792\n",
      "  5.1013184  -0.3379235   1.8069845  -3.1889825   3.4027913   0.5570147\n",
      "  1.7752334   4.716526   -0.91944844 -2.2712543  -1.9492725  -4.740255\n",
      " -2.8742266   2.0998116  -0.09726066  1.1595008   1.5054982   0.36391813\n",
      " -0.62178975  1.920587   -2.9023783  -0.7732659   2.9751089   0.53262496\n",
      " -0.16742156  5.295095   -1.6194248  -1.3209509  -1.0369624   0.10956716\n",
      " -1.6675617  -2.566868    4.0361314   3.2431252   0.18757313  1.8565435\n",
      " -0.7394758   1.2390165   3.2112036  -6.912935   -0.80032516 -1.5274898\n",
      "  2.305923    3.182864   -0.8005687   1.1620178  -3.0479083  -0.44580463\n",
      " -2.3750458  -2.949625    2.2309444   2.3715942  -0.87271005 -2.1535473\n",
      "  6.61443     1.6101503  -2.9642932  -1.4621564  -1.3446378  -1.3615075\n",
      "  4.1775656  -0.6752594  -1.4422643   1.3349236   2.7360442   1.5483665\n",
      "  4.2984962   0.7752821   3.7242408  -5.194407    2.3519506  -1.3469348\n",
      "  2.7187605   5.2288737   2.536956    1.5244551  -2.9681246  -0.7909561\n",
      " -3.629675   -2.1114626   0.63507473  0.46219745]\n"
     ]
    }
   ],
   "source": [
    "#printing vector for one of the word:\n",
    "print(model_120.wv['yelp'])\n",
    "print('---------------------------')\n",
    "print(model_100.wv['yelp'])"
   ]
  },
  {
   "cell_type": "code",
   "execution_count": 35,
   "metadata": {},
   "outputs": [],
   "source": [
    "ind = np.arange(0, len(X_processed))"
   ]
  },
  {
   "cell_type": "code",
   "execution_count": 36,
   "metadata": {},
   "outputs": [],
   "source": [
    "from sklearn.model_selection import train_test_split\n",
    "X_train, X_test, y_train, y_test = train_test_split(ind, y, test_size=0.4, random_state=0, shuffle=True, stratify=y)"
   ]
  },
  {
   "cell_type": "code",
   "execution_count": 37,
   "metadata": {},
   "outputs": [
    {
     "name": "stdout",
     "output_type": "stream",
     "text": [
      "90001 90001\n",
      "60002 60002\n"
     ]
    }
   ],
   "source": [
    "print(len(X_train), len(y_train))\n",
    "print(len(X_test), len(y_test))"
   ]
  },
  {
   "cell_type": "code",
   "execution_count": 38,
   "metadata": {},
   "outputs": [
    {
     "name": "stdout",
     "output_type": "stream",
     "text": [
      "30001 30001\n",
      "30001 30001\n"
     ]
    }
   ],
   "source": [
    "X_test, X_val, y_test, y_val = train_test_split(X_test, y_test, test_size=0.5, random_state=0, shuffle=True)\n",
    "print(len(X_test), len(y_test))\n",
    "print(len(X_val), len(y_val))"
   ]
  },
  {
   "cell_type": "markdown",
   "metadata": {},
   "source": [
    "Final dataset will be called: Xtrain, Xval and Xtest/ labels ytrain, yval, ytest\n",
    "To build X datasets we should create a multidimensional arrays as following:\n",
    " - Xtrain: (train_size, max_length, vector_size);\n",
    " - Xval: (val_size, max_length, vector_size);\n",
    " - Xtest: (test_size, max_length, vector_size)\n",
    "\n",
    "Labels should be converted to one_hot representation:\n",
    " - if 2.0 then [0. 0. 1]\n",
    " - if 1.0 then [0. 1. 0]\n",
    " - if 0.0 then [1. 0. 0]"
   ]
  },
  {
   "cell_type": "markdown",
   "metadata": {},
   "source": [
    "Trying model with vector size 120."
   ]
  },
  {
   "cell_type": "code",
   "execution_count": 39,
   "metadata": {},
   "outputs": [],
   "source": [
    "#initializing datasets:\n",
    "import cupy as cp\n",
    "import numpy as np\n",
    "\n",
    "Xtrain = np.zeros(shape=(X_train.shape[0], max_length, vector_size))\n",
    "Xval = np.zeros(shape=(X_val.shape[0], max_length, vector_size))\n",
    "Xtest = np.zeros(shape=(X_test.shape[0], max_length, vector_size))\n",
    "ytrain = np.zeros(shape=(len(y_train), 3))\n",
    "yval = np.zeros(shape=(len(y_val), 3))\n",
    "ytest = np.zeros(shape=(len(y_test), 3))"
   ]
  },
  {
   "cell_type": "markdown",
   "metadata": {},
   "source": [
    "Checking if everything has been built correctly:"
   ]
  },
  {
   "cell_type": "code",
   "execution_count": 40,
   "metadata": {},
   "outputs": [
    {
     "data": {
      "text/plain": [
       "array([0., 0., 0.])"
      ]
     },
     "execution_count": 40,
     "metadata": {},
     "output_type": "execute_result"
    }
   ],
   "source": [
    "ytrain[0]"
   ]
  },
  {
   "cell_type": "code",
   "execution_count": 41,
   "metadata": {},
   "outputs": [
    {
     "data": {
      "text/plain": [
       "['sorry',\n",
       " 'news',\n",
       " 'clear',\n",
       " 'shop',\n",
       " 'today',\n",
       " '-pron-',\n",
       " 'half',\n",
       " 'year',\n",
       " 'look',\n",
       " 'like',\n",
       " 'go',\n",
       " '-pron-',\n",
       " 'miss',\n",
       " 'neighborhood']"
      ]
     },
     "execution_count": 41,
     "metadata": {},
     "output_type": "execute_result"
    }
   ],
   "source": [
    "X_processed[X_train[0]]"
   ]
  },
  {
   "cell_type": "code",
   "execution_count": 42,
   "metadata": {},
   "outputs": [
    {
     "data": {
      "text/plain": [
       "array([-3.7696753 ,  3.687721  ,  1.6801515 ,  0.8196675 ,  2.0146296 ,\n",
       "       -4.1688905 , -3.1715105 , -6.978157  ,  0.7193216 ,  0.3481072 ,\n",
       "       -7.356078  , -0.89824426, -0.5851278 , -0.75918955, -1.5559213 ,\n",
       "       -5.4218016 , -1.5162423 , -1.2136823 ,  3.0315645 , -1.6334547 ,\n",
       "       -2.8124897 ,  3.607327  ,  2.5872128 ,  3.958662  ,  1.5244466 ,\n",
       "        1.3282211 ,  4.275572  , -2.4526243 , -3.627014  ,  0.01084524,\n",
       "       -1.9644157 ,  4.226262  , -4.4557433 ,  3.7251415 , -2.6791158 ,\n",
       "       -0.22584993,  0.52675706, -3.6440122 , -0.22437477, -2.4312036 ,\n",
       "        2.5791447 , -0.7308614 ,  0.65970397, -1.2018596 ,  2.3510695 ,\n",
       "        0.62774837, -5.96115   ,  0.45067772, -1.4519044 ,  1.4176434 ,\n",
       "       -3.8273563 ,  9.533207  ,  6.715327  , -2.6036987 ,  0.5901922 ,\n",
       "       -1.7479063 ,  0.9584274 , -1.2417247 , -0.40537253,  1.5448538 ,\n",
       "        2.366233  , -4.1581526 ,  0.9389244 ,  2.2161133 ,  2.9547975 ,\n",
       "        0.44846684,  2.4244688 , -1.1432824 ,  2.6030345 ,  1.8854868 ,\n",
       "       -2.246683  , -2.846738  , -3.3737016 ,  0.5561588 ,  1.8622664 ,\n",
       "       -0.3201859 ,  0.5948369 , -1.912224  ,  2.462665  , -0.23620336,\n",
       "       -1.0574008 , -1.7762641 , -1.4387021 ,  1.9761505 ,  5.309057  ,\n",
       "       -1.5865942 ,  1.7300313 ,  1.2012275 ,  2.9651039 , -0.95283383,\n",
       "        3.7360172 , -3.4443312 , -1.3394438 , -0.2401248 , -4.709736  ,\n",
       "       -3.4647636 ,  3.1077795 , -6.9716907 , -2.4915535 , -6.2618012 ,\n",
       "        0.85757756, -4.398915  , -3.8117492 ,  1.7734035 , -2.9718778 ,\n",
       "        4.9850774 , -6.938948  , -2.114297  , -0.6256572 , -2.3020256 ,\n",
       "       -0.607187  ,  2.0885391 , -1.2127092 ,  2.0894737 ,  4.055307  ,\n",
       "        1.7666    , -1.3900249 , -5.3550606 , -2.142357  ,  1.5785894 ],\n",
       "      dtype=float32)"
      ]
     },
     "execution_count": 42,
     "metadata": {},
     "output_type": "execute_result"
    }
   ],
   "source": [
    "model_120.wv['review']"
   ]
  },
  {
   "cell_type": "code",
   "execution_count": 43,
   "metadata": {},
   "outputs": [
    {
     "name": "stdout",
     "output_type": "stream",
     "text": [
      "68499\n",
      "['sorry', 'news', 'clear', 'shop', 'today', '-pron-', 'half', 'year', 'look', 'like', 'go', '-pron-', 'miss', 'neighborhood']\n",
      "-------------------------\n",
      "22845\n",
      "['brisket', 'sandwich', 'good', 'sauce', 'ranch', 'taste', 'good', 'sweet', 'potatoe', 'fry', 'kinda', 'soggy', 'crispy', 'garden', 'salad', 'cheese', 'good', 'accord', 'picky', 'friend', 'say']\n",
      "-------------------------\n",
      "104459\n",
      "['loud', 'necessary', 'truthful', 'review', 'coleslaw', 'cheese', 'baby', 'backs', 'louis', 'ribs', 'famous', 'dave', 'wasn', 'miss', 'just', 'high', 'expectation', 'ribs', 'snappy', 'tender', 'service', 'extremely', 'rush', 'hurry', 'leave', 'turn', 'table', 'money', 'know', 'try', 'disappoint']\n",
      "-------------------------\n",
      "36971\n",
      "['like', 'bourbon', 'sour', 'highlight', 'prosciutto', 'pizza', 'good', 'tasting', 'atmosphere', 'italian', 'restaurant', 'classy', 'upscale']\n",
      "-------------------------\n",
      "63694\n",
      "['delicious', 'food', 'positive', 'review', 'yelp', 'decide', 'wasn', 'disappoint', 'owner', 'friendly', 'helpful', 'food', 'flavourful', 'salty', 'refresh', '-pron-', 'generous', 'portion', 'definitely', 'return']\n",
      "-------------------------\n"
     ]
    }
   ],
   "source": [
    "for index_ in X_train[:5]:\n",
    "    print(index_)\n",
    "    print(X_processed[index_])\n",
    "    print('-------------------------')"
   ]
  },
  {
   "cell_type": "code",
   "execution_count": 3,
   "metadata": {},
   "outputs": [],
   "source": [
    "def building_subset(X_train, Xtrain, X_processed, word2vec, ytrain, y_train):\n",
    "    for train_ind, index_ in enumerate(X_train):\n",
    "        tokens = X_processed[index_]\n",
    "        for token_id, token in enumerate(tokens):\n",
    "            if token not in word2vec.wv:\n",
    "                pass\n",
    "            else:\n",
    "                Xtrain[train_ind, token_id, :] = word2vec.wv[str(token)]\n",
    "        if y_train[index_] == 0.0:\n",
    "            ytrain[train_ind, :] = [1., 0., 0.]\n",
    "        elif y_train[index_] == 1.0:\n",
    "            ytrain[train_ind, :] = [0., 1., 0.]\n",
    "        else:\n",
    "            ytrain[train_ind, :] = [0., 0., 1.]\n",
    "    return Xtrain, ytrain"
   ]
  },
  {
   "cell_type": "code",
   "execution_count": 45,
   "metadata": {},
   "outputs": [],
   "source": [
    "Xtrain, ytrain = building_subset(X_train, Xtrain, X_processed, model_120, ytrain, y_train)"
   ]
  },
  {
   "cell_type": "markdown",
   "metadata": {},
   "source": [
    "Checking on \"review\" word from the second sentence in X_train dataset"
   ]
  },
  {
   "cell_type": "code",
   "execution_count": 46,
   "metadata": {},
   "outputs": [
    {
     "data": {
      "text/plain": [
       "array([ 2.1747973 ,  1.56801069,  0.88525897,  0.45513266,  0.12252418,\n",
       "       -2.01937437, -0.89725822, -1.08528936,  0.57925564,  0.37952843,\n",
       "       -1.84325528, -0.56999099,  0.36088121, -4.15854216,  0.24179475,\n",
       "       -1.41240954,  1.30264449, -2.46974993, -3.0126946 , -2.1506865 ,\n",
       "        2.87368464, -0.69415182,  3.05139804,  0.60078794,  1.53934443,\n",
       "        0.76762193, -2.12567043, -1.08836627, -2.0799911 , -1.92362833,\n",
       "       -0.08724946, -1.31737852, -2.0426333 , -3.32874775, -1.51043224,\n",
       "       -1.67988646, -2.99336243,  2.52708721,  0.01396178, -0.13106452,\n",
       "        1.93881524,  2.77460742,  4.53741121,  1.17581916, -1.46387196,\n",
       "       -0.05875344,  0.65480202,  1.52654827,  2.52466846, -0.79763734,\n",
       "       -3.76870227,  1.04703629,  3.1318984 , -3.30613756, -0.06503484,\n",
       "        0.32446393,  0.98976654, -0.81557137, -2.03937674,  1.01909387,\n",
       "       -1.09753048,  1.86334109,  1.3356967 , -2.89209223, -1.42287958,\n",
       "        2.58327055,  2.0182128 , -1.48660779,  0.05174031,  3.77141142,\n",
       "        0.98982388, -0.62172371,  0.55356115, -1.35474205, -0.11896989,\n",
       "       -2.93052745,  1.9388504 ,  1.05831373,  1.47120404,  0.59618866,\n",
       "       -0.98101503,  1.84237683, -3.83447981, -0.80960017,  2.21438313,\n",
       "        0.11762806,  0.43082595, -0.71278441,  1.0651598 , -1.23055482,\n",
       "       -1.51677001, -2.53663778,  1.18309319,  2.41856837,  1.67393231,\n",
       "       -1.56672955, -1.38231111,  1.89583635,  1.69408643,  2.01565528,\n",
       "        4.76069307, -0.35565075,  0.38939762, -0.57485449, -0.41746187,\n",
       "        2.88059449, -4.44671297, -0.6202507 , -2.21230173,  0.57685173,\n",
       "        1.50741923, -0.21742469, -0.94473892, -1.29404688,  5.55310774,\n",
       "       -1.48041141, -1.67252409, -1.70980287, -3.73515582,  0.16231024])"
      ]
     },
     "execution_count": 46,
     "metadata": {},
     "output_type": "execute_result"
    }
   ],
   "source": [
    "Xtrain[0, 1, :]"
   ]
  },
  {
   "cell_type": "code",
   "execution_count": 47,
   "metadata": {},
   "outputs": [
    {
     "data": {
      "text/plain": [
       "array([1., 0., 0.])"
      ]
     },
     "execution_count": 47,
     "metadata": {},
     "output_type": "execute_result"
    }
   ],
   "source": [
    "ytrain[0]"
   ]
  },
  {
   "cell_type": "code",
   "execution_count": 48,
   "metadata": {},
   "outputs": [],
   "source": [
    "Xtest, ytest = building_subset(X_test, Xtest, X_processed, model_120, ytest, y_test)\n",
    "Xval, yval = building_subset(X_val, Xval, X_processed, model_120, yval, y_val)"
   ]
  },
  {
   "cell_type": "markdown",
   "metadata": {},
   "source": [
    "Subsets for neural network are ready."
   ]
  },
  {
   "cell_type": "markdown",
   "metadata": {},
   "source": [
    "#### Building corpus for bag of word model:"
   ]
  },
  {
   "cell_type": "code",
   "execution_count": 49,
   "metadata": {},
   "outputs": [],
   "source": [
    "corpus = []\n",
    "for l in X_processed:\n",
    "    corpus.append(' '.join(str(x) for x in l))"
   ]
  },
  {
   "cell_type": "markdown",
   "metadata": {},
   "source": [
    "Creating bag-of-words model:"
   ]
  },
  {
   "cell_type": "code",
   "execution_count": 101,
   "metadata": {},
   "outputs": [],
   "source": [
    "from sklearn.feature_extraction.text import CountVectorizer\n",
    "cv = CountVectorizer()\n",
    "nB_x = cv.fit_transform(corpus[:10000]).toarray()\n",
    "nB_y = y.loc[:9999].values"
   ]
  },
  {
   "cell_type": "markdown",
   "metadata": {},
   "source": [
    "Using standard algorithms to take some baseline:"
   ]
  },
  {
   "cell_type": "markdown",
   "metadata": {},
   "source": [
    "#### Naive Bayes"
   ]
  },
  {
   "cell_type": "code",
   "execution_count": 115,
   "metadata": {},
   "outputs": [],
   "source": [
    "from sklearn.cross_validation import train_test_split\n",
    "nBx_train, nBx_test, nBy_train, nBy_test = train_test_split(nB_x, nB_y, test_size = 0.20, random_state = 0)\n",
    "\n",
    "# Fitting Naive Bayes to the Training set\n",
    "from sklearn.naive_bayes import GaussianNB\n",
    "gNB = GaussianNB()\n",
    "gNB.fit(nBx_train, nBy_train)\n",
    "\n",
    "# Predicting the Test set results\n",
    "gnBy_pred = gNB.predict(nBx_test)"
   ]
  },
  {
   "cell_type": "markdown",
   "metadata": {},
   "source": [
    "#### Multinomial Naive Bayes"
   ]
  },
  {
   "cell_type": "code",
   "execution_count": 126,
   "metadata": {},
   "outputs": [],
   "source": [
    "from sklearn.naive_bayes import MultinomialNB\n",
    "mNB = MultinomialNB(alpha=0.5)\n",
    "mNB.fit(nBx_train, nBy_train)\n",
    "\n",
    "# Predicting the Test set results\n",
    "mnBy_pred = mNB.predict(nBx_test)"
   ]
  },
  {
   "cell_type": "code",
   "execution_count": 127,
   "metadata": {},
   "outputs": [
    {
     "name": "stdout",
     "output_type": "stream",
     "text": [
      "\n",
      "Gausian NaiveBayes:\t0.442\n",
      "Multinomial NaiveBayes:\t0.6545\n",
      "\n"
     ]
    }
   ],
   "source": [
    "from sklearn.metrics import accuracy_score\n",
    "print(f'''\n",
    "Gausian NaiveBayes:\\t{accuracy_score(nBy_test, gnBy_pred)}\n",
    "Multinomial NaiveBayes:\\t{accuracy_score(nBy_test, mnBy_pred)}\n",
    "''')"
   ]
  },
  {
   "cell_type": "markdown",
   "metadata": {},
   "source": [
    "#### Logistic Regression"
   ]
  },
  {
   "cell_type": "code",
   "execution_count": 129,
   "metadata": {},
   "outputs": [
    {
     "name": "stdout",
     "output_type": "stream",
     "text": [
      "Logistic Regression accuracy: 0.6735\n"
     ]
    }
   ],
   "source": [
    "from sklearn.linear_model import LogisticRegression\n",
    "lR = LogisticRegression(random_state=0)\n",
    "lR.fit(nBx_train, nBy_train)\n",
    "\n",
    "lRy_pred = lR.predict(nBx_test)\n",
    "print(f'Logistic Regression accuracy: {accuracy_score(nBy_test, lRy_pred)}')"
   ]
  },
  {
   "cell_type": "code",
   "execution_count": 132,
   "metadata": {},
   "outputs": [],
   "source": [
    "from sklearn.model_selection import GridSearchCV\n",
    "param_grid = {'penalty': ('l1', 'l2'), 'C': [0.1, 1, 10]}\n",
    "gSrch = GridSearchCV(lR, param_grid=param_grid, scoring='accuracy')"
   ]
  },
  {
   "cell_type": "code",
   "execution_count": 135,
   "metadata": {},
   "outputs": [
    {
     "data": {
      "text/plain": [
       "LogisticRegression(C=1.0, class_weight=None, dual=False, fit_intercept=True,\n",
       "          intercept_scaling=1, max_iter=100, multi_class='ovr', n_jobs=1,\n",
       "          penalty='l2', random_state=0, solver='liblinear', tol=0.0001,\n",
       "          verbose=0, warm_start=False)"
      ]
     },
     "execution_count": 135,
     "metadata": {},
     "output_type": "execute_result"
    }
   ],
   "source": [
    "gSrch.estimator"
   ]
  },
  {
   "cell_type": "markdown",
   "metadata": {},
   "source": [
    "#### Random Forest"
   ]
  },
  {
   "cell_type": "code",
   "execution_count": 136,
   "metadata": {},
   "outputs": [
    {
     "name": "stderr",
     "output_type": "stream",
     "text": [
      "C:\\Users\\miska\\Anaconda3\\lib\\site-packages\\sklearn\\ensemble\\weight_boosting.py:29: DeprecationWarning: numpy.core.umath_tests is an internal NumPy module and should not be imported. It will be removed in a future NumPy release.\n",
      "  from numpy.core.umath_tests import inner1d\n"
     ]
    },
    {
     "name": "stdout",
     "output_type": "stream",
     "text": [
      "Random Forest accuracy: 0.6745\n"
     ]
    }
   ],
   "source": [
    "from sklearn.ensemble import RandomForestClassifier\n",
    "rF = RandomForestClassifier(n_estimators=500, criterion='entropy')\n",
    "rF.fit(nBx_train, nBy_train)\n",
    "\n",
    "rFy_pred = rF.predict(nBx_test)\n",
    "print(f'Random Forest accuracy: {accuracy_score(nBy_test, rFy_pred)}')"
   ]
  },
  {
   "cell_type": "markdown",
   "metadata": {},
   "source": [
    "#### Ensemble: Voting Classifier."
   ]
  },
  {
   "cell_type": "code",
   "execution_count": 140,
   "metadata": {},
   "outputs": [
    {
     "data": {
      "text/plain": [
       "array([2., 2., 2., 0., 0., 0., 0., 0., 1., 0.])"
      ]
     },
     "execution_count": 140,
     "metadata": {},
     "output_type": "execute_result"
    }
   ],
   "source": [
    "nBy_train[:10]"
   ]
  },
  {
   "cell_type": "code",
   "execution_count": 141,
   "metadata": {},
   "outputs": [
    {
     "name": "stderr",
     "output_type": "stream",
     "text": [
      "C:\\Users\\miska\\Anaconda3\\lib\\site-packages\\sklearn\\preprocessing\\label.py:151: DeprecationWarning: The truth value of an empty array is ambiguous. Returning False, but in future this will result in an error. Use `array.size > 0` to check that an array is not empty.\n",
      "  if diff:\n"
     ]
    },
    {
     "name": "stdout",
     "output_type": "stream",
     "text": [
      "Ensemble: 0.678\n"
     ]
    }
   ],
   "source": [
    "from sklearn.ensemble import VotingClassifier\n",
    "eclf = VotingClassifier(estimators=[('logistic', lR), ('randomforest', rF)], voting='soft')\n",
    "eclf.fit(nBx_train, nBy_train)\n",
    "ens_y_pred = eclf.predict(nBx_test)\n",
    "print(f'Ensemble accuracy: {accuracy_score(nBy_test, ens_y_pred)}')"
   ]
  },
  {
   "cell_type": "markdown",
   "metadata": {},
   "source": [
    "#### Convolutional neural network Keras"
   ]
  },
  {
   "cell_type": "markdown",
   "metadata": {},
   "source": [
    "Importing keras"
   ]
  },
  {
   "cell_type": "code",
   "execution_count": 50,
   "metadata": {},
   "outputs": [
    {
     "name": "stderr",
     "output_type": "stream",
     "text": [
      "Using TensorFlow backend.\n"
     ]
    }
   ],
   "source": [
    "from keras.models import Sequential\n",
    "from keras.layers.core import Dense, Dropout, Flatten\n",
    "from keras.layers.embeddings import Embedding\n",
    "from keras.layers.convolutional import Conv1D, MaxPooling1D\n",
    "from keras.optimizers import Adam, Adamax, Nadam, RMSprop\n",
    "from keras.callbacks import EarlyStopping"
   ]
  },
  {
   "cell_type": "code",
   "execution_count": 52,
   "metadata": {},
   "outputs": [],
   "source": [
    "#initial model\n",
    "# inspired by https://arxiv.org/pdf/1710.05978.pdf\n",
    "batch_size = 32\n",
    "nb_epochs = 100\n",
    "\n",
    "model = Sequential()\n",
    "model.add(Conv1D(32, kernel_size=3, activation='elu', padding='same', input_shape=(max_length, vector_size)))\n",
    "model.add(Dropout(0.25))\n",
    "model.add(Conv1D(32, kernel_size=2, activation='elu', padding='same'))\n",
    "model.add(Dropout(0.25))\n",
    "model.add(Flatten())\n",
    "model.add(Dense(256, activation='tanh'))\n",
    "model.add(Dropout(0.5))\n",
    "\n",
    "model.add(Dense(3, activation='softmax'))"
   ]
  },
  {
   "cell_type": "code",
   "execution_count": 53,
   "metadata": {},
   "outputs": [
    {
     "name": "stdout",
     "output_type": "stream",
     "text": [
      "_________________________________________________________________\n",
      "Layer (type)                 Output Shape              Param #   \n",
      "=================================================================\n",
      "conv1d_1 (Conv1D)            (None, 81, 32)            11552     \n",
      "_________________________________________________________________\n",
      "dropout_1 (Dropout)          (None, 81, 32)            0         \n",
      "_________________________________________________________________\n",
      "conv1d_2 (Conv1D)            (None, 81, 32)            2080      \n",
      "_________________________________________________________________\n",
      "dropout_2 (Dropout)          (None, 81, 32)            0         \n",
      "_________________________________________________________________\n",
      "flatten_1 (Flatten)          (None, 2592)              0         \n",
      "_________________________________________________________________\n",
      "dense_1 (Dense)              (None, 256)               663808    \n",
      "_________________________________________________________________\n",
      "dropout_3 (Dropout)          (None, 256)               0         \n",
      "_________________________________________________________________\n",
      "dense_2 (Dense)              (None, 3)                 771       \n",
      "=================================================================\n",
      "Total params: 678,211\n",
      "Trainable params: 678,211\n",
      "Non-trainable params: 0\n",
      "_________________________________________________________________\n"
     ]
    }
   ],
   "source": [
    "model.summary()"
   ]
  },
  {
   "cell_type": "code",
   "execution_count": 54,
   "metadata": {},
   "outputs": [],
   "source": [
    "# Compile the model\n",
    "model.compile(loss='categorical_crossentropy',\n",
    "              optimizer=Adam(lr=0.0001, decay=1e-6),\n",
    "              metrics=['accuracy'])"
   ]
  },
  {
   "cell_type": "code",
   "execution_count": 55,
   "metadata": {},
   "outputs": [
    {
     "name": "stdout",
     "output_type": "stream",
     "text": [
      "Train on 90001 samples, validate on 30001 samples\n",
      "Epoch 1/100\n",
      " - 40s - loss: 0.8744 - acc: 0.6266 - val_loss: 0.6430 - val_acc: 0.7240\n",
      "Epoch 2/100\n",
      " - 29s - loss: 0.6818 - acc: 0.7032 - val_loss: 0.6158 - val_acc: 0.7342\n",
      "Epoch 3/100\n",
      " - 28s - loss: 0.6343 - acc: 0.7251 - val_loss: 0.5954 - val_acc: 0.7421\n",
      "Epoch 4/100\n",
      " - 28s - loss: 0.6099 - acc: 0.7348 - val_loss: 0.5881 - val_acc: 0.7441\n",
      "Epoch 5/100\n",
      " - 28s - loss: 0.5974 - acc: 0.7410 - val_loss: 0.5829 - val_acc: 0.7461\n",
      "Epoch 6/100\n",
      " - 28s - loss: 0.5892 - acc: 0.7455 - val_loss: 0.5777 - val_acc: 0.7479\n",
      "Epoch 7/100\n",
      " - 28s - loss: 0.5825 - acc: 0.7479 - val_loss: 0.5763 - val_acc: 0.7488\n",
      "Epoch 8/100\n",
      " - 28s - loss: 0.5772 - acc: 0.7513 - val_loss: 0.5738 - val_acc: 0.7505\n",
      "Epoch 9/100\n",
      " - 28s - loss: 0.5730 - acc: 0.7527 - val_loss: 0.5736 - val_acc: 0.7506\n",
      "Epoch 10/100\n",
      " - 28s - loss: 0.5698 - acc: 0.7539 - val_loss: 0.5714 - val_acc: 0.7504\n",
      "Epoch 11/100\n",
      " - 31s - loss: 0.5670 - acc: 0.7558 - val_loss: 0.5702 - val_acc: 0.7514\n",
      "Epoch 12/100\n",
      " - 29s - loss: 0.5621 - acc: 0.7579 - val_loss: 0.5714 - val_acc: 0.7523\n",
      "Epoch 13/100\n",
      " - 28s - loss: 0.5604 - acc: 0.7589 - val_loss: 0.5687 - val_acc: 0.7535\n",
      "Epoch 14/100\n",
      " - 28s - loss: 0.5577 - acc: 0.7597 - val_loss: 0.5674 - val_acc: 0.7533\n",
      "Epoch 15/100\n",
      " - 28s - loss: 0.5523 - acc: 0.7629 - val_loss: 0.5694 - val_acc: 0.7536\n",
      "Epoch 16/100\n",
      " - 28s - loss: 0.5514 - acc: 0.7628 - val_loss: 0.5671 - val_acc: 0.7527\n",
      "Epoch 17/100\n",
      " - 28s - loss: 0.5512 - acc: 0.7630 - val_loss: 0.5668 - val_acc: 0.7550\n",
      "Epoch 18/100\n",
      " - 28s - loss: 0.5476 - acc: 0.7640 - val_loss: 0.5640 - val_acc: 0.7549\n",
      "Epoch 19/100\n",
      " - 28s - loss: 0.5440 - acc: 0.7674 - val_loss: 0.5640 - val_acc: 0.7548\n",
      "Epoch 20/100\n",
      " - 29s - loss: 0.5430 - acc: 0.7665 - val_loss: 0.5631 - val_acc: 0.7550\n",
      "Epoch 21/100\n",
      " - 28s - loss: 0.5405 - acc: 0.7678 - val_loss: 0.5648 - val_acc: 0.7560\n",
      "Epoch 22/100\n",
      " - 28s - loss: 0.5397 - acc: 0.7697 - val_loss: 0.5630 - val_acc: 0.7548\n"
     ]
    }
   ],
   "source": [
    "# Fit the model\n",
    "history = model.fit(Xtrain, ytrain,\n",
    "          batch_size=batch_size,\n",
    "          shuffle=True,\n",
    "          epochs=nb_epochs,\n",
    "          validation_data=(Xval, yval),\n",
    "          callbacks=[EarlyStopping(min_delta=0.00025, patience=2)], verbose=2)"
   ]
  },
  {
   "cell_type": "markdown",
   "metadata": {},
   "source": [
    "Accuracy for Neural Network:"
   ]
  },
  {
   "cell_type": "code",
   "execution_count": 56,
   "metadata": {},
   "outputs": [
    {
     "data": {
      "text/plain": [
       "0.7562081263957868"
      ]
     },
     "execution_count": 56,
     "metadata": {},
     "output_type": "execute_result"
    }
   ],
   "source": [
    "from sklearn.metrics import accuracy_score\n",
    "ypred_nn = model.predict_classes(Xtest)\n",
    "ypred_nn = np.array(ypred_nn, dtype=float)\n",
    "accuracy_score(y_test[X_test].values, ypred_nn)"
   ]
  },
  {
   "cell_type": "markdown",
   "metadata": {},
   "source": [
    "To visualize the curves building a function:"
   ]
  },
  {
   "cell_type": "code",
   "execution_count": 14,
   "metadata": {},
   "outputs": [],
   "source": [
    "def visualize_history(history):\n",
    "    plt.plot(history.history['acc'])\n",
    "    plt.plot(history.history['val_acc'])\n",
    "    plt.title('Model accuracy')\n",
    "    plt.ylabel('Accuracy')\n",
    "    plt.xlabel('Epoch')\n",
    "    plt.legend(['Train', 'Valditaion'], loc='upper left')\n",
    "    plt.show()\n",
    "\n",
    "    # Plot training & validation loss values\n",
    "    plt.plot(history.history['loss'])\n",
    "    plt.plot(history.history['val_loss'])\n",
    "    plt.title('Model loss')\n",
    "    plt.ylabel('Loss')\n",
    "    plt.xlabel('Epoch')\n",
    "    plt.legend(['Train', 'Validation'], loc='upper left')\n",
    "    plt.show()"
   ]
  },
  {
   "cell_type": "code",
   "execution_count": 59,
   "metadata": {},
   "outputs": [
    {
     "data": {
      "image/png": "[encoded data removed]",
      "text/plain": [
       "<Figure size 432x288 with 1 Axes>"
      ]
     },
     "metadata": {},
     "output_type": "display_data"
    },
    {
     "data": {
      "image/png": "[encoded data removed]",
      "text/plain": [
       "<Figure size 432x288 with 1 Axes>"
      ]
     },
     "metadata": {},
     "output_type": "display_data"
    }
   ],
   "source": [
    "visualize_history(history)"
   ]
  },
  {
   "cell_type": "markdown",
   "metadata": {},
   "source": [
    "#### Tweaking parameters and changing the architecture:"
   ]
  },
  {
   "cell_type": "code",
   "execution_count": 60,
   "metadata": {},
   "outputs": [
    {
     "name": "stdout",
     "output_type": "stream",
     "text": [
      "Train on 90001 samples, validate on 30001 samples\n",
      "Epoch 1/100\n",
      " - 37s - loss: 0.6820 - acc: 0.7081 - val_loss: 0.6062 - val_acc: 0.7389\n",
      "Epoch 2/100\n",
      " - 29s - loss: 0.6170 - acc: 0.7340 - val_loss: 0.5869 - val_acc: 0.7445\n",
      "Epoch 3/100\n",
      " - 29s - loss: 0.6069 - acc: 0.7377 - val_loss: 0.5806 - val_acc: 0.7464\n",
      "Epoch 4/100\n",
      " - 29s - loss: 0.5994 - acc: 0.7408 - val_loss: 0.5867 - val_acc: 0.7486\n",
      "Epoch 5/100\n",
      " - 29s - loss: 0.5954 - acc: 0.7428 - val_loss: 0.5802 - val_acc: 0.7472\n",
      "Epoch 6/100\n",
      " - 29s - loss: 0.5938 - acc: 0.7453 - val_loss: 0.5775 - val_acc: 0.7507\n",
      "Epoch 7/100\n",
      " - 29s - loss: 0.5891 - acc: 0.7456 - val_loss: 0.5707 - val_acc: 0.7535\n",
      "Epoch 8/100\n",
      " - 28s - loss: 0.5903 - acc: 0.7463 - val_loss: 0.5708 - val_acc: 0.7551\n",
      "Epoch 9/100\n",
      " - 28s - loss: 0.5871 - acc: 0.7477 - val_loss: 0.5755 - val_acc: 0.7553\n"
     ]
    }
   ],
   "source": [
    "#changing learning rate\n",
    "batch_size = 32\n",
    "nb_epochs = 100\n",
    "\n",
    "model = Sequential()\n",
    "model.add(Conv1D(32, kernel_size=3, activation='elu', padding='same', input_shape=(max_length, vector_size)))\n",
    "model.add(Dropout(0.25))\n",
    "\n",
    "model.add(Conv1D(32, kernel_size=2, activation='elu', padding='same'))\n",
    "model.add(Dropout(0.25))\n",
    "\n",
    "model.add(Flatten())\n",
    "\n",
    "model.add(Dense(256, activation='tanh'))\n",
    "model.add(Dropout(0.5))\n",
    "\n",
    "model.add(Dense(3, activation='softmax'))\n",
    "model.compile(loss='categorical_crossentropy',\n",
    "              optimizer=Adam(lr=0.001, decay=1e-6),\n",
    "              metrics=['accuracy'])\n",
    "history = model.fit(Xtrain, ytrain,\n",
    "          batch_size=batch_size,\n",
    "          shuffle=True,\n",
    "          epochs=nb_epochs,\n",
    "          validation_data=(Xval, yval),\n",
    "          callbacks=[EarlyStopping(min_delta=0.00025, patience=2)], \n",
    "          verbose=2)"
   ]
  },
  {
   "cell_type": "code",
   "execution_count": 61,
   "metadata": {},
   "outputs": [
    {
     "data": {
      "text/plain": [
       "0.7501416619446019"
      ]
     },
     "execution_count": 61,
     "metadata": {},
     "output_type": "execute_result"
    }
   ],
   "source": [
    "ypred_nn = model.predict_classes(Xtest)\n",
    "ypred_nn = np.array(ypred_nn, dtype=float)\n",
    "accuracy_score(y_test[X_test].values, ypred_nn)"
   ]
  },
  {
   "cell_type": "code",
   "execution_count": 62,
   "metadata": {},
   "outputs": [
    {
     "data": {
      "image/png": "[encoded data removed]",
      "text/plain": [
       "<Figure size 432x288 with 1 Axes>"
      ]
     },
     "metadata": {},
     "output_type": "display_data"
    },
    {
     "data": {
      "image/png": "[encoded data removed]",
      "text/plain": [
       "<Figure size 432x288 with 1 Axes>"
      ]
     },
     "metadata": {},
     "output_type": "display_data"
    }
   ],
   "source": [
    "#lr=0.001\n",
    "visualize_history(history)"
   ]
  },
  {
   "cell_type": "markdown",
   "metadata": {},
   "source": [
    "#### changing learning rate"
   ]
  },
  {
   "cell_type": "code",
   "execution_count": 63,
   "metadata": {},
   "outputs": [
    {
     "name": "stdout",
     "output_type": "stream",
     "text": [
      "Train on 90001 samples, validate on 30001 samples\n",
      "Epoch 1/100\n",
      " - 29s - loss: 0.9980 - acc: 0.5762 - val_loss: 0.6866 - val_acc: 0.7053\n",
      "Epoch 2/100\n",
      " - 27s - loss: 0.7797 - acc: 0.6669 - val_loss: 0.6460 - val_acc: 0.7220\n",
      "Epoch 3/100\n",
      " - 27s - loss: 0.7220 - acc: 0.6895 - val_loss: 0.6295 - val_acc: 0.7277\n",
      "Epoch 4/100\n",
      " - 27s - loss: 0.6877 - acc: 0.7020 - val_loss: 0.6180 - val_acc: 0.7338\n",
      "Epoch 5/100\n",
      " - 27s - loss: 0.6618 - acc: 0.7125 - val_loss: 0.6085 - val_acc: 0.7352\n",
      "Epoch 6/100\n",
      " - 28s - loss: 0.6451 - acc: 0.7191 - val_loss: 0.6045 - val_acc: 0.7381\n",
      "Epoch 7/100\n",
      " - 27s - loss: 0.6308 - acc: 0.7267 - val_loss: 0.5973 - val_acc: 0.7407\n",
      "Epoch 8/100\n",
      " - 28s - loss: 0.6235 - acc: 0.7297 - val_loss: 0.5939 - val_acc: 0.7426\n",
      "Epoch 9/100\n",
      " - 27s - loss: 0.6133 - acc: 0.7347 - val_loss: 0.5902 - val_acc: 0.7435\n",
      "Epoch 10/100\n",
      " - 28s - loss: 0.6071 - acc: 0.7361 - val_loss: 0.5890 - val_acc: 0.7443\n",
      "Epoch 11/100\n",
      " - 30s - loss: 0.6017 - acc: 0.7394 - val_loss: 0.5855 - val_acc: 0.7452\n",
      "Epoch 12/100\n",
      " - 28s - loss: 0.5974 - acc: 0.7416 - val_loss: 0.5846 - val_acc: 0.7453\n",
      "Epoch 13/100\n",
      " - 27s - loss: 0.5944 - acc: 0.7424 - val_loss: 0.5824 - val_acc: 0.7467\n",
      "Epoch 14/100\n",
      " - 27s - loss: 0.5908 - acc: 0.7441 - val_loss: 0.5813 - val_acc: 0.7460\n",
      "Epoch 15/100\n",
      " - 27s - loss: 0.5886 - acc: 0.7438 - val_loss: 0.5810 - val_acc: 0.7475\n",
      "Epoch 16/100\n",
      " - 27s - loss: 0.5872 - acc: 0.7457 - val_loss: 0.5791 - val_acc: 0.7470\n",
      "Epoch 17/100\n",
      " - 27s - loss: 0.5839 - acc: 0.7466 - val_loss: 0.5792 - val_acc: 0.7473\n",
      "Epoch 18/100\n",
      " - 27s - loss: 0.5808 - acc: 0.7492 - val_loss: 0.5759 - val_acc: 0.7483\n",
      "Epoch 19/100\n",
      " - 27s - loss: 0.5790 - acc: 0.7492 - val_loss: 0.5755 - val_acc: 0.7483\n",
      "Epoch 20/100\n",
      " - 28s - loss: 0.5778 - acc: 0.7505 - val_loss: 0.5750 - val_acc: 0.7485\n",
      "Epoch 21/100\n",
      " - 27s - loss: 0.5766 - acc: 0.7505 - val_loss: 0.5739 - val_acc: 0.7496\n",
      "Epoch 22/100\n",
      " - 27s - loss: 0.5754 - acc: 0.7522 - val_loss: 0.5739 - val_acc: 0.7499\n",
      "Epoch 23/100\n",
      " - 27s - loss: 0.5737 - acc: 0.7520 - val_loss: 0.5730 - val_acc: 0.7507\n",
      "Epoch 24/100\n",
      " - 27s - loss: 0.5736 - acc: 0.7518 - val_loss: 0.5728 - val_acc: 0.7509\n",
      "Epoch 25/100\n",
      " - 27s - loss: 0.5708 - acc: 0.7535 - val_loss: 0.5719 - val_acc: 0.7520\n",
      "Epoch 26/100\n",
      " - 27s - loss: 0.5700 - acc: 0.7549 - val_loss: 0.5707 - val_acc: 0.7516\n",
      "Epoch 27/100\n",
      " - 27s - loss: 0.5694 - acc: 0.7541 - val_loss: 0.5714 - val_acc: 0.7517\n",
      "Epoch 28/100\n",
      " - 27s - loss: 0.5674 - acc: 0.7541 - val_loss: 0.5715 - val_acc: 0.7517\n"
     ]
    }
   ],
   "source": [
    "batch_size = 32\n",
    "nb_epochs = 100\n",
    "\n",
    "model = Sequential()\n",
    "model.add(Conv1D(32, kernel_size=3, activation='elu', padding='same', input_shape=(max_length, vector_size)))\n",
    "model.add(Dropout(0.25))\n",
    "\n",
    "model.add(Conv1D(32, kernel_size=2, activation='elu', padding='same'))\n",
    "model.add(Dropout(0.25))\n",
    "\n",
    "model.add(Flatten())\n",
    "\n",
    "model.add(Dense(256, activation='tanh'))\n",
    "model.add(Dropout(0.5))\n",
    "\n",
    "model.add(Dense(3, activation='softmax'))\n",
    "model.compile(loss='categorical_crossentropy',\n",
    "              optimizer=Adamax(lr=0.0001, decay=1e-6),\n",
    "              metrics=['accuracy'])\n",
    "history = model.fit(Xtrain, ytrain,\n",
    "          batch_size=batch_size,\n",
    "          shuffle=True,\n",
    "          epochs=nb_epochs,\n",
    "          validation_data=(Xval, yval),\n",
    "          callbacks=[EarlyStopping(min_delta=0.00025, patience=2)], \n",
    "          verbose=2)"
   ]
  },
  {
   "cell_type": "code",
   "execution_count": 64,
   "metadata": {},
   "outputs": [
    {
     "data": {
      "text/plain": [
       "0.7478417386087131"
      ]
     },
     "execution_count": 64,
     "metadata": {},
     "output_type": "execute_result"
    }
   ],
   "source": [
    "ypred_nn = model.predict_classes(Xtest)\n",
    "ypred_nn = np.array(ypred_nn, dtype=float)\n",
    "accuracy_score(y_test[X_test].values, ypred_nn)"
   ]
  },
  {
   "cell_type": "code",
   "execution_count": 65,
   "metadata": {},
   "outputs": [
    {
     "data": {
      "image/png": "[encoded data removed]",
      "text/plain": [
       "<Figure size 432x288 with 1 Axes>"
      ]
     },
     "metadata": {},
     "output_type": "display_data"
    },
    {
     "data": {
      "image/png": "[encoded data removed]",
      "text/plain": [
       "<Figure size 432x288 with 1 Axes>"
      ]
     },
     "metadata": {},
     "output_type": "display_data"
    }
   ],
   "source": [
    "#Adamax\n",
    "visualize_history(history)"
   ]
  },
  {
   "cell_type": "markdown",
   "metadata": {},
   "source": [
    "#### Changing optimizer to Adamax is not giving a result"
   ]
  },
  {
   "cell_type": "code",
   "execution_count": 66,
   "metadata": {},
   "outputs": [
    {
     "name": "stdout",
     "output_type": "stream",
     "text": [
      "Train on 90001 samples, validate on 30001 samples\n",
      "Epoch 1/100\n",
      " - 57s - loss: 0.8665 - acc: 0.6314 - val_loss: 0.6888 - val_acc: 0.7182\n",
      "Epoch 2/100\n",
      " - 55s - loss: 0.7195 - acc: 0.6918 - val_loss: 0.6410 - val_acc: 0.7309\n",
      "Epoch 3/100\n",
      " - 55s - loss: 0.6741 - acc: 0.7076 - val_loss: 0.6289 - val_acc: 0.7349\n",
      "Epoch 4/100\n",
      " - 55s - loss: 0.6444 - acc: 0.7196 - val_loss: 0.6180 - val_acc: 0.7362\n",
      "Epoch 5/100\n",
      " - 55s - loss: 0.6282 - acc: 0.7270 - val_loss: 0.6066 - val_acc: 0.7405\n",
      "Epoch 6/100\n",
      " - 55s - loss: 0.6151 - acc: 0.7323 - val_loss: 0.5998 - val_acc: 0.7420\n",
      "Epoch 7/100\n",
      " - 57s - loss: 0.6073 - acc: 0.7369 - val_loss: 0.5899 - val_acc: 0.7457\n",
      "Epoch 8/100\n",
      " - 56s - loss: 0.6009 - acc: 0.7390 - val_loss: 0.5885 - val_acc: 0.7456\n",
      "Epoch 9/100\n",
      " - 56s - loss: 0.5922 - acc: 0.7427 - val_loss: 0.5856 - val_acc: 0.7461\n",
      "Epoch 10/100\n",
      " - 55s - loss: 0.5878 - acc: 0.7461 - val_loss: 0.5797 - val_acc: 0.7487\n",
      "Epoch 11/100\n",
      " - 55s - loss: 0.5840 - acc: 0.7465 - val_loss: 0.5804 - val_acc: 0.7478\n",
      "Epoch 12/100\n",
      " - 55s - loss: 0.5797 - acc: 0.7507 - val_loss: 0.5760 - val_acc: 0.7499\n",
      "Epoch 13/100\n",
      " - 55s - loss: 0.5776 - acc: 0.7498 - val_loss: 0.5752 - val_acc: 0.7504\n",
      "Epoch 14/100\n",
      " - 55s - loss: 0.5744 - acc: 0.7522 - val_loss: 0.5746 - val_acc: 0.7503\n",
      "Epoch 15/100\n",
      " - 56s - loss: 0.5721 - acc: 0.7516 - val_loss: 0.5729 - val_acc: 0.7514\n",
      "Epoch 16/100\n",
      " - 56s - loss: 0.5701 - acc: 0.7550 - val_loss: 0.5714 - val_acc: 0.7514\n",
      "Epoch 17/100\n",
      " - 56s - loss: 0.5682 - acc: 0.7548 - val_loss: 0.5691 - val_acc: 0.7529\n",
      "Epoch 18/100\n",
      " - 55s - loss: 0.5655 - acc: 0.7571 - val_loss: 0.5696 - val_acc: 0.7528\n",
      "Epoch 19/100\n",
      " - 56s - loss: 0.5638 - acc: 0.7568 - val_loss: 0.5699 - val_acc: 0.7525\n"
     ]
    }
   ],
   "source": [
    "#batch size 16, adding conv1d 64 and 128. Changing kernel 5-3-2\n",
    "batch_size = 16\n",
    "nb_epochs = 100\n",
    "\n",
    "model = Sequential()\n",
    "model.add(Conv1D(32, kernel_size=5, activation='elu', padding='same', input_shape=(max_length, vector_size)))\n",
    "model.add(Dropout(0.3))\n",
    "\n",
    "model.add(Conv1D(64, kernel_size=3, activation='elu', padding='same'))\n",
    "model.add(Dropout(0.3))\n",
    "\n",
    "model.add(Conv1D(128, kernel_size=2, activation='elu', padding='same'))\n",
    "model.add(Dropout(0.3))\n",
    "\n",
    "model.add(Flatten())\n",
    "\n",
    "model.add(Dense(256, activation='tanh'))\n",
    "model.add(Dropout(0.5))\n",
    "\n",
    "model.add(Dense(3, activation='softmax'))\n",
    "model.compile(loss='categorical_crossentropy',\n",
    "              optimizer=Adamax(lr=0.0001, decay=1e-6),\n",
    "              metrics=['accuracy'])\n",
    "history = model.fit(Xtrain, ytrain,\n",
    "          batch_size=batch_size,\n",
    "          shuffle=True,\n",
    "          epochs=nb_epochs,\n",
    "          validation_data=(Xval, yval),\n",
    "          callbacks=[EarlyStopping(min_delta=0.00025, patience=2)], \n",
    "          verbose=2)"
   ]
  },
  {
   "cell_type": "code",
   "execution_count": 67,
   "metadata": {},
   "outputs": [
    {
     "name": "stdout",
     "output_type": "stream",
     "text": [
      "0.749641678610713\n"
     ]
    },
    {
     "data": {
      "image/png": "[encoded data removed]",
      "text/plain": [
       "<Figure size 432x288 with 1 Axes>"
      ]
     },
     "metadata": {},
     "output_type": "display_data"
    },
    {
     "data": {
      "image/png": "[encoded data removed]",
      "text/plain": [
       "<Figure size 432x288 with 1 Axes>"
      ]
     },
     "metadata": {},
     "output_type": "display_data"
    }
   ],
   "source": [
    "ypred_nn = model.predict_classes(Xtest)\n",
    "ypred_nn = np.array(ypred_nn, dtype=float)\n",
    "print(accuracy_score(y_test[X_test].values, ypred_nn))\n",
    "visualize_history(history)"
   ]
  },
  {
   "cell_type": "code",
   "execution_count": 68,
   "metadata": {},
   "outputs": [
    {
     "name": "stdout",
     "output_type": "stream",
     "text": [
      "Train on 90001 samples, validate on 30001 samples\n",
      "Epoch 1/100\n",
      " - 51s - loss: 0.8724 - acc: 0.6322 - val_loss: 0.6449 - val_acc: 0.7232\n",
      "Epoch 2/100\n",
      " - 30s - loss: 0.6859 - acc: 0.7016 - val_loss: 0.6118 - val_acc: 0.7343\n",
      "Epoch 3/100\n",
      " - 30s - loss: 0.6348 - acc: 0.7247 - val_loss: 0.5984 - val_acc: 0.7407\n",
      "Epoch 4/100\n",
      " - 30s - loss: 0.6104 - acc: 0.7346 - val_loss: 0.5898 - val_acc: 0.7429\n",
      "Epoch 5/100\n",
      " - 30s - loss: 0.5973 - acc: 0.7408 - val_loss: 0.5855 - val_acc: 0.7460\n",
      "Epoch 6/100\n",
      " - 30s - loss: 0.5898 - acc: 0.7455 - val_loss: 0.5852 - val_acc: 0.7459\n",
      "Epoch 7/100\n",
      " - 30s - loss: 0.5834 - acc: 0.7465 - val_loss: 0.5810 - val_acc: 0.7488\n",
      "Epoch 8/100\n",
      " - 30s - loss: 0.5791 - acc: 0.7509 - val_loss: 0.5791 - val_acc: 0.7485\n",
      "Epoch 9/100\n",
      " - 31s - loss: 0.5751 - acc: 0.7523 - val_loss: 0.5744 - val_acc: 0.7494\n",
      "Epoch 10/100\n",
      " - 32s - loss: 0.5709 - acc: 0.7526 - val_loss: 0.5740 - val_acc: 0.7519\n",
      "Epoch 11/100\n",
      " - 30s - loss: 0.5679 - acc: 0.7547 - val_loss: 0.5732 - val_acc: 0.7510\n",
      "Epoch 12/100\n",
      " - 30s - loss: 0.5646 - acc: 0.7566 - val_loss: 0.5742 - val_acc: 0.7524\n",
      "Epoch 13/100\n",
      " - 30s - loss: 0.5612 - acc: 0.7586 - val_loss: 0.5722 - val_acc: 0.7530\n",
      "Epoch 14/100\n",
      " - 30s - loss: 0.5592 - acc: 0.7590 - val_loss: 0.5696 - val_acc: 0.7526\n",
      "Epoch 15/100\n",
      " - 30s - loss: 0.5556 - acc: 0.7612 - val_loss: 0.5688 - val_acc: 0.7532\n",
      "Epoch 16/100\n",
      " - 30s - loss: 0.5530 - acc: 0.7620 - val_loss: 0.5702 - val_acc: 0.7534\n",
      "Epoch 17/100\n",
      " - 30s - loss: 0.5511 - acc: 0.7628 - val_loss: 0.5675 - val_acc: 0.7541\n",
      "Epoch 18/100\n",
      " - 30s - loss: 0.5480 - acc: 0.7648 - val_loss: 0.5670 - val_acc: 0.7560\n",
      "Epoch 19/100\n",
      " - 30s - loss: 0.5460 - acc: 0.7650 - val_loss: 0.5669 - val_acc: 0.7553\n",
      "Epoch 20/100\n",
      " - 30s - loss: 0.5454 - acc: 0.7657 - val_loss: 0.5683 - val_acc: 0.7550\n"
     ]
    }
   ],
   "source": [
    "#trying NADAM\n",
    "#initial model\n",
    "# inspired by https://arxiv.org/pdf/1710.05978.pdf\n",
    "batch_size = 32\n",
    "nb_epochs = 100\n",
    "\n",
    "model = Sequential()\n",
    "model.add(Conv1D(32, kernel_size=3, activation='elu', padding='same', input_shape=(max_length, vector_size)))\n",
    "model.add(Dropout(0.25))\n",
    "model.add(Conv1D(32, kernel_size=2, activation='elu', padding='same'))\n",
    "model.add(Dropout(0.25))\n",
    "model.add(Flatten())\n",
    "model.add(Dense(256, activation='tanh'))\n",
    "model.add(Dropout(0.5))\n",
    "\n",
    "model.add(Dense(3, activation='softmax'))\n",
    "model.compile(loss='categorical_crossentropy',\n",
    "              optimizer=Nadam(lr=0.0001),\n",
    "              metrics=['accuracy'])\n",
    "history = model.fit(Xtrain, ytrain,\n",
    "          batch_size=batch_size,\n",
    "          shuffle=True,\n",
    "          epochs=nb_epochs,\n",
    "          validation_data=(Xval, yval),\n",
    "          callbacks=[EarlyStopping(min_delta=0.00025, patience=2)], \n",
    "          verbose=2)"
   ]
  },
  {
   "cell_type": "code",
   "execution_count": 69,
   "metadata": {},
   "outputs": [
    {
     "name": "stdout",
     "output_type": "stream",
     "text": [
      "0.7522082597246759\n"
     ]
    },
    {
     "data": {
      "image/png": "[encoded data removed]",
      "text/plain": [
       "<Figure size 432x288 with 1 Axes>"
      ]
     },
     "metadata": {},
     "output_type": "display_data"
    },
    {
     "data": {
      "image/png": "[encoded data removed]",
      "text/plain": [
       "<Figure size 432x288 with 1 Axes>"
      ]
     },
     "metadata": {},
     "output_type": "display_data"
    }
   ],
   "source": [
    "ypred_nn = model.predict_classes(Xtest)\n",
    "ypred_nn = np.array(ypred_nn, dtype=float)\n",
    "print(accuracy_score(y_test[X_test].values, ypred_nn))\n",
    "visualize_history(history)"
   ]
  },
  {
   "cell_type": "markdown",
   "metadata": {},
   "source": [
    "Nadam optimizer was not giving any improvement in performance"
   ]
  },
  {
   "cell_type": "markdown",
   "metadata": {},
   "source": [
    "Coming back to initial structure -  inspired by https://arxiv.org/pdf/1710.05978.pdf\n",
    "checking RMSprop as mentioned in the paper "
   ]
  },
  {
   "cell_type": "code",
   "execution_count": 70,
   "metadata": {},
   "outputs": [
    {
     "name": "stdout",
     "output_type": "stream",
     "text": [
      "Train on 90001 samples, validate on 30001 samples\n",
      "Epoch 1/100\n",
      " - 29s - loss: 0.8540 - acc: 0.6406 - val_loss: 0.6421 - val_acc: 0.7274\n",
      "Epoch 2/100\n",
      " - 27s - loss: 0.6764 - acc: 0.7078 - val_loss: 0.6121 - val_acc: 0.7357\n",
      "Epoch 3/100\n",
      " - 27s - loss: 0.6268 - acc: 0.7278 - val_loss: 0.5988 - val_acc: 0.7413\n",
      "Epoch 4/100\n",
      " - 28s - loss: 0.6051 - acc: 0.7379 - val_loss: 0.5902 - val_acc: 0.7447\n",
      "Epoch 5/100\n",
      " - 28s - loss: 0.5955 - acc: 0.7430 - val_loss: 0.5858 - val_acc: 0.7470\n",
      "Epoch 6/100\n",
      " - 28s - loss: 0.5899 - acc: 0.7455 - val_loss: 0.5833 - val_acc: 0.7478\n",
      "Epoch 7/100\n",
      " - 28s - loss: 0.5874 - acc: 0.7478 - val_loss: 0.5809 - val_acc: 0.7482\n",
      "Epoch 8/100\n",
      " - 27s - loss: 0.5818 - acc: 0.7487 - val_loss: 0.5783 - val_acc: 0.7481\n",
      "Epoch 9/100\n",
      " - 27s - loss: 0.5790 - acc: 0.7505 - val_loss: 0.5782 - val_acc: 0.7482\n",
      "Epoch 10/100\n",
      " - 27s - loss: 0.5777 - acc: 0.7517 - val_loss: 0.5738 - val_acc: 0.7506\n",
      "Epoch 11/100\n",
      " - 27s - loss: 0.5763 - acc: 0.7524 - val_loss: 0.5729 - val_acc: 0.7515\n",
      "Epoch 12/100\n",
      " - 27s - loss: 0.5746 - acc: 0.7535 - val_loss: 0.5707 - val_acc: 0.7527\n",
      "Epoch 13/100\n",
      " - 27s - loss: 0.5723 - acc: 0.7545 - val_loss: 0.5747 - val_acc: 0.7496\n",
      "Epoch 14/100\n",
      " - 27s - loss: 0.5696 - acc: 0.7568 - val_loss: 0.5696 - val_acc: 0.7547\n",
      "Epoch 15/100\n",
      " - 29s - loss: 0.5691 - acc: 0.7572 - val_loss: 0.5688 - val_acc: 0.7530\n",
      "Epoch 16/100\n",
      " - 29s - loss: 0.5659 - acc: 0.7591 - val_loss: 0.5681 - val_acc: 0.7533\n",
      "Epoch 17/100\n",
      " - 28s - loss: 0.5640 - acc: 0.7587 - val_loss: 0.5678 - val_acc: 0.7545\n",
      "Epoch 18/100\n",
      " - 27s - loss: 0.5638 - acc: 0.7599 - val_loss: 0.5713 - val_acc: 0.7527\n",
      "Epoch 19/100\n",
      " - 27s - loss: 0.5619 - acc: 0.7607 - val_loss: 0.5675 - val_acc: 0.7542\n",
      "Epoch 20/100\n",
      " - 27s - loss: 0.5606 - acc: 0.7607 - val_loss: 0.5679 - val_acc: 0.7534\n",
      "Epoch 21/100\n",
      " - 27s - loss: 0.5606 - acc: 0.7607 - val_loss: 0.5677 - val_acc: 0.7546\n"
     ]
    }
   ],
   "source": [
    "batch_size = 32\n",
    "nb_epochs = 100\n",
    "\n",
    "model = Sequential()\n",
    "model.add(Conv1D(32, kernel_size=3, activation='elu', padding='same', input_shape=(max_length, vector_size)))\n",
    "model.add(Dropout(0.25))\n",
    "model.add(Conv1D(32, kernel_size=2, activation='elu', padding='same'))\n",
    "model.add(Dropout(0.25))\n",
    "model.add(Flatten())\n",
    "model.add(Dense(256, activation='tanh'))\n",
    "model.add(Dropout(0.5))\n",
    "\n",
    "model.add(Dense(3, activation='softmax'))\n",
    "model.compile(loss='categorical_crossentropy',\n",
    "              optimizer=RMSprop(lr=0.0001),\n",
    "              metrics=['accuracy'])\n",
    "history = model.fit(Xtrain, ytrain,\n",
    "          batch_size=batch_size,\n",
    "          shuffle=True,\n",
    "          epochs=nb_epochs,\n",
    "          validation_data=(Xval, yval),\n",
    "          callbacks=[EarlyStopping(min_delta=0.00025, patience=2)], \n",
    "          verbose=2)"
   ]
  },
  {
   "cell_type": "code",
   "execution_count": 71,
   "metadata": {},
   "outputs": [
    {
     "name": "stdout",
     "output_type": "stream",
     "text": [
      "0.7515082830572314\n"
     ]
    },
    {
     "data": {
      "image/png": "[encoded data removed]",
      "text/plain": [
       "<Figure size 432x288 with 1 Axes>"
      ]
     },
     "metadata": {},
     "output_type": "display_data"
    },
    {
     "data": {
      "image/png": "[encoded data removed]",
      "text/plain": [
       "<Figure size 432x288 with 1 Axes>"
      ]
     },
     "metadata": {},
     "output_type": "display_data"
    }
   ],
   "source": [
    "ypred_nn = model.predict_classes(Xtest)\n",
    "ypred_nn = np.array(ypred_nn, dtype=float)\n",
    "print(accuracy_score(y_test[X_test].values, ypred_nn))\n",
    "visualize_history(history)"
   ]
  },
  {
   "cell_type": "markdown",
   "metadata": {},
   "source": [
    "RMSprop is giving more or less same results as Adam."
   ]
  },
  {
   "cell_type": "markdown",
   "metadata": {},
   "source": [
    "#### Trying fasttext"
   ]
  },
  {
   "cell_type": "code",
   "execution_count": 72,
   "metadata": {},
   "outputs": [],
   "source": [
    "from gensim.models import FastText"
   ]
  },
  {
   "cell_type": "code",
   "execution_count": 73,
   "metadata": {},
   "outputs": [],
   "source": [
    "fasttext = FastText(sentences=X_processed,\n",
    "                    size=vector_size, \n",
    "                    window=window_size, \n",
    "                    negative=20,\n",
    "                    iter=50,\n",
    "                    seed=1000,\n",
    "                    workers=multiprocessing.cpu_count())"
   ]
  },
  {
   "cell_type": "code",
   "execution_count": 77,
   "metadata": {},
   "outputs": [],
   "source": [
    "fasttext.save('fasttext.model')"
   ]
  },
  {
   "cell_type": "code",
   "execution_count": 78,
   "metadata": {},
   "outputs": [],
   "source": [
    "Xtrain, ytrain = building_subset(X_train, Xtrain, X_processed, fasttext, ytrain, y_train)\n",
    "Xtest, ytest = building_subset(X_test, Xtest, X_processed, fasttext, ytest, y_test)\n",
    "Xval, yval = building_subset(X_val, Xval, X_processed, fasttext, yval, y_val)"
   ]
  },
  {
   "cell_type": "code",
   "execution_count": 79,
   "metadata": {},
   "outputs": [
    {
     "name": "stdout",
     "output_type": "stream",
     "text": [
      "Train on 90001 samples, validate on 30001 samples\n",
      "Epoch 1/100\n",
      " - 31s - loss: 0.9352 - acc: 0.6093 - val_loss: 0.6714 - val_acc: 0.7176\n",
      "Epoch 2/100\n",
      " - 28s - loss: 0.7061 - acc: 0.6932 - val_loss: 0.6325 - val_acc: 0.7294\n",
      "Epoch 3/100\n",
      " - 27s - loss: 0.6451 - acc: 0.7188 - val_loss: 0.6098 - val_acc: 0.7350\n",
      "Epoch 4/100\n",
      " - 27s - loss: 0.6201 - acc: 0.7291 - val_loss: 0.6020 - val_acc: 0.7400\n",
      "Epoch 5/100\n",
      " - 27s - loss: 0.6103 - acc: 0.7355 - val_loss: 0.5965 - val_acc: 0.7415\n",
      "Epoch 6/100\n",
      " - 27s - loss: 0.6040 - acc: 0.7390 - val_loss: 0.5948 - val_acc: 0.7426\n",
      "Epoch 7/100\n",
      " - 27s - loss: 0.5975 - acc: 0.7434 - val_loss: 0.5889 - val_acc: 0.7441\n",
      "Epoch 8/100\n",
      " - 27s - loss: 0.5942 - acc: 0.7442 - val_loss: 0.5872 - val_acc: 0.7438\n",
      "Epoch 9/100\n",
      " - 27s - loss: 0.5901 - acc: 0.7459 - val_loss: 0.5848 - val_acc: 0.7467\n",
      "Epoch 10/100\n",
      " - 27s - loss: 0.5869 - acc: 0.7474 - val_loss: 0.5819 - val_acc: 0.7465\n",
      "Epoch 11/100\n",
      " - 27s - loss: 0.5857 - acc: 0.7492 - val_loss: 0.5798 - val_acc: 0.7487\n",
      "Epoch 12/100\n",
      " - 27s - loss: 0.5830 - acc: 0.7504 - val_loss: 0.5791 - val_acc: 0.7496\n",
      "Epoch 13/100\n",
      " - 29s - loss: 0.5805 - acc: 0.7521 - val_loss: 0.5831 - val_acc: 0.7439\n",
      "Epoch 14/100\n",
      " - 28s - loss: 0.5785 - acc: 0.7523 - val_loss: 0.5776 - val_acc: 0.7490\n",
      "Epoch 15/100\n",
      " - 30s - loss: 0.5755 - acc: 0.7548 - val_loss: 0.5761 - val_acc: 0.7506\n",
      "Epoch 16/100\n",
      " - 28s - loss: 0.5751 - acc: 0.7545 - val_loss: 0.5800 - val_acc: 0.7462\n",
      "Epoch 17/100\n",
      " - 28s - loss: 0.5734 - acc: 0.7551 - val_loss: 0.5737 - val_acc: 0.7506\n",
      "Epoch 18/100\n",
      " - 30s - loss: 0.5715 - acc: 0.7561 - val_loss: 0.5762 - val_acc: 0.7492\n",
      "Epoch 19/100\n",
      " - 30s - loss: 0.5700 - acc: 0.7575 - val_loss: 0.5776 - val_acc: 0.7481\n"
     ]
    }
   ],
   "source": [
    "batch_size = 32\n",
    "nb_epochs = 100\n",
    "\n",
    "model = Sequential()\n",
    "model.add(Conv1D(32, kernel_size=3, activation='elu', padding='same', input_shape=(max_length, vector_size)))\n",
    "model.add(Dropout(0.25))\n",
    "model.add(Conv1D(32, kernel_size=2, activation='elu', padding='same'))\n",
    "model.add(Dropout(0.25))\n",
    "model.add(Flatten())\n",
    "model.add(Dense(256, activation='tanh'))\n",
    "model.add(Dropout(0.5))\n",
    "\n",
    "model.add(Dense(3, activation='softmax'))\n",
    "model.compile(loss='categorical_crossentropy',\n",
    "              optimizer=RMSprop(lr=0.0001),\n",
    "              metrics=['accuracy'])\n",
    "history = model.fit(Xtrain, ytrain,\n",
    "          batch_size=batch_size,\n",
    "          shuffle=True,\n",
    "          epochs=nb_epochs,\n",
    "          validation_data=(Xval, yval),\n",
    "          callbacks=[EarlyStopping(min_delta=0.00025, patience=2)], \n",
    "          verbose=2)"
   ]
  },
  {
   "cell_type": "code",
   "execution_count": 80,
   "metadata": {},
   "outputs": [
    {
     "name": "stdout",
     "output_type": "stream",
     "text": [
      "0.7476084130528983\n"
     ]
    },
    {
     "data": {
      "image/png": "[encoded data removed]",
      "text/plain": [
       "<Figure size 432x288 with 1 Axes>"
      ]
     },
     "metadata": {},
     "output_type": "display_data"
    },
    {
     "data": {
      "image/png": "[encoded data removed]",
      "text/plain": [
       "<Figure size 432x288 with 1 Axes>"
      ]
     },
     "metadata": {},
     "output_type": "display_data"
    }
   ],
   "source": [
    "ypred_nn = model.predict_classes(Xtest)\n",
    "ypred_nn = np.array(ypred_nn, dtype=float)\n",
    "print(accuracy_score(y_test[X_test].values, ypred_nn))\n",
    "visualize_history(history)"
   ]
  },
  {
   "cell_type": "markdown",
   "metadata": {},
   "source": [
    "#### Using glove"
   ]
  },
  {
   "cell_type": "code",
   "execution_count": 6,
   "metadata": {},
   "outputs": [
    {
     "name": "stderr",
     "output_type": "stream",
     "text": [
      "C:\\Users\\miska\\Anaconda3\\lib\\site-packages\\gensim\\utils.py:1212: UserWarning: detected Windows; aliasing chunkize to chunkize_serial\n",
      "  warnings.warn(\"detected Windows; aliasing chunkize to chunkize_serial\")\n"
     ]
    }
   ],
   "source": [
    "import gensim"
   ]
  },
  {
   "cell_type": "code",
   "execution_count": 6,
   "metadata": {},
   "outputs": [
    {
     "name": "stderr",
     "output_type": "stream",
     "text": [
      "C:\\Users\\miska\\Anaconda3\\lib\\site-packages\\gensim\\utils.py:1212: UserWarning: detected Windows; aliasing chunkize to chunkize_serial\n",
      "  warnings.warn(\"detected Windows; aliasing chunkize to chunkize_serial\")\n"
     ]
    }
   ],
   "source": [
    "from gensim.test.utils import datapath, get_tmpfile\n",
    "from gensim.models import KeyedVectors\n",
    "from gensim.scripts.glove2word2vec import glove2word2vec"
   ]
  },
  {
   "cell_type": "code",
   "execution_count": 8,
   "metadata": {},
   "outputs": [],
   "source": [
    "glove_file = datapath('E:\\\\GitHub\\\\miskamvedebel\\\\UdacityNanoDegree\\\\capstone\\\\glove.twitter.27B\\\\glove.twitter.27B.100d.txt')\n",
    "tmp_file = get_tmpfile(\"test_word2vec.txt\")\n",
    "\n",
    "glove2word2vec(glove_file, tmp_file)\n",
    "model = KeyedVectors.load_word2vec_format(tmp_file)"
   ]
  },
  {
   "cell_type": "code",
   "execution_count": 9,
   "metadata": {},
   "outputs": [
    {
     "data": {
      "text/plain": [
       "array([-0.22439  , -0.25909  , -0.29518  , -0.56308  , -0.10016  ,\n",
       "       -0.32511  ,  0.45673  , -0.54263  ,  0.33272  , -0.075365 ,\n",
       "        0.045854 , -0.015904 , -2.9818   , -0.33931  ,  0.47892  ,\n",
       "       -0.39316  ,  0.22864  ,  0.47133  ,  0.15244  ,  0.21797  ,\n",
       "       -1.0587   , -0.42982  , -0.17551  ,  0.58737  , -0.79153  ,\n",
       "        0.12705  ,  0.55847  , -0.084414 ,  0.53333  , -0.013097 ,\n",
       "       -0.025843 , -0.45337  , -0.71405  ,  0.056823 ,  1.0907   ,\n",
       "        0.43067  ,  0.027348 , -0.02748  , -0.40943  , -0.071372 ,\n",
       "       -0.22087  , -0.64063  ,  0.11089  ,  0.44241  ,  0.40109  ,\n",
       "        0.15225  , -0.84026  ,  0.077735 ,  0.10644  , -0.40786  ,\n",
       "       -0.0492   , -0.04583  , -1.1005   ,  0.24455  , -0.37416  ,\n",
       "       -0.66829  ,  0.61404  , -0.38694  , -0.085025 , -0.6284   ,\n",
       "        0.23041  , -0.25372  ,  0.3407   ,  0.16684  ,  0.22396  ,\n",
       "       -0.025463 ,  0.38793  , -0.86671  ,  0.8284   , -0.24308  ,\n",
       "        0.29263  , -0.079297 ,  0.18095  ,  0.10471  , -0.042427 ,\n",
       "       -0.51887  ,  0.012096 , -0.049524 , -0.31103  , -0.38611  ,\n",
       "        1.8001   ,  0.77597  ,  0.78555  , -0.04519  ,  0.42841  ,\n",
       "       -0.037471 ,  0.25409  , -0.13387  ,  0.058953 , -0.62958  ,\n",
       "       -0.46543  ,  0.046891 ,  0.19252  , -0.54781  ,  0.65425  ,\n",
       "       -0.46088  ,  0.8023   ,  0.0089679,  0.23918  ,  0.29693  ],\n",
       "      dtype=float32)"
      ]
     },
     "execution_count": 9,
     "metadata": {},
     "output_type": "execute_result"
    }
   ],
   "source": [
    "model['review']"
   ]
  },
  {
   "cell_type": "markdown",
   "metadata": {},
   "source": [
    "Recreating vectors for NN training"
   ]
  },
  {
   "cell_type": "code",
   "execution_count": 105,
   "metadata": {},
   "outputs": [
    {
     "data": {
      "text/plain": [
       "(None, None, None)"
      ]
     },
     "execution_count": 105,
     "metadata": {},
     "output_type": "execute_result"
    }
   ],
   "source": [
    "np.save('x_train', X_train), np.save('x_test', X_test), np.save('x_val', X_val)"
   ]
  },
  {
   "cell_type": "code",
   "execution_count": 107,
   "metadata": {},
   "outputs": [],
   "source": [
    "y_train.to_csv('y_train.csv', sep=';', index=False)\n",
    "y_test.to_csv('y_test.csv', sep=';', index=False)\n",
    "y_val.to_csv('y_val.csv', sep=';', index=False)"
   ]
  },
  {
   "cell_type": "code",
   "execution_count": 2,
   "metadata": {},
   "outputs": [],
   "source": [
    "with open(\"tokens_v2.txt\", \"rb\") as fp:   # Unpickling\n",
    "     X_processed = pickle.load(fp)"
   ]
  },
  {
   "cell_type": "code",
   "execution_count": 3,
   "metadata": {},
   "outputs": [],
   "source": [
    "y_train = pd.read_csv('y_train.csv', sep=';', header=None)\n",
    "y_test = pd.read_csv('y_test.csv', sep=';', header=None)\n",
    "y_val =pd.read_csv('y_val.csv', sep=';', header=None)\n",
    "X_train = np.load('x_train.npy')\n",
    "X_test = np.load('x_test.npy') \n",
    "X_val = np.load('x_val.npy')"
   ]
  },
  {
   "cell_type": "code",
   "execution_count": 29,
   "metadata": {},
   "outputs": [
    {
     "data": {
      "text/plain": [
       "(90001,)"
      ]
     },
     "execution_count": 29,
     "metadata": {},
     "output_type": "execute_result"
    }
   ],
   "source": [
    "X_train.shape"
   ]
  },
  {
   "cell_type": "code",
   "execution_count": 34,
   "metadata": {},
   "outputs": [],
   "source": [
    "import cupy as cp\n",
    "import numpy as np\n",
    "\n",
    "Xtrain = np.zeros(shape=(X_train.shape[0], 81, 100))\n",
    "Xval = np.zeros(shape=(X_val.shape[0], 81, 100))\n",
    "Xtest = np.zeros(shape=(X_test.shape[0], 81, 100))\n",
    "ytrain = np.zeros(shape=(len(y_train), 3))\n",
    "yval = np.zeros(shape=(len(y_val), 3))\n",
    "ytest = np.zeros(shape=(len(y_test), 3))"
   ]
  },
  {
   "cell_type": "code",
   "execution_count": 33,
   "metadata": {},
   "outputs": [
    {
     "data": {
      "text/plain": [
       "90000"
      ]
     },
     "execution_count": 33,
     "metadata": {},
     "output_type": "execute_result"
    }
   ],
   "source": [
    "len(ytrain)"
   ]
  },
  {
   "cell_type": "code",
   "execution_count": 5,
   "metadata": {},
   "outputs": [],
   "source": [
    "def building_subset_after_load(X_train, Xtrain, X_processed, word2vec, ytrain, y_train):\n",
    "    for train_ind, index_ in enumerate(X_train):\n",
    "        tokens = X_processed[index_]\n",
    "        for token_id, token in enumerate(tokens):\n",
    "            if token not in word2vec.wv:\n",
    "                pass\n",
    "            else:\n",
    "                Xtrain[train_ind, token_id, :] = word2vec.wv[str(token)]\n",
    "        if y_train.loc[train_ind, :].values == 0.0:\n",
    "            ytrain[train_ind, :] = [1., 0., 0.]\n",
    "        elif y_train.loc[train_ind, :].values == 1.0:\n",
    "            ytrain[train_ind, :] = [0., 1., 0.]\n",
    "        else:\n",
    "            ytrain[train_ind, :] = [0., 0., 1.]\n",
    "    return Xtrain, ytrain"
   ]
  },
  {
   "cell_type": "code",
   "execution_count": 36,
   "metadata": {},
   "outputs": [
    {
     "name": "stderr",
     "output_type": "stream",
     "text": [
      "C:\\Users\\miska\\Anaconda3\\lib\\site-packages\\ipykernel_launcher.py:5: DeprecationWarning: Call to deprecated `wv` (Attribute will be removed in 4.0.0, use self instead).\n",
      "  \"\"\"\n",
      "C:\\Users\\miska\\Anaconda3\\lib\\site-packages\\ipykernel_launcher.py:8: DeprecationWarning: Call to deprecated `wv` (Attribute will be removed in 4.0.0, use self instead).\n",
      "  \n"
     ]
    }
   ],
   "source": [
    "Xtrain, ytrain = building_subset_after_load(X_train, Xtrain, X_processed, model, ytrain, y_train)\n",
    "Xtest, ytest = building_subset_after_load(X_test, Xtest, X_processed, model, ytest, y_test)\n",
    "Xval, yval = building_subset_after_load(X_val, Xval, X_processed, model, yval, y_val)"
   ]
  },
  {
   "cell_type": "code",
   "execution_count": 12,
   "metadata": {},
   "outputs": [
    {
     "name": "stderr",
     "output_type": "stream",
     "text": [
      "C:\\Users\\miska\\Anaconda3\\lib\\site-packages\\h5py\\__init__.py:36: FutureWarning: Conversion of the second argument of issubdtype from `float` to `np.floating` is deprecated. In future, it will be treated as `np.float64 == np.dtype(float).type`.\n",
      "  from ._conv import register_converters as _register_converters\n",
      "Using TensorFlow backend.\n"
     ]
    }
   ],
   "source": [
    "from keras.models import Sequential\n",
    "from keras.layers.core import Dense, Dropout, Flatten\n",
    "from keras.layers.embeddings import Embedding\n",
    "from keras.layers.convolutional import Conv1D, MaxPooling1D\n",
    "from keras.optimizers import Adam, Adamax, Nadam, RMSprop\n",
    "from keras.callbacks import EarlyStopping"
   ]
  },
  {
   "cell_type": "code",
   "execution_count": 40,
   "metadata": {},
   "outputs": [
    {
     "name": "stdout",
     "output_type": "stream",
     "text": [
      "Train on 90001 samples, validate on 30001 samples\n",
      "Epoch 1/100\n",
      " - 35s - loss: 0.8826 - acc: 0.5855 - val_loss: 0.7409 - val_acc: 0.6692\n",
      "Epoch 2/100\n",
      " - 24s - loss: 0.7647 - acc: 0.6583 - val_loss: 0.7149 - val_acc: 0.6831\n",
      "Epoch 3/100\n",
      " - 24s - loss: 0.7358 - acc: 0.6719 - val_loss: 0.7031 - val_acc: 0.6881\n",
      "Epoch 4/100\n",
      " - 24s - loss: 0.7211 - acc: 0.6779 - val_loss: 0.6984 - val_acc: 0.6893\n",
      "Epoch 5/100\n",
      " - 24s - loss: 0.7089 - acc: 0.6847 - val_loss: 0.6918 - val_acc: 0.6918\n",
      "Epoch 6/100\n",
      " - 24s - loss: 0.6982 - acc: 0.6899 - val_loss: 0.6801 - val_acc: 0.6974\n",
      "Epoch 7/100\n",
      " - 24s - loss: 0.6911 - acc: 0.6942 - val_loss: 0.6765 - val_acc: 0.6981\n",
      "Epoch 8/100\n",
      " - 24s - loss: 0.6841 - acc: 0.6967 - val_loss: 0.6691 - val_acc: 0.7009\n",
      "Epoch 9/100\n",
      " - 24s - loss: 0.6784 - acc: 0.7000 - val_loss: 0.6705 - val_acc: 0.7007\n",
      "Epoch 10/100\n",
      " - 24s - loss: 0.6727 - acc: 0.7025 - val_loss: 0.6576 - val_acc: 0.7064\n",
      "Epoch 11/100\n",
      " - 24s - loss: 0.6683 - acc: 0.7063 - val_loss: 0.6547 - val_acc: 0.7084\n",
      "Epoch 12/100\n",
      " - 24s - loss: 0.6644 - acc: 0.7071 - val_loss: 0.6504 - val_acc: 0.7115\n",
      "Epoch 13/100\n",
      " - 24s - loss: 0.6618 - acc: 0.7095 - val_loss: 0.6489 - val_acc: 0.7139\n",
      "Epoch 14/100\n",
      " - 24s - loss: 0.6591 - acc: 0.7100 - val_loss: 0.6462 - val_acc: 0.7150\n",
      "Epoch 15/100\n",
      " - 24s - loss: 0.6557 - acc: 0.7124 - val_loss: 0.6436 - val_acc: 0.7159\n",
      "Epoch 16/100\n",
      " - 24s - loss: 0.6520 - acc: 0.7132 - val_loss: 0.6423 - val_acc: 0.7169\n",
      "Epoch 17/100\n",
      " - 24s - loss: 0.6495 - acc: 0.7157 - val_loss: 0.6394 - val_acc: 0.7188\n",
      "Epoch 18/100\n",
      " - 24s - loss: 0.6470 - acc: 0.7160 - val_loss: 0.6374 - val_acc: 0.7194\n",
      "Epoch 19/100\n",
      " - 24s - loss: 0.6457 - acc: 0.7165 - val_loss: 0.6352 - val_acc: 0.7208\n",
      "Epoch 20/100\n",
      " - 24s - loss: 0.6414 - acc: 0.7186 - val_loss: 0.6347 - val_acc: 0.7206\n",
      "Epoch 21/100\n",
      " - 24s - loss: 0.6413 - acc: 0.7181 - val_loss: 0.6300 - val_acc: 0.7217\n",
      "Epoch 22/100\n",
      " - 24s - loss: 0.6378 - acc: 0.7196 - val_loss: 0.6290 - val_acc: 0.7225\n",
      "Epoch 23/100\n",
      " - 24s - loss: 0.6380 - acc: 0.7202 - val_loss: 0.6294 - val_acc: 0.7255\n",
      "Epoch 24/100\n",
      " - 24s - loss: 0.6348 - acc: 0.7219 - val_loss: 0.6253 - val_acc: 0.7247\n",
      "Epoch 25/100\n",
      " - 24s - loss: 0.6320 - acc: 0.7227 - val_loss: 0.6239 - val_acc: 0.7258\n",
      "Epoch 26/100\n",
      " - 24s - loss: 0.6312 - acc: 0.7245 - val_loss: 0.6269 - val_acc: 0.7246\n",
      "Epoch 27/100\n",
      " - 24s - loss: 0.6308 - acc: 0.7249 - val_loss: 0.6239 - val_acc: 0.7271\n"
     ]
    }
   ],
   "source": [
    "batch_size = 32\n",
    "nb_epochs = 100\n",
    "\n",
    "model = Sequential()\n",
    "model.add(Conv1D(32, kernel_size=3, activation='elu', padding='same', input_shape=(81, 100)))\n",
    "model.add(Dropout(0.25))\n",
    "model.add(Conv1D(32, kernel_size=2, activation='elu', padding='same'))\n",
    "model.add(Dropout(0.25))\n",
    "model.add(Flatten())\n",
    "model.add(Dense(256, activation='tanh'))\n",
    "model.add(Dropout(0.5))\n",
    "\n",
    "model.add(Dense(3, activation='softmax'))\n",
    "model.compile(loss='categorical_crossentropy',\n",
    "              optimizer=RMSprop(lr=0.0001),\n",
    "              metrics=['accuracy'])\n",
    "history = model.fit(Xtrain, ytrain,\n",
    "          batch_size=batch_size,\n",
    "          shuffle=True,\n",
    "          epochs=nb_epochs,\n",
    "          validation_data=(Xval, yval),\n",
    "          callbacks=[EarlyStopping(min_delta=0.00025, patience=2)], \n",
    "          verbose=2)"
   ]
  },
  {
   "cell_type": "code",
   "execution_count": 43,
   "metadata": {},
   "outputs": [
    {
     "name": "stdout",
     "output_type": "stream",
     "text": [
      "0.7198426719109363\n"
     ]
    },
    {
     "data": {
      "image/png": "[encoded data removed]",
      "text/plain": [
       "<Figure size 432x288 with 1 Axes>"
      ]
     },
     "metadata": {},
     "output_type": "display_data"
    },
    {
     "data": {
      "image/png": "[encoded data removed]",
      "text/plain": [
       "<Figure size 432x288 with 1 Axes>"
      ]
     },
     "metadata": {},
     "output_type": "display_data"
    }
   ],
   "source": [
    "from sklearn.metrics import accuracy_score\n",
    "ypred_nn = model.predict_classes(Xtest)\n",
    "ypred_nn = np.array(ypred_nn, dtype=float)\n",
    "print(accuracy_score(y_test.values, ypred_nn))\n",
    "visualize_history(history)"
   ]
  },
  {
   "cell_type": "code",
   "execution_count": 7,
   "metadata": {},
   "outputs": [],
   "source": [
    "glove_file = datapath('E:\\\\GitHub\\\\miskamvedebel\\\\UdacityNanoDegree\\\\capstone\\\\glove.twitter.27B\\\\glove.twitter.27B.200d.txt')\n",
    "tmp_file = get_tmpfile(\"test_word2vec.txt\")\n",
    "\n",
    "glove2word2vec(glove_file, tmp_file)\n",
    "glove200 = KeyedVectors.load_word2vec_format(tmp_file)"
   ]
  },
  {
   "cell_type": "code",
   "execution_count": 11,
   "metadata": {},
   "outputs": [
    {
     "name": "stderr",
     "output_type": "stream",
     "text": [
      "C:\\Users\\miska\\Anaconda3\\lib\\site-packages\\ipykernel_launcher.py:5: DeprecationWarning: Call to deprecated `wv` (Attribute will be removed in 4.0.0, use self instead).\n",
      "  \"\"\"\n",
      "C:\\Users\\miska\\Anaconda3\\lib\\site-packages\\ipykernel_launcher.py:8: DeprecationWarning: Call to deprecated `wv` (Attribute will be removed in 4.0.0, use self instead).\n",
      "  \n"
     ]
    }
   ],
   "source": [
    "Xtrain, ytrain = building_subset_after_load(X_train, Xtrain, X_processed, glove200, ytrain, y_train)\n",
    "Xtest, ytest = building_subset_after_load(X_test, Xtest, X_processed, glove200, ytest, y_test)\n",
    "Xval, yval = building_subset_after_load(X_val, Xval, X_processed, glove200, yval, y_val)"
   ]
  },
  {
   "cell_type": "code",
   "execution_count": 14,
   "metadata": {},
   "outputs": [
    {
     "name": "stdout",
     "output_type": "stream",
     "text": [
      "Train on 90001 samples, validate on 30001 samples\n",
      "Epoch 1/100\n",
      " - 84s - loss: 0.8241 - acc: 0.6188 - val_loss: 0.6969 - val_acc: 0.6910\n",
      "Epoch 2/100\n",
      " - 97s - loss: 0.7203 - acc: 0.6821 - val_loss: 0.6873 - val_acc: 0.6979\n",
      "Epoch 3/100\n",
      " - 90s - loss: 0.6966 - acc: 0.6930 - val_loss: 0.6711 - val_acc: 0.7031\n",
      "Epoch 4/100\n",
      " - 50s - loss: 0.6811 - acc: 0.6999 - val_loss: 0.6608 - val_acc: 0.7075\n",
      "Epoch 5/100\n",
      " - 75s - loss: 0.6702 - acc: 0.7060 - val_loss: 0.6561 - val_acc: 0.7106\n",
      "Epoch 6/100\n",
      " - 66s - loss: 0.6607 - acc: 0.7111 - val_loss: 0.6607 - val_acc: 0.7076\n",
      "Epoch 7/100\n",
      " - 87s - loss: 0.6549 - acc: 0.7127 - val_loss: 0.6444 - val_acc: 0.7149\n",
      "Epoch 8/100\n",
      " - 74s - loss: 0.6484 - acc: 0.7145 - val_loss: 0.6438 - val_acc: 0.7164\n",
      "Epoch 9/100\n",
      " - 75s - loss: 0.6438 - acc: 0.7173 - val_loss: 0.6362 - val_acc: 0.7197\n",
      "Epoch 10/100\n",
      " - 70s - loss: 0.6382 - acc: 0.7213 - val_loss: 0.6340 - val_acc: 0.7210\n",
      "Epoch 11/100\n",
      " - 85s - loss: 0.6348 - acc: 0.7228 - val_loss: 0.6299 - val_acc: 0.7217\n",
      "Epoch 12/100\n",
      " - 81s - loss: 0.6300 - acc: 0.7245 - val_loss: 0.6251 - val_acc: 0.7243\n",
      "Epoch 13/100\n",
      " - 70s - loss: 0.6280 - acc: 0.7259 - val_loss: 0.6238 - val_acc: 0.7257\n",
      "Epoch 14/100\n",
      " - 70s - loss: 0.6237 - acc: 0.7285 - val_loss: 0.6241 - val_acc: 0.7271\n",
      "Epoch 15/100\n",
      " - 83s - loss: 0.6212 - acc: 0.7294 - val_loss: 0.6176 - val_acc: 0.7287\n",
      "Epoch 16/100\n",
      " - 76s - loss: 0.6195 - acc: 0.7302 - val_loss: 0.6178 - val_acc: 0.7295\n",
      "Epoch 17/100\n",
      " - 69s - loss: 0.6172 - acc: 0.7322 - val_loss: 0.6152 - val_acc: 0.7282\n",
      "Epoch 18/100\n",
      " - 66s - loss: 0.6152 - acc: 0.7322 - val_loss: 0.6138 - val_acc: 0.7282\n",
      "Epoch 19/100\n",
      " - 72s - loss: 0.6130 - acc: 0.7323 - val_loss: 0.6116 - val_acc: 0.7307\n",
      "Epoch 20/100\n",
      " - 68s - loss: 0.6095 - acc: 0.7359 - val_loss: 0.6119 - val_acc: 0.7310\n",
      "Epoch 21/100\n",
      " - 81s - loss: 0.6070 - acc: 0.7366 - val_loss: 0.6122 - val_acc: 0.7320\n"
     ]
    }
   ],
   "source": [
    "batch_size = 32\n",
    "nb_epochs = 100\n",
    "\n",
    "model = Sequential()\n",
    "model.add(Conv1D(32, kernel_size=3, activation='elu', padding='same', input_shape=(81, 200)))\n",
    "model.add(Dropout(0.25))\n",
    "model.add(Conv1D(32, kernel_size=2, activation='elu', padding='same'))\n",
    "model.add(Dropout(0.25))\n",
    "model.add(Flatten())\n",
    "model.add(Dense(256, activation='tanh'))\n",
    "model.add(Dropout(0.5))\n",
    "\n",
    "model.add(Dense(3, activation='softmax'))\n",
    "model.compile(loss='categorical_crossentropy',\n",
    "              optimizer=RMSprop(lr=0.0001),\n",
    "              metrics=['accuracy'])\n",
    "history = model.fit(Xtrain, ytrain,\n",
    "          batch_size=batch_size,\n",
    "          shuffle=True,\n",
    "          epochs=nb_epochs,\n",
    "          validation_data=(Xval, yval),\n",
    "          callbacks=[EarlyStopping(min_delta=0.00025, patience=2)], \n",
    "          verbose=2)"
   ]
  },
  {
   "cell_type": "code",
   "execution_count": 16,
   "metadata": {},
   "outputs": [
    {
     "name": "stdout",
     "output_type": "stream",
     "text": [
      "0.7262424585847138\n"
     ]
    },
    {
     "data": {
      "image/png": "[encoded data removed]",
      "text/plain": [
       "<Figure size 432x288 with 1 Axes>"
      ]
     },
     "metadata": {},
     "output_type": "display_data"
    },
    {
     "data": {
      "image/png": "[encoded data removed]",
      "text/plain": [
       "<Figure size 432x288 with 1 Axes>"
      ]
     },
     "metadata": {},
     "output_type": "display_data"
    }
   ],
   "source": [
    "from sklearn.metrics import accuracy_score\n",
    "ypred_nn = model.predict_classes(Xtest)\n",
    "ypred_nn = np.array(ypred_nn, dtype=float)\n",
    "print(accuracy_score(y_test.values, ypred_nn))\n",
    "visualize_history(history)"
   ]
  },
  {
   "cell_type": "markdown",
   "metadata": {},
   "source": [
    "#### Creating own dictionary with 200 dimensions"
   ]
  },
  {
   "cell_type": "code",
   "execution_count": 2,
   "metadata": {},
   "outputs": [],
   "source": [
    "with open(\"tokens_v2.txt\", \"rb\") as fp:   # Unpickling\n",
    "     X_processed = pickle.load(fp)"
   ]
  },
  {
   "cell_type": "code",
   "execution_count": 3,
   "metadata": {},
   "outputs": [],
   "source": [
    "Xtrain = np.zeros(shape=(90001, 81, 200))\n",
    "Xval = np.zeros(shape=(30001, 81, 200))\n",
    "Xtest = np.zeros(shape=(30001, 81, 200))\n",
    "ytrain = np.zeros(shape=(90001, 3))\n",
    "yval = np.zeros(shape=(30001, 3))\n",
    "ytest = np.zeros(shape=(30001, 3))"
   ]
  },
  {
   "cell_type": "code",
   "execution_count": 4,
   "metadata": {},
   "outputs": [],
   "source": [
    "y_train = pd.read_csv('y_train.csv', sep=';', header=None)\n",
    "y_test = pd.read_csv('y_test.csv', sep=';', header=None)\n",
    "y_val =pd.read_csv('y_val.csv', sep=';', header=None)\n",
    "X_train = np.load('x_train.npy')\n",
    "X_test = np.load('x_test.npy') \n",
    "X_val = np.load('x_val.npy')"
   ]
  },
  {
   "cell_type": "code",
   "execution_count": 6,
   "metadata": {},
   "outputs": [
    {
     "name": "stderr",
     "output_type": "stream",
     "text": [
      "C:\\Users\\miska\\Anaconda3\\lib\\site-packages\\gensim\\utils.py:1212: UserWarning: detected Windows; aliasing chunkize to chunkize_serial\n",
      "  warnings.warn(\"detected Windows; aliasing chunkize to chunkize_serial\")\n"
     ]
    }
   ],
   "source": [
    "from gensim.models.word2vec import Word2Vec\n",
    "import multiprocessing\n",
    "model_200 = Word2Vec(sentences=X_processed,\n",
    "                    size=200, \n",
    "                    window=10, \n",
    "                    negative=20,\n",
    "                    iter=50,\n",
    "                    seed=1000,\n",
    "                    workers=multiprocessing.cpu_count())"
   ]
  },
  {
   "cell_type": "code",
   "execution_count": 7,
   "metadata": {},
   "outputs": [],
   "source": [
    "model_200.save('model_200.model')"
   ]
  },
  {
   "cell_type": "code",
   "execution_count": 8,
   "metadata": {},
   "outputs": [],
   "source": [
    "Xtrain, ytrain = building_subset_after_load(X_train, Xtrain, X_processed, model_200, ytrain, y_train)\n",
    "Xtest, ytest = building_subset_after_load(X_test, Xtest, X_processed, model_200, ytest, y_test)\n",
    "Xval, yval = building_subset_after_load(X_val, Xval, X_processed, model_200, yval, y_val)"
   ]
  },
  {
   "cell_type": "code",
   "execution_count": 10,
   "metadata": {},
   "outputs": [
    {
     "name": "stdout",
     "output_type": "stream",
     "text": [
      "Train on 90001 samples, validate on 30001 samples\n",
      "Epoch 1/100\n",
      " - 88s - loss: 0.8387 - acc: 0.6431 - val_loss: 0.6321 - val_acc: 0.7288\n",
      "Epoch 2/100\n",
      " - 98s - loss: 0.6672 - acc: 0.7116 - val_loss: 0.6043 - val_acc: 0.7396\n",
      "Epoch 3/100\n",
      " - 102s - loss: 0.6215 - acc: 0.7278 - val_loss: 0.5902 - val_acc: 0.7451\n",
      "Epoch 4/100\n",
      " - 49s - loss: 0.5985 - acc: 0.7385 - val_loss: 0.5833 - val_acc: 0.7471\n",
      "Epoch 5/100\n",
      " - 63s - loss: 0.5859 - acc: 0.7461 - val_loss: 0.5756 - val_acc: 0.7507\n",
      "Epoch 6/100\n",
      " - 68s - loss: 0.5786 - acc: 0.7498 - val_loss: 0.5743 - val_acc: 0.7520\n",
      "Epoch 7/100\n",
      " - 86s - loss: 0.5728 - acc: 0.7518 - val_loss: 0.5732 - val_acc: 0.7541\n",
      "Epoch 8/100\n",
      " - 79s - loss: 0.5678 - acc: 0.7555 - val_loss: 0.5732 - val_acc: 0.7525\n",
      "Epoch 9/100\n",
      " - 87s - loss: 0.5628 - acc: 0.7580 - val_loss: 0.5714 - val_acc: 0.7538\n",
      "Epoch 10/100\n",
      " - 91s - loss: 0.5590 - acc: 0.7592 - val_loss: 0.5688 - val_acc: 0.7544\n",
      "Epoch 11/100\n",
      " - 79s - loss: 0.5555 - acc: 0.7619 - val_loss: 0.5687 - val_acc: 0.7542\n",
      "Epoch 12/100\n",
      " - 84s - loss: 0.5500 - acc: 0.7636 - val_loss: 0.5679 - val_acc: 0.7550\n",
      "Epoch 13/100\n",
      " - 78s - loss: 0.5473 - acc: 0.7642 - val_loss: 0.5652 - val_acc: 0.7554\n",
      "Epoch 14/100\n",
      " - 84s - loss: 0.5451 - acc: 0.7674 - val_loss: 0.5664 - val_acc: 0.7549\n",
      "Epoch 15/100\n",
      " - 88s - loss: 0.5405 - acc: 0.7668 - val_loss: 0.5665 - val_acc: 0.7561\n"
     ]
    }
   ],
   "source": [
    "# inspired by https://arxiv.org/pdf/1710.05978.pdf\n",
    "from keras.models import Sequential\n",
    "from keras.layers.core import Dense, Dropout, Flatten\n",
    "from keras.layers.embeddings import Embedding\n",
    "from keras.layers.convolutional import Conv1D, MaxPooling1D\n",
    "from keras.optimizers import Adam, Adamax, Nadam, RMSprop\n",
    "from keras.callbacks import EarlyStopping\n",
    "\n",
    "batch_size = 32\n",
    "nb_epochs = 100\n",
    "\n",
    "model = Sequential()\n",
    "model.add(Conv1D(32, kernel_size=3, activation='elu', padding='same', input_shape=(81, 200)))\n",
    "model.add(Dropout(0.25))\n",
    "model.add(Conv1D(32, kernel_size=2, activation='elu', padding='same'))\n",
    "model.add(Dropout(0.25))\n",
    "model.add(Flatten())\n",
    "model.add(Dense(256, activation='tanh'))\n",
    "model.add(Dropout(0.5))\n",
    "\n",
    "model.add(Dense(3, activation='softmax'))\n",
    "model.compile(loss='categorical_crossentropy',\n",
    "              optimizer=Adam(lr=0.0001, decay=1e-6),\n",
    "              metrics=['accuracy'])\n",
    "history = model.fit(Xtrain, ytrain,\n",
    "          batch_size=batch_size,\n",
    "          shuffle=True,\n",
    "          epochs=nb_epochs,\n",
    "          validation_data=(Xval, yval),\n",
    "          callbacks=[EarlyStopping(min_delta=0.00025, patience=2)], \n",
    "          verbose=2)"
   ]
  },
  {
   "cell_type": "code",
   "execution_count": 12,
   "metadata": {},
   "outputs": [
    {
     "name": "stdout",
     "output_type": "stream",
     "text": [
      "0.7536748775040832\n"
     ]
    },
    {
     "data": {
      "image/png": "[encoded data removed]",
      "text/plain": [
       "<Figure size 432x288 with 1 Axes>"
      ]
     },
     "metadata": {},
     "output_type": "display_data"
    },
    {
     "data": {
      "image/png": "[encoded data removed]",
      "text/plain": [
       "<Figure size 432x288 with 1 Axes>"
      ]
     },
     "metadata": {},
     "output_type": "display_data"
    }
   ],
   "source": [
    "from sklearn.metrics import accuracy_score\n",
    "ypred_nn = model.predict_classes(Xtest)\n",
    "ypred_nn = np.array(ypred_nn, dtype=float)\n",
    "print(accuracy_score(y_test.values, ypred_nn))\n",
    "visualize_history(history)"
   ]
  },
  {
   "cell_type": "code",
   "execution_count": 14,
   "metadata": {},
   "outputs": [
    {
     "name": "stdout",
     "output_type": "stream",
     "text": [
      "Train on 90001 samples, validate on 30001 samples\n",
      "Epoch 1/200\n",
      " - 70s - loss: 1.1063 - acc: 0.5143 - val_loss: 0.7184 - val_acc: 0.6837\n",
      "Epoch 2/200\n",
      " - 91s - loss: 0.8264 - acc: 0.6485 - val_loss: 0.6667 - val_acc: 0.7150\n",
      "Epoch 3/200\n",
      " - 99s - loss: 0.7643 - acc: 0.6733 - val_loss: 0.6468 - val_acc: 0.7243\n",
      "Epoch 4/200\n",
      " - 60s - loss: 0.7305 - acc: 0.6883 - val_loss: 0.6356 - val_acc: 0.7295\n",
      "Epoch 5/200\n",
      " - 92s - loss: 0.7043 - acc: 0.6976 - val_loss: 0.6254 - val_acc: 0.7326\n",
      "Epoch 6/200\n",
      " - 102s - loss: 0.6886 - acc: 0.7036 - val_loss: 0.6204 - val_acc: 0.7350\n",
      "Epoch 7/200\n",
      " - 98s - loss: 0.6741 - acc: 0.7083 - val_loss: 0.6148 - val_acc: 0.7371\n",
      "Epoch 8/200\n",
      " - 85s - loss: 0.6600 - acc: 0.7162 - val_loss: 0.6086 - val_acc: 0.7404\n",
      "Epoch 9/200\n",
      " - 96s - loss: 0.6520 - acc: 0.7178 - val_loss: 0.6060 - val_acc: 0.7410\n",
      "Epoch 10/200\n",
      " - 95s - loss: 0.6419 - acc: 0.7219 - val_loss: 0.6022 - val_acc: 0.7413\n",
      "Epoch 11/200\n",
      " - 77s - loss: 0.6335 - acc: 0.7258 - val_loss: 0.6003 - val_acc: 0.7424\n",
      "Epoch 12/200\n",
      " - 77s - loss: 0.6292 - acc: 0.7265 - val_loss: 0.5973 - val_acc: 0.7434\n",
      "Epoch 13/200\n",
      " - 91s - loss: 0.6221 - acc: 0.7306 - val_loss: 0.5947 - val_acc: 0.7448\n",
      "Epoch 14/200\n",
      " - 60s - loss: 0.6165 - acc: 0.7318 - val_loss: 0.5944 - val_acc: 0.7439\n",
      "Epoch 15/200\n",
      " - 63s - loss: 0.6120 - acc: 0.7352 - val_loss: 0.5925 - val_acc: 0.7443\n",
      "Epoch 16/200\n",
      " - 88s - loss: 0.6084 - acc: 0.7370 - val_loss: 0.5897 - val_acc: 0.7461\n",
      "Epoch 17/200\n",
      " - 84s - loss: 0.6072 - acc: 0.7352 - val_loss: 0.5895 - val_acc: 0.7454\n",
      "Epoch 18/200\n",
      " - 69s - loss: 0.6036 - acc: 0.7383 - val_loss: 0.5876 - val_acc: 0.7469\n",
      "Epoch 19/200\n",
      " - 82s - loss: 0.5993 - acc: 0.7402 - val_loss: 0.5876 - val_acc: 0.7451\n",
      "Epoch 20/200\n",
      " - 92s - loss: 0.5973 - acc: 0.7413 - val_loss: 0.5873 - val_acc: 0.7444\n",
      "Epoch 21/200\n",
      " - 75s - loss: 0.5942 - acc: 0.7432 - val_loss: 0.5845 - val_acc: 0.7463\n",
      "Epoch 22/200\n",
      " - 73s - loss: 0.5928 - acc: 0.7444 - val_loss: 0.5831 - val_acc: 0.7476\n",
      "Epoch 23/200\n",
      " - 75s - loss: 0.5912 - acc: 0.7439 - val_loss: 0.5834 - val_acc: 0.7460\n",
      "Epoch 24/200\n",
      " - 71s - loss: 0.5901 - acc: 0.7448 - val_loss: 0.5824 - val_acc: 0.7468\n",
      "Epoch 25/200\n",
      " - 86s - loss: 0.5865 - acc: 0.7452 - val_loss: 0.5814 - val_acc: 0.7480\n",
      "Epoch 26/200\n",
      " - 54s - loss: 0.5839 - acc: 0.7471 - val_loss: 0.5808 - val_acc: 0.7478\n",
      "Epoch 27/200\n",
      " - 72s - loss: 0.5846 - acc: 0.7478 - val_loss: 0.5799 - val_acc: 0.7490\n",
      "Epoch 28/200\n",
      " - 78s - loss: 0.5828 - acc: 0.7475 - val_loss: 0.5797 - val_acc: 0.7481\n",
      "Epoch 29/200\n",
      " - 79s - loss: 0.5817 - acc: 0.7473 - val_loss: 0.5789 - val_acc: 0.7485\n",
      "Epoch 30/200\n",
      " - 81s - loss: 0.5798 - acc: 0.7492 - val_loss: 0.5776 - val_acc: 0.7490\n",
      "Epoch 31/200\n",
      " - 87s - loss: 0.5783 - acc: 0.7501 - val_loss: 0.5791 - val_acc: 0.7479\n",
      "Epoch 32/200\n",
      " - 75s - loss: 0.5779 - acc: 0.7493 - val_loss: 0.5783 - val_acc: 0.7481\n"
     ]
    }
   ],
   "source": [
    "from keras.layers import BatchNormalization\n",
    "batch_size = 32\n",
    "nb_epochs = 200\n",
    "\n",
    "model = Sequential()\n",
    "model.add(Conv1D(32, kernel_size=3, activation='elu', padding='same', input_shape=(81, 200)))\n",
    "model.add(Dropout(0.25))\n",
    "model.add(BatchNormalization())\n",
    "model.add(Conv1D(32, kernel_size=2, activation='elu', padding='same'))\n",
    "model.add(Dropout(0.25))\n",
    "model.add(Flatten())\n",
    "model.add(Dense(256, activation='tanh'))\n",
    "model.add(Dropout(0.5))\n",
    "\n",
    "model.add(Dense(3, activation='softmax'))\n",
    "model.compile(loss='categorical_crossentropy',\n",
    "              optimizer=Adamax(lr=0.00005, decay=1e-6),\n",
    "              metrics=['accuracy'])\n",
    "history = model.fit(Xtrain, ytrain,\n",
    "          batch_size=batch_size,\n",
    "          shuffle=True,\n",
    "          epochs=nb_epochs,\n",
    "          validation_data=(Xval, yval),\n",
    "          callbacks=[EarlyStopping(min_delta=0.00025, patience=2)], \n",
    "          verbose=2)"
   ]
  },
  {
   "cell_type": "markdown",
   "metadata": {},
   "source": [
    "#### 250 dimension vector"
   ]
  },
  {
   "cell_type": "code",
   "execution_count": 3,
   "metadata": {},
   "outputs": [],
   "source": [
    "with open(\"tokens_v2.txt\", \"rb\") as fp:   # Unpickling\n",
    "     X_processed = pickle.load(fp)"
   ]
  },
  {
   "cell_type": "code",
   "execution_count": 2,
   "metadata": {},
   "outputs": [],
   "source": [
    "import numpy as np\n",
    "Xtrain = np.zeros(shape=(90001, 81, 250))\n",
    "Xval = np.zeros(shape=(30001, 81, 250))\n",
    "Xtest = np.zeros(shape=(30001, 81, 250))\n",
    "ytrain = np.zeros(shape=(90001, 3))\n",
    "yval = np.zeros(shape=(30001, 3))\n",
    "ytest = np.zeros(shape=(30001, 3))"
   ]
  },
  {
   "cell_type": "code",
   "execution_count": 6,
   "metadata": {},
   "outputs": [],
   "source": [
    "y_train = pd.read_csv('y_train.csv', sep=';', header=None)\n",
    "y_test = pd.read_csv('y_test.csv', sep=';', header=None)\n",
    "y_val =pd.read_csv('y_val.csv', sep=';', header=None)\n",
    "X_train = np.load('x_train.npy')\n",
    "X_test = np.load('x_test.npy') \n",
    "X_val = np.load('x_val.npy')"
   ]
  },
  {
   "cell_type": "code",
   "execution_count": 4,
   "metadata": {},
   "outputs": [
    {
     "name": "stderr",
     "output_type": "stream",
     "text": [
      "C:\\Users\\miska\\Anaconda3\\lib\\site-packages\\gensim\\utils.py:1212: UserWarning: detected Windows; aliasing chunkize to chunkize_serial\n",
      "  warnings.warn(\"detected Windows; aliasing chunkize to chunkize_serial\")\n"
     ]
    }
   ],
   "source": [
    "from gensim.models.word2vec import Word2Vec\n",
    "import multiprocessing\n",
    "model_250 = Word2Vec(sentences=X_processed,\n",
    "                    size=250, \n",
    "                    window=10, \n",
    "                    negative=20,\n",
    "                    iter=50,\n",
    "                    seed=1000,\n",
    "                    workers=multiprocessing.cpu_count())\n",
    "model_250.save('model_250.model')"
   ]
  },
  {
   "cell_type": "code",
   "execution_count": 7,
   "metadata": {},
   "outputs": [
    {
     "name": "stderr",
     "output_type": "stream",
     "text": [
      "C:\\Users\\miska\\Anaconda3\\lib\\site-packages\\gensim\\utils.py:1212: UserWarning: detected Windows; aliasing chunkize to chunkize_serial\n",
      "  warnings.warn(\"detected Windows; aliasing chunkize to chunkize_serial\")\n"
     ]
    }
   ],
   "source": [
    "from gensim.models.word2vec import Word2Vec\n",
    "model_300 = Word2Vec.load('model_250.model')"
   ]
  },
  {
   "cell_type": "code",
   "execution_count": 7,
   "metadata": {},
   "outputs": [],
   "source": [
    "Xtrain, ytrain = building_subset_after_load(X_train, Xtrain, X_processed, model_250, ytrain, y_train)\n",
    "Xtest, ytest = building_subset_after_load(X_test, Xtest, X_processed, model_250, ytest, y_test)\n",
    "Xval, yval = building_subset_after_load(X_val, Xval, X_processed, model_250, yval, y_val)"
   ]
  },
  {
   "cell_type": "code",
   "execution_count": 9,
   "metadata": {},
   "outputs": [
    {
     "name": "stdout",
     "output_type": "stream",
     "text": [
      "Train on 90001 samples, validate on 30001 samples\n",
      "Epoch 1/100\n",
      " - 118s - loss: 0.8148 - acc: 0.6521 - val_loss: 0.6230 - val_acc: 0.7343\n",
      "Epoch 2/100\n",
      " - 164s - loss: 0.6616 - acc: 0.7149 - val_loss: 0.6021 - val_acc: 0.7393\n",
      "Epoch 3/100\n",
      " - 146s - loss: 0.6182 - acc: 0.7323 - val_loss: 0.5869 - val_acc: 0.7451\n",
      "Epoch 4/100\n",
      " - 119s - loss: 0.5967 - acc: 0.7428 - val_loss: 0.5847 - val_acc: 0.7442\n",
      "Epoch 5/100\n",
      " - 117s - loss: 0.5854 - acc: 0.7464 - val_loss: 0.5775 - val_acc: 0.7498\n",
      "Epoch 6/100\n",
      " - 102s - loss: 0.5757 - acc: 0.7513 - val_loss: 0.5767 - val_acc: 0.7517\n",
      "Epoch 7/100\n",
      " - 84s - loss: 0.5706 - acc: 0.7544 - val_loss: 0.5735 - val_acc: 0.7523\n",
      "Epoch 8/100\n",
      " - 104s - loss: 0.5662 - acc: 0.7564 - val_loss: 0.5705 - val_acc: 0.7530\n",
      "Epoch 9/100\n",
      " - 96s - loss: 0.5605 - acc: 0.7596 - val_loss: 0.5762 - val_acc: 0.7516\n",
      "Epoch 10/100\n",
      " - 103s - loss: 0.5561 - acc: 0.7613 - val_loss: 0.5681 - val_acc: 0.7543\n",
      "Epoch 11/100\n",
      " - 108s - loss: 0.5514 - acc: 0.7636 - val_loss: 0.5698 - val_acc: 0.7552\n",
      "Epoch 12/100\n",
      " - 90s - loss: 0.5480 - acc: 0.7648 - val_loss: 0.5726 - val_acc: 0.7554\n"
     ]
    }
   ],
   "source": [
    "# inspired by https://arxiv.org/pdf/1710.05978.pdf\n",
    "from keras.models import Sequential\n",
    "from keras.layers.core import Dense, Dropout, Flatten\n",
    "from keras.layers.embeddings import Embedding\n",
    "from keras.layers.convolutional import Conv1D, MaxPooling1D\n",
    "from keras.optimizers import Adam, Adamax, Nadam, RMSprop\n",
    "from keras.callbacks import EarlyStopping\n",
    "\n",
    "batch_size = 32\n",
    "nb_epochs = 100\n",
    "\n",
    "model = Sequential()\n",
    "model.add(Conv1D(32, kernel_size=3, activation='elu', padding='same', input_shape=(81, 250)))\n",
    "model.add(Dropout(0.25))\n",
    "model.add(Conv1D(32, kernel_size=2, activation='elu', padding='same'))\n",
    "model.add(Dropout(0.25))\n",
    "model.add(Flatten())\n",
    "model.add(Dense(256, activation='tanh'))\n",
    "model.add(Dropout(0.5))\n",
    "\n",
    "model.add(Dense(3, activation='softmax'))\n",
    "model.compile(loss='categorical_crossentropy',\n",
    "              optimizer=Adam(lr=0.0001, decay=1e-6),\n",
    "              metrics=['accuracy'])\n",
    "history = model.fit(Xtrain, ytrain,\n",
    "          batch_size=batch_size,\n",
    "          shuffle=True,\n",
    "          epochs=nb_epochs,\n",
    "          validation_data=(Xval, yval),\n",
    "          callbacks=[EarlyStopping(min_delta=0.00025, patience=2)], \n",
    "          verbose=2)"
   ]
  },
  {
   "cell_type": "code",
   "execution_count": 15,
   "metadata": {},
   "outputs": [
    {
     "name": "stdout",
     "output_type": "stream",
     "text": [
      "0.750408319722676\n"
     ]
    },
    {
     "data": {
      "image/png": "[encoded data removed]",
      "text/plain": [
       "<Figure size 432x288 with 1 Axes>"
      ]
     },
     "metadata": {},
     "output_type": "display_data"
    },
    {
     "data": {
      "image/png": "[encoded data removed]",
      "text/plain": [
       "<Figure size 432x288 with 1 Axes>"
      ]
     },
     "metadata": {},
     "output_type": "display_data"
    }
   ],
   "source": [
    "import matplotlib.pyplot as plt \n",
    "from sklearn.metrics import accuracy_score\n",
    "ypred_nn = model.predict_classes(Xtest)\n",
    "ypred_nn = np.array(ypred_nn, dtype=float)\n",
    "print(accuracy_score(y_test.values, ypred_nn))\n",
    "visualize_history(history)"
   ]
  }
 ],
 "metadata": {
  "kernelspec": {
   "display_name": "Python 3",
   "language": "python",
   "name": "python3"
  },
  "language_info": {
   "codemirror_mode": {
    "name": "ipython",
    "version": 3
   },
   "file_extension": ".py",
   "mimetype": "text/x-python",
   "name": "python",
   "nbconvert_exporter": "python",
   "pygments_lexer": "ipython3",
   "version": "3.6.5"
  }
 },
 "nbformat": 4,
 "nbformat_minor": 2
}
