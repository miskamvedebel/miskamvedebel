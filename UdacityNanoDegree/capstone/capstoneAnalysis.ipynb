{
 "cells": [
  {
   "cell_type": "markdown",
   "metadata": {},
   "source": [
    "dataset: https://www.yelp.com/dataset"
   ]
  },
  {
   "cell_type": "code",
   "execution_count": 1,
   "metadata": {},
   "outputs": [],
   "source": [
    "from helpers import *"
   ]
  },
  {
   "cell_type": "code",
   "execution_count": 2,
   "metadata": {},
   "outputs": [],
   "source": [
    "import numpy as np\n",
    "import pandas as pd\n",
    "import matplotlib.pyplot as plt\n",
    "import seaborn as sns"
   ]
  },
  {
   "cell_type": "markdown",
   "metadata": {},
   "source": [
    "### Analysis"
   ]
  },
  {
   "cell_type": "markdown",
   "metadata": {},
   "source": [
    "All the files from the dataset are coming in the json format.\n",
    "In the helpers.py files there is a function which transforms this to pandas dataframe, also saving this file in csv format."
   ]
  },
  {
   "cell_type": "code",
   "execution_count": 3,
   "metadata": {},
   "outputs": [
    {
     "name": "stderr",
     "output_type": "stream",
     "text": [
      "C:\\Users\\miska\\Anaconda3\\lib\\site-packages\\IPython\\core\\interactiveshell.py:2785: DtypeWarning: Columns (2,4,6,8) have mixed types. Specify dtype option on import or set low_memory=False.\n",
      "  interactivity=interactivity, compiler=compiler, result=result)\n"
     ]
    },
    {
     "name": "stdout",
     "output_type": "stream",
     "text": [
      "\n",
      "Rows:\t6075267\n",
      "Columns:\t9\n",
      "\n"
     ]
    }
   ],
   "source": [
    "reviews = pd.read_csv(f'{path}REVIEWS.csv', sep=';')\n",
    "print(f'''\n",
    "Rows:\\t{reviews.shape[0]}\n",
    "Columns:\\t{reviews.shape[1]}\n",
    "''')"
   ]
  },
  {
   "cell_type": "code",
   "execution_count": 5,
   "metadata": {},
   "outputs": [
    {
     "name": "stdout",
     "output_type": "stream",
     "text": [
      "<class 'pandas.core.frame.DataFrame'>\n",
      "RangeIndex: 6075267 entries, 0 to 6075266\n",
      "Data columns (total 9 columns):\n",
      "business_id    object\n",
      "cool           float64\n",
      "date           object\n",
      "funny          float64\n",
      "review_id      object\n",
      "stars          float64\n",
      "text           object\n",
      "useful         float64\n",
      "user_id        object\n",
      "dtypes: float64(4), object(5)\n",
      "memory usage: 417.2+ MB\n"
     ]
    }
   ],
   "source": [
    "reviews.info()"
   ]
  },
  {
   "cell_type": "code",
   "execution_count": 4,
   "metadata": {},
   "outputs": [
    {
     "data": {
      "text/html": [
       "<div>\n",
       "<style scoped>\n",
       "    .dataframe tbody tr th:only-of-type {\n",
       "        vertical-align: middle;\n",
       "    }\n",
       "\n",
       "    .dataframe tbody tr th {\n",
       "        vertical-align: top;\n",
       "    }\n",
       "\n",
       "    .dataframe thead th {\n",
       "        text-align: right;\n",
       "    }\n",
       "</style>\n",
       "<table border=\"1\" class=\"dataframe\">\n",
       "  <thead>\n",
       "    <tr style=\"text-align: right;\">\n",
       "      <th></th>\n",
       "      <th>business_id</th>\n",
       "      <th>cool</th>\n",
       "      <th>date</th>\n",
       "      <th>funny</th>\n",
       "      <th>review_id</th>\n",
       "      <th>stars</th>\n",
       "      <th>text</th>\n",
       "      <th>useful</th>\n",
       "      <th>user_id</th>\n",
       "    </tr>\n",
       "  </thead>\n",
       "  <tbody>\n",
       "    <tr>\n",
       "      <th>0</th>\n",
       "      <td>iCQpiavjjPzJ5_3gPD5Ebg</td>\n",
       "      <td>0.0</td>\n",
       "      <td>2011-02-25</td>\n",
       "      <td>0.0</td>\n",
       "      <td>x7mDIiDB3jEiPGPHOmDzyw</td>\n",
       "      <td>2.0</td>\n",
       "      <td>The pizza was okay. Not the best I've had. I p...</td>\n",
       "      <td>0.0</td>\n",
       "      <td>msQe1u7Z_XuqjGoqhB0J5g</td>\n",
       "    </tr>\n",
       "    <tr>\n",
       "      <th>1</th>\n",
       "      <td>pomGBqfbxcqPv14c3XH-ZQ</td>\n",
       "      <td>0.0</td>\n",
       "      <td>2012-11-13</td>\n",
       "      <td>0.0</td>\n",
       "      <td>dDl8zu1vWPdKGihJrwQbpw</td>\n",
       "      <td>5.0</td>\n",
       "      <td>I love this place! My fiance And I go here atl...</td>\n",
       "      <td>0.0</td>\n",
       "      <td>msQe1u7Z_XuqjGoqhB0J5g</td>\n",
       "    </tr>\n",
       "    <tr>\n",
       "      <th>2</th>\n",
       "      <td>jtQARsP6P-LbkyjbO1qNGg</td>\n",
       "      <td>1.0</td>\n",
       "      <td>2014-10-23</td>\n",
       "      <td>1.0</td>\n",
       "      <td>LZp4UX5zK3e-c5ZGSeo3kA</td>\n",
       "      <td>1.0</td>\n",
       "      <td>Terrible. Dry corn bread. Rib tips were all fa...</td>\n",
       "      <td>3.0</td>\n",
       "      <td>msQe1u7Z_XuqjGoqhB0J5g</td>\n",
       "    </tr>\n",
       "    <tr>\n",
       "      <th>3</th>\n",
       "      <td>elqbBhBfElMNSrjFqW3now</td>\n",
       "      <td>0.0</td>\n",
       "      <td>2011-02-25</td>\n",
       "      <td>0.0</td>\n",
       "      <td>Er4NBWCmCD4nM8_p1GRdow</td>\n",
       "      <td>2.0</td>\n",
       "      <td>Back in 2005-2007 this place was my FAVORITE t...</td>\n",
       "      <td>2.0</td>\n",
       "      <td>msQe1u7Z_XuqjGoqhB0J5g</td>\n",
       "    </tr>\n",
       "    <tr>\n",
       "      <th>4</th>\n",
       "      <td>Ums3gaP2qM3W1XcA5r6SsQ</td>\n",
       "      <td>0.0</td>\n",
       "      <td>2014-09-05</td>\n",
       "      <td>0.0</td>\n",
       "      <td>jsDu6QEJHbwP2Blom1PLCA</td>\n",
       "      <td>5.0</td>\n",
       "      <td>Delicious healthy food. The steak is amazing. ...</td>\n",
       "      <td>0.0</td>\n",
       "      <td>msQe1u7Z_XuqjGoqhB0J5g</td>\n",
       "    </tr>\n",
       "  </tbody>\n",
       "</table>\n",
       "</div>"
      ],
      "text/plain": [
       "              business_id  cool        date  funny               review_id  \\\n",
       "0  iCQpiavjjPzJ5_3gPD5Ebg   0.0  2011-02-25    0.0  x7mDIiDB3jEiPGPHOmDzyw   \n",
       "1  pomGBqfbxcqPv14c3XH-ZQ   0.0  2012-11-13    0.0  dDl8zu1vWPdKGihJrwQbpw   \n",
       "2  jtQARsP6P-LbkyjbO1qNGg   1.0  2014-10-23    1.0  LZp4UX5zK3e-c5ZGSeo3kA   \n",
       "3  elqbBhBfElMNSrjFqW3now   0.0  2011-02-25    0.0  Er4NBWCmCD4nM8_p1GRdow   \n",
       "4  Ums3gaP2qM3W1XcA5r6SsQ   0.0  2014-09-05    0.0  jsDu6QEJHbwP2Blom1PLCA   \n",
       "\n",
       "   stars                                               text  useful  \\\n",
       "0    2.0  The pizza was okay. Not the best I've had. I p...     0.0   \n",
       "1    5.0  I love this place! My fiance And I go here atl...     0.0   \n",
       "2    1.0  Terrible. Dry corn bread. Rib tips were all fa...     3.0   \n",
       "3    2.0  Back in 2005-2007 this place was my FAVORITE t...     2.0   \n",
       "4    5.0  Delicious healthy food. The steak is amazing. ...     0.0   \n",
       "\n",
       "                  user_id  \n",
       "0  msQe1u7Z_XuqjGoqhB0J5g  \n",
       "1  msQe1u7Z_XuqjGoqhB0J5g  \n",
       "2  msQe1u7Z_XuqjGoqhB0J5g  \n",
       "3  msQe1u7Z_XuqjGoqhB0J5g  \n",
       "4  msQe1u7Z_XuqjGoqhB0J5g  "
      ]
     },
     "execution_count": 4,
     "metadata": {},
     "output_type": "execute_result"
    }
   ],
   "source": [
    "reviews.head(5)"
   ]
  },
  {
   "cell_type": "markdown",
   "metadata": {},
   "source": [
    "For project purposes only two columns: text and stars will be useful. \"text\" column contains comments and \"stars\" would be using the identify the sentiment.\n",
    "To see some concrete examples, I will take rows with index 4 and 2. The first one is a positive sentiment and second is negative."
   ]
  },
  {
   "cell_type": "code",
   "execution_count": 7,
   "metadata": {},
   "outputs": [
    {
     "name": "stdout",
     "output_type": "stream",
     "text": [
      "Positive:\n",
      "Delicious healthy food. The steak is amazing. Fish and pork are awesome too. Service is above and beyond. Not a bad thing to say about this place. Worth every penny!\n",
      "----------------------\n",
      "Negative:\n",
      "Terrible. Dry corn bread. Rib tips were all fat and mushy and had no flavor. If you want bbq in this neighborhood go to john mulls roadkill grill. Trust me.\n"
     ]
    }
   ],
   "source": [
    "#printing comments of 4 and 2\n",
    "print('Positive:')\n",
    "print(reviews.loc[4, 'text'])\n",
    "print('----------------------')\n",
    "print('Negative:')\n",
    "print(reviews.loc[2, 'text'])"
   ]
  },
  {
   "cell_type": "markdown",
   "metadata": {},
   "source": [
    "As seen above \"stars\" columns is a quantative representation of the comment itself. For simplification purposes, comments with stars >= 4 will be considered as positive, comments with stars value equals or less than 2 - are negative.\n",
    "To check whether 3 is positve, neutral or negative, a subset will be created in order to make a \"sense\" check"
   ]
  },
  {
   "cell_type": "code",
   "execution_count": 5,
   "metadata": {},
   "outputs": [],
   "source": [
    "three_stars = reviews[reviews[\"stars\"] == 3.].reset_index(drop=True)\n",
    "three_stars = three_stars.loc[:, ('text', 'stars')]"
   ]
  },
  {
   "cell_type": "code",
   "execution_count": 7,
   "metadata": {},
   "outputs": [
    {
     "name": "stdout",
     "output_type": "stream",
     "text": [
      "Comment #596017:\n",
      "Huh.  Dang.  Darn it.  Shoot.  I was really looking forward to lunch here.  Parking at this location is beyond ridiculous, no, I didn't valet cause I wanted to shop after wards.  But who cares?  I was here for a great meal!  Things started off well, great folks at the hostess desk.  Attractive interior, beautiful dark rich woods, attractive lighting, dark plantation blinds, very nice table.  My server Paula was extremely nice and had the cutest accent.  I liked a lot of the choices on the menu, but on an impulse, decided on the salad with filet medallions and onions straws.  The first bite of steak was extraordinary, perfectly cooked, wonderful seasonings and flavor.  Fresh pieces of asparagus in the salad was a nice surprise.  Then the shocker.  The next medallion was under cooked, the next was over cooked and the rest were grisley.  Needless to say, I could not eat it.  My server was very apologetic.  And then the manager immediately appeared as if he had been shot out of a canon.  He apologized profusely.  I was very understanding, I mean everyone has a bad day, right?   And of course he offered another dish, but I declined.  I mean, the mood was gone.  But then again, this is why I don't eat at home. The salad was taken off my check, as should be expected.  I did have dessert, hell yes, I was still hungry!  I got the hazelnut chocolate cake, which was totally awesome and even pretty to look at.  It was big enough to feed an army, don't know if it was a regular slice or if they were trying to make up for the salad.  So, a really mixed review.  I will try Capital Grill, again.  And I hope to have much better results.\n",
      "-------------------------------------------------------\n",
      "Comment #465836:\n",
      "Small Drive-thru and walk-up window at this location. Outdoor restroom with key access that was moderately clean. Drink was excellent and the outdoor seating area was small but adequate. The window staff were very friendly.\n",
      "-------------------------------------------------------\n",
      "Comment #587837:\n",
      "Wholesale Sports is basically a large toyland for wilderness fans.  Comprised of rows upon rows of ways to filet and gut your fish, or campfire cook your favorite animal on a spit, it's an interesting place to take a look at every so often.\r\n",
      "\r\n",
      "Now, I find that the selection and the pricing to be a little on the high side personally.  I've found a lot of the same camping stuff at Canadian Tire for much less.  Same with the fishing items... so I'm assuming that Wholesale Sports are more or less going for the more professional sportsman than the casual camper really.  \r\n",
      "\r\n",
      "Still, I do like some of the more interesting books and recipes on what to do with the local wildlife... though more in a amused fashion (honestly, I really don't want to know how to cook raccoon in the wild... unless it's nuclear holocaust time).\r\n",
      "\r\n",
      "Outside of that, the staff seem friendly and knowledgable.  They don't have anything for avid dragonboaters like myself, or at least nothing I've ever seen.  Still, it's an Alberta co-op as I understand, so I do try to support it over Bass Pro when I can.\n",
      "-------------------------------------------------------\n",
      "Comment #167016:\n",
      "This is my new home gym. Most of the times it's great but there are times when a little bro group come in hog all the equipment, don't rerack the weights, leave chalk everywhere and the worse part is that they are personal trainers there! Very unprofessional and lack common courtesy for the other people working out. Wish the management would discipline these people.\n",
      "-------------------------------------------------------\n",
      "Comment #89324:\n",
      "Mac & cheese was a bit under seasoned and the boar? Kind of just cubes of chewy dryness. \r\n",
      "The bf had the chicken and waffles....first time, hard to find in Mississauga. He wolfed it down. The cornbread muffins with the honey butter were delicious but would've been spectacular if still hot.\n",
      "-------------------------------------------------------\n",
      "Comment #73604:\n",
      "It's ok.  My sister is obsessed with their food and got us to try it.  Not bad just nothing I really loved or would make a point to come back for.\n",
      "-------------------------------------------------------\n",
      "Comment #234415:\n",
      "Overhyped, overrated, and overpriced.\r\n",
      "\r\n",
      "I think these three words are pretty accurate when describing L'Etoile. Sure, the food here is great. There's no denying that. But how does it stack up to other fine dining restaurants? The three stars on Yelp equivocates to \"A-OK\", and that's exactly how I feel about it.\r\n",
      "\r\n",
      "I've had the four course meal option at L'Etoile. The first and second course menu items are indeed fancy and I commend the chef for that. But the main entrees are not as original and hence, significantly overpriced. In addition, the portions are smaller than expected. Anything under a four course meal would leave a normal man still hungry and unsatisfied afterwards. \r\n",
      "\r\n",
      "I do think that L'Etoile is as good as fine dining gets in Madison, but it definitely isn't worth the $$$$ price tag you'll have to pay.\n",
      "-------------------------------------------------------\n",
      "Comment #626075:\n",
      "We ordered a pizza from Spinato's.  we  were specific about the toppings.  When we went to pick it up, the pizza was wrong.  Spinato's said they would remake the pizza ( a good 30 minute wait) or take as is.  We took it as is, but were disappointed in such a response.  We should have been offered a discount.  \r\n",
      "\r\n",
      "The pizza itself was fine, but not outstanding.  It was not greasy, and was rather tasty. \r\n",
      "\r\n",
      "However, I would think twice about Spinato's given they way they handled their error.\n",
      "-------------------------------------------------------\n",
      "Comment #458643:\n",
      "I have a VERY simple \"short on top, clipper on sides\\/back\" hairstyle and can't see paying the price the salons - or the \"barbershops\" that seem to be the rage - want to charge. I'm getting a haircut, not a massage, not watching NFL network, hanging with the guys, etc., etc. A haircut, minor pleasantries and I'm on my way.\r\n",
      "\r\n",
      "Works every time for me, I've never had a problem at this location. That said, my wife would never go here and my son has had a few bad experiences, so it's off his list too. He's younger, longer haired and needs a certain style.\r\n",
      "\r\n",
      "You can get the occasional coupon in those snail mail ads that clog up your mailbox, saving you a few more bucks.\r\n",
      "\r\n",
      "Simple cut + reasonable price = good experience. I'll save my money here and fork it out for my son's rock star cut at another place. :)\n",
      "-------------------------------------------------------\n",
      "Comment #30541:\n",
      "Pizza here is phenomenal.  Other than that, food is average (sandwiches, salads, etc.).  Tap list is pretty good too.  It is ok for watching a game in that you can usually find a table or seat at the bar, though I would rather go to Mario's if I am staying around Shadyside.  Service is average.\n",
      "-------------------------------------------------------\n"
     ]
    }
   ],
   "source": [
    "#printing out some of the comments:\n",
    "randomizer = np.random.randint(len(three_stars), size=10).tolist()\n",
    "for i in randomizer:\n",
    "    print(f'Comment #{i}:')\n",
    "    print(three_stars.loc[i, 'text'])\n",
    "    print('-------------------------------------------------------')"
   ]
  },
  {
   "cell_type": "markdown",
   "metadata": {},
   "source": [
    "Comments with 3 stars are more neutral, rather than positive or negative.\n",
    "Taking this into account: \n",
    "1-2: negative;\n",
    "3: neutral;\n",
    "4-5: positive\n",
    "With that a new feature will be created to show the sentiment"
   ]
  },
  {
   "cell_type": "code",
   "execution_count": 4,
   "metadata": {},
   "outputs": [],
   "source": [
    "reviews['sentiment'] = reviews['stars'].map({0: 0, 1: 0, 2: 0, 3: 1, 4: 2, 5: 2})"
   ]
  },
  {
   "cell_type": "code",
   "execution_count": 7,
   "metadata": {},
   "outputs": [
    {
     "data": {
      "text/html": [
       "<div>\n",
       "<style scoped>\n",
       "    .dataframe tbody tr th:only-of-type {\n",
       "        vertical-align: middle;\n",
       "    }\n",
       "\n",
       "    .dataframe tbody tr th {\n",
       "        vertical-align: top;\n",
       "    }\n",
       "\n",
       "    .dataframe thead th {\n",
       "        text-align: right;\n",
       "    }\n",
       "</style>\n",
       "<table border=\"1\" class=\"dataframe\">\n",
       "  <thead>\n",
       "    <tr style=\"text-align: right;\">\n",
       "      <th></th>\n",
       "      <th>business_id</th>\n",
       "      <th>cool</th>\n",
       "      <th>date</th>\n",
       "      <th>funny</th>\n",
       "      <th>review_id</th>\n",
       "      <th>stars</th>\n",
       "      <th>text</th>\n",
       "      <th>useful</th>\n",
       "      <th>user_id</th>\n",
       "      <th>sentiment</th>\n",
       "    </tr>\n",
       "  </thead>\n",
       "  <tbody>\n",
       "    <tr>\n",
       "      <th>0</th>\n",
       "      <td>iCQpiavjjPzJ5_3gPD5Ebg</td>\n",
       "      <td>0.0</td>\n",
       "      <td>2011-02-25</td>\n",
       "      <td>0.0</td>\n",
       "      <td>x7mDIiDB3jEiPGPHOmDzyw</td>\n",
       "      <td>2.0</td>\n",
       "      <td>The pizza was okay. Not the best I've had. I p...</td>\n",
       "      <td>0.0</td>\n",
       "      <td>msQe1u7Z_XuqjGoqhB0J5g</td>\n",
       "      <td>0.0</td>\n",
       "    </tr>\n",
       "    <tr>\n",
       "      <th>1</th>\n",
       "      <td>pomGBqfbxcqPv14c3XH-ZQ</td>\n",
       "      <td>0.0</td>\n",
       "      <td>2012-11-13</td>\n",
       "      <td>0.0</td>\n",
       "      <td>dDl8zu1vWPdKGihJrwQbpw</td>\n",
       "      <td>5.0</td>\n",
       "      <td>I love this place! My fiance And I go here atl...</td>\n",
       "      <td>0.0</td>\n",
       "      <td>msQe1u7Z_XuqjGoqhB0J5g</td>\n",
       "      <td>2.0</td>\n",
       "    </tr>\n",
       "    <tr>\n",
       "      <th>2</th>\n",
       "      <td>jtQARsP6P-LbkyjbO1qNGg</td>\n",
       "      <td>1.0</td>\n",
       "      <td>2014-10-23</td>\n",
       "      <td>1.0</td>\n",
       "      <td>LZp4UX5zK3e-c5ZGSeo3kA</td>\n",
       "      <td>1.0</td>\n",
       "      <td>Terrible. Dry corn bread. Rib tips were all fa...</td>\n",
       "      <td>3.0</td>\n",
       "      <td>msQe1u7Z_XuqjGoqhB0J5g</td>\n",
       "      <td>0.0</td>\n",
       "    </tr>\n",
       "    <tr>\n",
       "      <th>3</th>\n",
       "      <td>elqbBhBfElMNSrjFqW3now</td>\n",
       "      <td>0.0</td>\n",
       "      <td>2011-02-25</td>\n",
       "      <td>0.0</td>\n",
       "      <td>Er4NBWCmCD4nM8_p1GRdow</td>\n",
       "      <td>2.0</td>\n",
       "      <td>Back in 2005-2007 this place was my FAVORITE t...</td>\n",
       "      <td>2.0</td>\n",
       "      <td>msQe1u7Z_XuqjGoqhB0J5g</td>\n",
       "      <td>0.0</td>\n",
       "    </tr>\n",
       "    <tr>\n",
       "      <th>4</th>\n",
       "      <td>Ums3gaP2qM3W1XcA5r6SsQ</td>\n",
       "      <td>0.0</td>\n",
       "      <td>2014-09-05</td>\n",
       "      <td>0.0</td>\n",
       "      <td>jsDu6QEJHbwP2Blom1PLCA</td>\n",
       "      <td>5.0</td>\n",
       "      <td>Delicious healthy food. The steak is amazing. ...</td>\n",
       "      <td>0.0</td>\n",
       "      <td>msQe1u7Z_XuqjGoqhB0J5g</td>\n",
       "      <td>2.0</td>\n",
       "    </tr>\n",
       "    <tr>\n",
       "      <th>5</th>\n",
       "      <td>vgfcTvK81oD4r50NMjU2Ag</td>\n",
       "      <td>0.0</td>\n",
       "      <td>2011-02-25</td>\n",
       "      <td>0.0</td>\n",
       "      <td>pfavA0hr3nyqO61oupj-lA</td>\n",
       "      <td>1.0</td>\n",
       "      <td>This place sucks. The customer service is horr...</td>\n",
       "      <td>2.0</td>\n",
       "      <td>msQe1u7Z_XuqjGoqhB0J5g</td>\n",
       "      <td>0.0</td>\n",
       "    </tr>\n",
       "    <tr>\n",
       "      <th>6</th>\n",
       "      <td>AxeQEz3-s9_1TyIo-G7UQw</td>\n",
       "      <td>0.0</td>\n",
       "      <td>2011-10-10</td>\n",
       "      <td>0.0</td>\n",
       "      <td>brokEno2n7s4vrwmmUdr9w</td>\n",
       "      <td>5.0</td>\n",
       "      <td>If you like Thai food, you have to try the ori...</td>\n",
       "      <td>1.0</td>\n",
       "      <td>msQe1u7Z_XuqjGoqhB0J5g</td>\n",
       "      <td>2.0</td>\n",
       "    </tr>\n",
       "    <tr>\n",
       "      <th>7</th>\n",
       "      <td>zdE82PiD6wquvjYLyhOJNA</td>\n",
       "      <td>0.0</td>\n",
       "      <td>2012-04-18</td>\n",
       "      <td>1.0</td>\n",
       "      <td>kUZWBVZvhWuC8TWUg5AYyA</td>\n",
       "      <td>5.0</td>\n",
       "      <td>AMAZING!!!\\r\\n\\r\\n I was referred here by a fr...</td>\n",
       "      <td>0.0</td>\n",
       "      <td>msQe1u7Z_XuqjGoqhB0J5g</td>\n",
       "      <td>2.0</td>\n",
       "    </tr>\n",
       "    <tr>\n",
       "      <th>8</th>\n",
       "      <td>EAwh1OmG6t6p3nRaZOW_AA</td>\n",
       "      <td>0.0</td>\n",
       "      <td>2011-02-25</td>\n",
       "      <td>0.0</td>\n",
       "      <td>wcqt0III88LEcm19IxFFyA</td>\n",
       "      <td>4.0</td>\n",
       "      <td>Ribs = amazing\\r\\n2 hour wait time= not so ama...</td>\n",
       "      <td>0.0</td>\n",
       "      <td>msQe1u7Z_XuqjGoqhB0J5g</td>\n",
       "      <td>2.0</td>\n",
       "    </tr>\n",
       "    <tr>\n",
       "      <th>9</th>\n",
       "      <td>atVh8viqTj-sqDJ35tAYVg</td>\n",
       "      <td>1.0</td>\n",
       "      <td>2012-11-09</td>\n",
       "      <td>2.0</td>\n",
       "      <td>LWUtqzNthMM3vpWZIFBlPw</td>\n",
       "      <td>2.0</td>\n",
       "      <td>Food is pretty good, not gonna lie. BUT you ha...</td>\n",
       "      <td>1.0</td>\n",
       "      <td>msQe1u7Z_XuqjGoqhB0J5g</td>\n",
       "      <td>0.0</td>\n",
       "    </tr>\n",
       "  </tbody>\n",
       "</table>\n",
       "</div>"
      ],
      "text/plain": [
       "              business_id  cool        date  funny               review_id  \\\n",
       "0  iCQpiavjjPzJ5_3gPD5Ebg   0.0  2011-02-25    0.0  x7mDIiDB3jEiPGPHOmDzyw   \n",
       "1  pomGBqfbxcqPv14c3XH-ZQ   0.0  2012-11-13    0.0  dDl8zu1vWPdKGihJrwQbpw   \n",
       "2  jtQARsP6P-LbkyjbO1qNGg   1.0  2014-10-23    1.0  LZp4UX5zK3e-c5ZGSeo3kA   \n",
       "3  elqbBhBfElMNSrjFqW3now   0.0  2011-02-25    0.0  Er4NBWCmCD4nM8_p1GRdow   \n",
       "4  Ums3gaP2qM3W1XcA5r6SsQ   0.0  2014-09-05    0.0  jsDu6QEJHbwP2Blom1PLCA   \n",
       "5  vgfcTvK81oD4r50NMjU2Ag   0.0  2011-02-25    0.0  pfavA0hr3nyqO61oupj-lA   \n",
       "6  AxeQEz3-s9_1TyIo-G7UQw   0.0  2011-10-10    0.0  brokEno2n7s4vrwmmUdr9w   \n",
       "7  zdE82PiD6wquvjYLyhOJNA   0.0  2012-04-18    1.0  kUZWBVZvhWuC8TWUg5AYyA   \n",
       "8  EAwh1OmG6t6p3nRaZOW_AA   0.0  2011-02-25    0.0  wcqt0III88LEcm19IxFFyA   \n",
       "9  atVh8viqTj-sqDJ35tAYVg   1.0  2012-11-09    2.0  LWUtqzNthMM3vpWZIFBlPw   \n",
       "\n",
       "   stars                                               text  useful  \\\n",
       "0    2.0  The pizza was okay. Not the best I've had. I p...     0.0   \n",
       "1    5.0  I love this place! My fiance And I go here atl...     0.0   \n",
       "2    1.0  Terrible. Dry corn bread. Rib tips were all fa...     3.0   \n",
       "3    2.0  Back in 2005-2007 this place was my FAVORITE t...     2.0   \n",
       "4    5.0  Delicious healthy food. The steak is amazing. ...     0.0   \n",
       "5    1.0  This place sucks. The customer service is horr...     2.0   \n",
       "6    5.0  If you like Thai food, you have to try the ori...     1.0   \n",
       "7    5.0  AMAZING!!!\\r\\n\\r\\n I was referred here by a fr...     0.0   \n",
       "8    4.0  Ribs = amazing\\r\\n2 hour wait time= not so ama...     0.0   \n",
       "9    2.0  Food is pretty good, not gonna lie. BUT you ha...     1.0   \n",
       "\n",
       "                  user_id  sentiment  \n",
       "0  msQe1u7Z_XuqjGoqhB0J5g        0.0  \n",
       "1  msQe1u7Z_XuqjGoqhB0J5g        2.0  \n",
       "2  msQe1u7Z_XuqjGoqhB0J5g        0.0  \n",
       "3  msQe1u7Z_XuqjGoqhB0J5g        0.0  \n",
       "4  msQe1u7Z_XuqjGoqhB0J5g        2.0  \n",
       "5  msQe1u7Z_XuqjGoqhB0J5g        0.0  \n",
       "6  msQe1u7Z_XuqjGoqhB0J5g        2.0  \n",
       "7  msQe1u7Z_XuqjGoqhB0J5g        2.0  \n",
       "8  msQe1u7Z_XuqjGoqhB0J5g        2.0  \n",
       "9  msQe1u7Z_XuqjGoqhB0J5g        0.0  "
      ]
     },
     "execution_count": 7,
     "metadata": {},
     "output_type": "execute_result"
    }
   ],
   "source": [
    "reviews.head(10)"
   ]
  },
  {
   "cell_type": "markdown",
   "metadata": {},
   "source": [
    "Before starting dataset should be splitted for training, validation and test set. This isn't valid for unsupervised model, where only test set will be used.\n",
    "To make sure that model isn't biased, we need to make sure that not only positive or negative/neutral comments are represented is dataset. \n",
    "To check it, we can plot a histogram for the \"stars\" column."
   ]
  },
  {
   "cell_type": "code",
   "execution_count": 62,
   "metadata": {},
   "outputs": [
    {
     "data": {
      "image/png": "[encoded data removed]",
      "text/plain": [
       "<Figure size 432x288 with 1 Axes>"
      ]
     },
     "metadata": {},
     "output_type": "display_data"
    }
   ],
   "source": [
    "reviews[\"stars\"].hist()\n",
    "plt.title('Number of reviews by stars')\n",
    "plt.xlabel('stars')\n",
    "plt.ylabel('number of reviews')\n",
    "plt.show()"
   ]
  },
  {
   "cell_type": "markdown",
   "metadata": {},
   "source": [
    "As shown on the histogram - **dataset is tend to have more positve comments**. In total we have around 4 mlns of positve comments, ~700k of neutral comments and almost 1 million and a half of negative. To prepare a good training set we should leave it proportinally.\n",
    "It means that some part of positive comments should be left outside of the dataset, it could be then used as well to test the algorithm. "
   ]
  },
  {
   "cell_type": "code",
   "execution_count": 9,
   "metadata": {},
   "outputs": [
    {
     "name": "stdout",
     "output_type": "stream",
     "text": [
      "Positives: 3977837, which is 65.0 % of the dataset \n"
     ]
    }
   ],
   "source": [
    "total_positives = reviews[reviews[\"sentiment\"] == 2.]\n",
    "print(f'Positives: {len(total_positives)}, which is {np.round(len(total_positives)/len(reviews), 2) * 100} % of the dataset ')"
   ]
  },
  {
   "cell_type": "markdown",
   "metadata": {},
   "source": [
    "Let's also create a comment lenght column, to make sure that those records that left behind don't have any pattern, for instance, they are short comments, or long comments"
   ]
  },
  {
   "cell_type": "code",
   "execution_count": 5,
   "metadata": {},
   "outputs": [],
   "source": [
    "reviews['length'] = [len(str(x)) for x in reviews['text']]"
   ]
  },
  {
   "cell_type": "code",
   "execution_count": 11,
   "metadata": {},
   "outputs": [
    {
     "data": {
      "text/plain": [
       "count    6.075267e+06\n",
       "mean     5.970125e+02\n",
       "std      5.665232e+02\n",
       "min      1.000000e+00\n",
       "25%      2.330000e+02\n",
       "50%      4.220000e+02\n",
       "75%      7.650000e+02\n",
       "max      5.354000e+03\n",
       "Name: length, dtype: float64"
      ]
     },
     "execution_count": 11,
     "metadata": {},
     "output_type": "execute_result"
    }
   ],
   "source": [
    "reviews.length.describe()"
   ]
  },
  {
   "cell_type": "markdown",
   "metadata": {},
   "source": [
    "The mean value for the length is around 600 symbols."
   ]
  },
  {
   "cell_type": "code",
   "execution_count": 63,
   "metadata": {},
   "outputs": [
    {
     "data": {
      "image/png": "[encoded data removed]",
      "text/plain": [
       "<Figure size 432x288 with 1 Axes>"
      ]
     },
     "metadata": {},
     "output_type": "display_data"
    }
   ],
   "source": [
    "reviews[\"length\"].hist()\n",
    "plt.title('All comments')\n",
    "plt.xlabel('length')\n",
    "plt.ylabel('Numberof comments')\n",
    "plt.show()"
   ]
  },
  {
   "cell_type": "code",
   "execution_count": 59,
   "metadata": {
    "scrolled": true
   },
   "outputs": [
    {
     "data": {
      "text/plain": [
       "Text(0.5,1,'Only positive comments')"
      ]
     },
     "execution_count": 59,
     "metadata": {},
     "output_type": "execute_result"
    },
    {
     "data": {
      "image/png": "[encoded data removed]",
      "text/plain": [
       "<Figure size 432x288 with 1 Axes>"
      ]
     },
     "metadata": {},
     "output_type": "display_data"
    }
   ],
   "source": [
    "#checking lenght for positive comments:\n",
    "total_positives = reviews[reviews[\"sentiment\"] == 2.]\n"
   ]
  },
  {
   "cell_type": "code",
   "execution_count": 64,
   "metadata": {},
   "outputs": [
    {
     "data": {
      "image/png": "[encoded data removed]",
      "text/plain": [
       "<Figure size 432x288 with 1 Axes>"
      ]
     },
     "metadata": {},
     "output_type": "display_data"
    }
   ],
   "source": [
    "total_positives[\"length\"].hist()\n",
    "plt.title('Only positive comments')\n",
    "plt.xlabel('length')\n",
    "plt.ylabel('Numberof comments')\n",
    "plt.show()"
   ]
  },
  {
   "cell_type": "code",
   "execution_count": 6,
   "metadata": {},
   "outputs": [],
   "source": [
    "reviews = reviews.loc[:, ('review_id', 'text', 'stars', 'sentiment', 'length')]"
   ]
  },
  {
   "cell_type": "markdown",
   "metadata": {},
   "source": [
    "As we can see by graphs above, they look more or less the same, however, the correlation between length and number of stars still should be checked.\n",
    "For this:\n",
    "1. Let's compute pairwise of columns;\n",
    "2. Let's build a stack bar chart with all five categories, which will be divided by bins beforehand."
   ]
  },
  {
   "cell_type": "code",
   "execution_count": 15,
   "metadata": {},
   "outputs": [
    {
     "data": {
      "text/plain": [
       "stars       -0.193202\n",
       "sentiment   -0.175908\n",
       "length       1.000000\n",
       "dtype: float64"
      ]
     },
     "execution_count": 15,
     "metadata": {},
     "output_type": "execute_result"
    }
   ],
   "source": [
    "reviews.corrwith(reviews['length'])"
   ]
  },
  {
   "cell_type": "markdown",
   "metadata": {},
   "source": [
    "As we can see above there is no correlation between number of stars and length.\n",
    "\n",
    "To build a stack bar chart, first I will split the dataset to the bins. 500 was taken as a bin size, so at the end there will be 11 bins."
   ]
  },
  {
   "cell_type": "code",
   "execution_count": 7,
   "metadata": {},
   "outputs": [
    {
     "data": {
      "text/plain": [
       "[0, 1, 2, 4, 3, ..., 9, 5, 6, 8, 10]\n",
       "Length: 11\n",
       "Categories (11, int64): [0 < 1 < 2 < 3 ... 7 < 8 < 9 < 10]"
      ]
     },
     "execution_count": 7,
     "metadata": {},
     "output_type": "execute_result"
    }
   ],
   "source": [
    "bins = pd.cut(reviews['length'], 11, labels=np.arange(11))\n",
    "reviews['bin'] = bins\n",
    "reviews['bin'].unique()"
   ]
  },
  {
   "cell_type": "code",
   "execution_count": 17,
   "metadata": {},
   "outputs": [
    {
     "data": {
      "text/html": [
       "<div>\n",
       "<style scoped>\n",
       "    .dataframe tbody tr th:only-of-type {\n",
       "        vertical-align: middle;\n",
       "    }\n",
       "\n",
       "    .dataframe tbody tr th {\n",
       "        vertical-align: top;\n",
       "    }\n",
       "\n",
       "    .dataframe thead th {\n",
       "        text-align: right;\n",
       "    }\n",
       "</style>\n",
       "<table border=\"1\" class=\"dataframe\">\n",
       "  <thead>\n",
       "    <tr style=\"text-align: right;\">\n",
       "      <th></th>\n",
       "      <th>review_id</th>\n",
       "      <th>text</th>\n",
       "      <th>stars</th>\n",
       "      <th>sentiment</th>\n",
       "      <th>length</th>\n",
       "      <th>bin</th>\n",
       "    </tr>\n",
       "  </thead>\n",
       "  <tbody>\n",
       "    <tr>\n",
       "      <th>0</th>\n",
       "      <td>x7mDIiDB3jEiPGPHOmDzyw</td>\n",
       "      <td>The pizza was okay. Not the best I've had. I p...</td>\n",
       "      <td>2.0</td>\n",
       "      <td>0.0</td>\n",
       "      <td>450</td>\n",
       "      <td>0</td>\n",
       "    </tr>\n",
       "    <tr>\n",
       "      <th>1</th>\n",
       "      <td>dDl8zu1vWPdKGihJrwQbpw</td>\n",
       "      <td>I love this place! My fiance And I go here atl...</td>\n",
       "      <td>5.0</td>\n",
       "      <td>2.0</td>\n",
       "      <td>317</td>\n",
       "      <td>0</td>\n",
       "    </tr>\n",
       "    <tr>\n",
       "      <th>2</th>\n",
       "      <td>LZp4UX5zK3e-c5ZGSeo3kA</td>\n",
       "      <td>Terrible. Dry corn bread. Rib tips were all fa...</td>\n",
       "      <td>1.0</td>\n",
       "      <td>0.0</td>\n",
       "      <td>156</td>\n",
       "      <td>0</td>\n",
       "    </tr>\n",
       "    <tr>\n",
       "      <th>3</th>\n",
       "      <td>Er4NBWCmCD4nM8_p1GRdow</td>\n",
       "      <td>Back in 2005-2007 this place was my FAVORITE t...</td>\n",
       "      <td>2.0</td>\n",
       "      <td>0.0</td>\n",
       "      <td>901</td>\n",
       "      <td>1</td>\n",
       "    </tr>\n",
       "    <tr>\n",
       "      <th>4</th>\n",
       "      <td>jsDu6QEJHbwP2Blom1PLCA</td>\n",
       "      <td>Delicious healthy food. The steak is amazing. ...</td>\n",
       "      <td>5.0</td>\n",
       "      <td>2.0</td>\n",
       "      <td>165</td>\n",
       "      <td>0</td>\n",
       "    </tr>\n",
       "    <tr>\n",
       "      <th>5</th>\n",
       "      <td>pfavA0hr3nyqO61oupj-lA</td>\n",
       "      <td>This place sucks. The customer service is horr...</td>\n",
       "      <td>1.0</td>\n",
       "      <td>0.0</td>\n",
       "      <td>467</td>\n",
       "      <td>0</td>\n",
       "    </tr>\n",
       "    <tr>\n",
       "      <th>6</th>\n",
       "      <td>brokEno2n7s4vrwmmUdr9w</td>\n",
       "      <td>If you like Thai food, you have to try the ori...</td>\n",
       "      <td>5.0</td>\n",
       "      <td>2.0</td>\n",
       "      <td>749</td>\n",
       "      <td>1</td>\n",
       "    </tr>\n",
       "    <tr>\n",
       "      <th>7</th>\n",
       "      <td>kUZWBVZvhWuC8TWUg5AYyA</td>\n",
       "      <td>AMAZING!!!\\r\\n\\r\\n I was referred here by a fr...</td>\n",
       "      <td>5.0</td>\n",
       "      <td>2.0</td>\n",
       "      <td>1200</td>\n",
       "      <td>2</td>\n",
       "    </tr>\n",
       "    <tr>\n",
       "      <th>8</th>\n",
       "      <td>wcqt0III88LEcm19IxFFyA</td>\n",
       "      <td>Ribs = amazing\\r\\n2 hour wait time= not so ama...</td>\n",
       "      <td>4.0</td>\n",
       "      <td>2.0</td>\n",
       "      <td>340</td>\n",
       "      <td>0</td>\n",
       "    </tr>\n",
       "    <tr>\n",
       "      <th>9</th>\n",
       "      <td>LWUtqzNthMM3vpWZIFBlPw</td>\n",
       "      <td>Food is pretty good, not gonna lie. BUT you ha...</td>\n",
       "      <td>2.0</td>\n",
       "      <td>0.0</td>\n",
       "      <td>1003</td>\n",
       "      <td>2</td>\n",
       "    </tr>\n",
       "  </tbody>\n",
       "</table>\n",
       "</div>"
      ],
      "text/plain": [
       "                review_id                                               text  \\\n",
       "0  x7mDIiDB3jEiPGPHOmDzyw  The pizza was okay. Not the best I've had. I p...   \n",
       "1  dDl8zu1vWPdKGihJrwQbpw  I love this place! My fiance And I go here atl...   \n",
       "2  LZp4UX5zK3e-c5ZGSeo3kA  Terrible. Dry corn bread. Rib tips were all fa...   \n",
       "3  Er4NBWCmCD4nM8_p1GRdow  Back in 2005-2007 this place was my FAVORITE t...   \n",
       "4  jsDu6QEJHbwP2Blom1PLCA  Delicious healthy food. The steak is amazing. ...   \n",
       "5  pfavA0hr3nyqO61oupj-lA  This place sucks. The customer service is horr...   \n",
       "6  brokEno2n7s4vrwmmUdr9w  If you like Thai food, you have to try the ori...   \n",
       "7  kUZWBVZvhWuC8TWUg5AYyA  AMAZING!!!\\r\\n\\r\\n I was referred here by a fr...   \n",
       "8  wcqt0III88LEcm19IxFFyA  Ribs = amazing\\r\\n2 hour wait time= not so ama...   \n",
       "9  LWUtqzNthMM3vpWZIFBlPw  Food is pretty good, not gonna lie. BUT you ha...   \n",
       "\n",
       "   stars  sentiment  length bin  \n",
       "0    2.0        0.0     450   0  \n",
       "1    5.0        2.0     317   0  \n",
       "2    1.0        0.0     156   0  \n",
       "3    2.0        0.0     901   1  \n",
       "4    5.0        2.0     165   0  \n",
       "5    1.0        0.0     467   0  \n",
       "6    5.0        2.0     749   1  \n",
       "7    5.0        2.0    1200   2  \n",
       "8    4.0        2.0     340   0  \n",
       "9    2.0        0.0    1003   2  "
      ]
     },
     "execution_count": 17,
     "metadata": {},
     "output_type": "execute_result"
    }
   ],
   "source": [
    "reviews.head(10)"
   ]
  },
  {
   "cell_type": "markdown",
   "metadata": {},
   "source": [
    "Next grouping everything by bin and stars and build a bar stack chart"
   ]
  },
  {
   "cell_type": "code",
   "execution_count": 18,
   "metadata": {},
   "outputs": [],
   "source": [
    "grouping = reviews.groupby(['bin', 'stars'])['review_id'].count().reset_index(level=[0, 1]).rename(columns={'review_id': 'count'})"
   ]
  },
  {
   "cell_type": "code",
   "execution_count": 61,
   "metadata": {},
   "outputs": [
    {
     "data": {
      "image/png": "[encoded data removed]",
      "text/plain": [
       "<Figure size 1080x720 with 1 Axes>"
      ]
     },
     "metadata": {},
     "output_type": "display_data"
    }
   ],
   "source": [
    "star_1 = grouping[grouping.stars == 1.].reset_index()\n",
    "star_2 = grouping[grouping.stars == 2.].reset_index()\n",
    "star_3 = grouping[grouping.stars == 3.].reset_index()\n",
    "star_4 = grouping[grouping.stars == 4.].reset_index()\n",
    "star_5 = grouping[grouping.stars == 5.].reset_index()\n",
    "barWidth = 1\n",
    "fig = plt.figure(figsize=(15, 10))\n",
    "plt.bar(star_1['bin'], star_1['count'], color='#7f6d5f', edgecolor='white', width=barWidth, label='1 star')\n",
    "plt.bar(star_1['bin'], star_2['count'], bottom=star_1['count'], color='blue', edgecolor='white', width=barWidth, label='2 stars')\n",
    "plt.bar(star_1['bin'], star_3['count'], bottom=star_2['count'], color='green', edgecolor='white', width=barWidth, label='3 stars')\n",
    "plt.bar(star_1['bin'], star_4['count'], bottom=star_3['count'], color='red', edgecolor='white', width=barWidth, label='4 stars')\n",
    "plt.bar(star_1['bin'], star_5['count'], bottom=star_4['count'], color='black', edgecolor='white', width=barWidth, label='5 stars')\n",
    "plt.ylabel('Number of reviews')\n",
    "plt.xlabel('bins')\n",
    "plt.legend()\n",
    "plt.show()\n"
   ]
  },
  {
   "cell_type": "markdown",
   "metadata": {},
   "source": [
    "This bar chart was built to identify if there is any tendency or correlation between length and number of stars. There is no clear correlation, \n",
    "but **interestingly** that still when comment is long - it's more likely that it's either 1 or 5 stars. Also there seem to be very few comments with 2 stars."
   ]
  },
  {
   "cell_type": "code",
   "execution_count": 8,
   "metadata": {},
   "outputs": [
    {
     "data": {
      "text/plain": [
       "5.0    2641880\n",
       "4.0    1335957\n",
       "1.0     870850\n",
       "3.0     673206\n",
       "2.0     487813\n",
       "0.0          1\n",
       "Name: stars, dtype: int64"
      ]
     },
     "execution_count": 8,
     "metadata": {},
     "output_type": "execute_result"
    }
   ],
   "source": [
    "reviews['stars'].value_counts()"
   ]
  },
  {
   "cell_type": "markdown",
   "metadata": {},
   "source": [
    "Let's check how many comments are blank, also let's check one comments with 0 stars - those comments will be removed from dataset"
   ]
  },
  {
   "cell_type": "code",
   "execution_count": 9,
   "metadata": {},
   "outputs": [
    {
     "data": {
      "text/html": [
       "<div>\n",
       "<style scoped>\n",
       "    .dataframe tbody tr th:only-of-type {\n",
       "        vertical-align: middle;\n",
       "    }\n",
       "\n",
       "    .dataframe tbody tr th {\n",
       "        vertical-align: top;\n",
       "    }\n",
       "\n",
       "    .dataframe thead th {\n",
       "        text-align: right;\n",
       "    }\n",
       "</style>\n",
       "<table border=\"1\" class=\"dataframe\">\n",
       "  <thead>\n",
       "    <tr style=\"text-align: right;\">\n",
       "      <th></th>\n",
       "      <th>review_id</th>\n",
       "      <th>text</th>\n",
       "      <th>stars</th>\n",
       "      <th>sentiment</th>\n",
       "      <th>length</th>\n",
       "      <th>bin</th>\n",
       "    </tr>\n",
       "  </thead>\n",
       "  <tbody>\n",
       "    <tr>\n",
       "      <th>4823211</th>\n",
       "      <td>QW01qOsaqlxMKoMazOw1Bg</td>\n",
       "      <td>NaN</td>\n",
       "      <td>0.0</td>\n",
       "      <td>0.0</td>\n",
       "      <td>3</td>\n",
       "      <td>0</td>\n",
       "    </tr>\n",
       "  </tbody>\n",
       "</table>\n",
       "</div>"
      ],
      "text/plain": [
       "                      review_id text  stars  sentiment  length bin\n",
       "4823211  QW01qOsaqlxMKoMazOw1Bg  NaN    0.0        0.0       3   0"
      ]
     },
     "execution_count": 9,
     "metadata": {},
     "output_type": "execute_result"
    }
   ],
   "source": [
    "reviews[reviews['stars'] == 0]"
   ]
  },
  {
   "cell_type": "code",
   "execution_count": 10,
   "metadata": {},
   "outputs": [],
   "source": [
    "reviews = reviews.drop([4823211], axis=0).reset_index(drop=True)"
   ]
  },
  {
   "cell_type": "code",
   "execution_count": 11,
   "metadata": {},
   "outputs": [
    {
     "data": {
      "text/plain": [
       "5.0    2641880\n",
       "4.0    1335957\n",
       "1.0     870850\n",
       "3.0     673206\n",
       "2.0     487813\n",
       "Name: stars, dtype: int64"
      ]
     },
     "execution_count": 11,
     "metadata": {},
     "output_type": "execute_result"
    }
   ],
   "source": [
    "reviews['stars'].value_counts()"
   ]
  },
  {
   "cell_type": "markdown",
   "metadata": {},
   "source": [
    "0 star row isn't represented in dataset anymore"
   ]
  },
  {
   "cell_type": "code",
   "execution_count": 12,
   "metadata": {},
   "outputs": [
    {
     "data": {
      "text/html": [
       "<div>\n",
       "<style scoped>\n",
       "    .dataframe tbody tr th:only-of-type {\n",
       "        vertical-align: middle;\n",
       "    }\n",
       "\n",
       "    .dataframe tbody tr th {\n",
       "        vertical-align: top;\n",
       "    }\n",
       "\n",
       "    .dataframe thead th {\n",
       "        text-align: right;\n",
       "    }\n",
       "</style>\n",
       "<table border=\"1\" class=\"dataframe\">\n",
       "  <thead>\n",
       "    <tr style=\"text-align: right;\">\n",
       "      <th></th>\n",
       "      <th>review_id</th>\n",
       "      <th>text</th>\n",
       "      <th>stars</th>\n",
       "      <th>sentiment</th>\n",
       "      <th>length</th>\n",
       "      <th>bin</th>\n",
       "    </tr>\n",
       "  </thead>\n",
       "  <tbody>\n",
       "  </tbody>\n",
       "</table>\n",
       "</div>"
      ],
      "text/plain": [
       "Empty DataFrame\n",
       "Columns: [review_id, text, stars, sentiment, length, bin]\n",
       "Index: []"
      ]
     },
     "execution_count": 12,
     "metadata": {},
     "output_type": "execute_result"
    }
   ],
   "source": [
    "reviews[reviews.length == 0]"
   ]
  },
  {
   "cell_type": "markdown",
   "metadata": {},
   "source": [
    "There was no empty comments in the dataset."
   ]
  },
  {
   "cell_type": "code",
   "execution_count": 13,
   "metadata": {},
   "outputs": [],
   "source": [
    "#Saving dataset\n",
    "reviews.to_csv('reviews.csv', sep=';', index=False)"
   ]
  },
  {
   "cell_type": "markdown",
   "metadata": {},
   "source": [
    "The work continues in 'capstonePreprocessing' jupyter workbook."
   ]
  },
  {
   "cell_type": "code",
   "execution_count": 114,
   "metadata": {},
   "outputs": [
    {
     "data": {
      "text/plain": [
       "[('X_train', 1719979235),\n",
       " ('X_val', 651275008),\n",
       " ('X_test', 644880041),\n",
       " ('indexes', 215555574),\n",
       " ('test_neu', 116873588),\n",
       " ('validate_neu', 116836424),\n",
       " ('text_data', 19836760),\n",
       " ('text_data_train', 19836760),\n",
       " ('y_train', 19821304),\n",
       " ('prep', 6871992),\n",
       " ('text_data_test', 6871992),\n",
       " ('y_test', 6607184),\n",
       " ('y_val', 6607176),\n",
       " ('bins', 6075779),\n",
       " ('corpus', 3813304),\n",
       " ('en_stop', 8416),\n",
       " ('CountVectorizer', 1464),\n",
       " ('grouping', 1464),\n",
       " ('English', 1184),\n",
       " ('WordNetLemmatizer', 1056),\n",
       " ('star_1', 787),\n",
       " ('star_2', 787),\n",
       " ('star_3', 787),\n",
       " ('star_4', 787),\n",
       " ('star_5', 787),\n",
       " ('t', 640),\n",
       " ('l', 432),\n",
       " ('s', 344),\n",
       " ('test', 344),\n",
       " ('str1', 292),\n",
       " ('tokens', 264),\n",
       " ('f', 216),\n",
       " ('fp', 176),\n",
       " ('get_lemma', 136),\n",
       " ('get_lemma2', 136),\n",
       " ('prepare_text', 136),\n",
       " ('read_convert_json', 136),\n",
       " ('file', 82),\n",
       " ('np', 80),\n",
       " ('pd', 80),\n",
       " ('plt', 80),\n",
       " ('sns', 80),\n",
       " ('path', 77),\n",
       " ('cv', 56),\n",
       " ('fig', 56),\n",
       " ('parser', 56),\n",
       " ('wn', 56),\n",
       " ('barWidth', 28)]"
      ]
     },
     "execution_count": 114,
     "metadata": {},
     "output_type": "execute_result"
    }
   ],
   "source": [
    "#Checking memory load\n",
    "import sys\n",
    "\n",
    "# These are the usual ipython objects, including this one you are creating\n",
    "ipython_vars = ['In', 'Out', 'exit', 'quit', 'get_ipython', 'ipython_vars']\n",
    "\n",
    "# Get a sorted list of the objects and their sizes\n",
    "sorted([(x, sys.getsizeof(globals().get(x))) for x in dir() if not x.startswith('_') and x not in sys.modules and x not in ipython_vars], key=lambda x: x[1], reverse=True)"
   ]
  }
 ],
 "metadata": {
  "kernelspec": {
   "display_name": "Python 3",
   "language": "python",
   "name": "python3"
  },
  "language_info": {
   "codemirror_mode": {
    "name": "ipython",
    "version": 3
   },
   "file_extension": ".py",
   "mimetype": "text/x-python",
   "name": "python",
   "nbconvert_exporter": "python",
   "pygments_lexer": "ipython3",
   "version": "3.6.5"
  }
 },
 "nbformat": 4,
 "nbformat_minor": 2
}
